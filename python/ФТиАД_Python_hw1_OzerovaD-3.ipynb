{
  "cells": [
    {
      "cell_type": "markdown",
      "id": "11fcf617",
      "metadata": {
        "id": "11fcf617"
      },
      "source": [
        "Всем привет!\n",
        "\n",
        "Это ваше первое домашнее задание))\n",
        "\n",
        "Списывать нельзя, гуглить можно)\n",
        "\n",
        "Что надо помнить: пишите код красиво, контролируйте код-стайл, нормальную структуру, импорты и все, что мы говорили на занятиях.\n",
        "\n",
        "Дедлайн: пятница 17 ноября в 23:59\n",
        "\n",
        "Решения на почту - skvortsovg@yandex.ru\n",
        "\n",
        "Пожалуйста, напишите в теме письма так: **ФТиАД23: python_дз1 Фамилия Имя**"
      ]
    },
    {
      "cell_type": "markdown",
      "id": "78d6b9ea",
      "metadata": {
        "id": "78d6b9ea"
      },
      "source": [
        "### Задача 1 (расстояние между точками на земле)\n",
        "\n",
        "Напишите программу, в которой пользователь будет вводить координаты двух точек на Земле (широту и долготу) в градусах. На выходе должно получиться расстояние между этими точками при следовании по кратчайшему пути по поверхности планеты.\n",
        "\n"
      ]
    },
    {
      "cell_type": "code",
      "execution_count": null,
      "id": "06eef44a",
      "metadata": {
        "colab": {
          "base_uri": "https://localhost:8080/"
        },
        "id": "06eef44a",
        "outputId": "7346395a-72e4-4fe2-d931-bb96f3b97af4"
      },
      "outputs": [
        {
          "output_type": "stream",
          "name": "stdout",
          "text": [
            "52.2296756\n",
            "21.0122287\n",
            "52.406374\n",
            "16.9251681\n",
            "Result distance:  278.54558935106695\n"
          ]
        }
      ],
      "source": [
        "from math import sin, cos, sqrt, atan2, radians\n",
        "\n",
        "R = 6373.0\n",
        "\n",
        "lat1, lon1 = radians(float(input())), radians(float(input()))\n",
        "lat2, lon2 = radians(float(input())), radians(float(input()))\n",
        "\n",
        "a = sin((lat2 - lat1) / 2)**2 + cos(lat1) * cos(lat2) * sin((lon2 - lon1) / 2)**2\n",
        "c = 2 * atan2(sqrt(a), sqrt(1 - a))\n",
        "\n",
        "print(\"Result distance: \", R * c)"
      ]
    },
    {
      "cell_type": "markdown",
      "id": "f082ea61",
      "metadata": {
        "id": "f082ea61"
      },
      "source": [
        "### Задача 2 (максимальная сумма)\n",
        "\n",
        "Ввести в столбик последовательность целых (положительных и отрицательных) чисел, не равных нулю; в конце этой последовательности стоит 0. Вывести наибольшую сумму последовательно идущих элементов этой последовательности (не менее одного).\n",
        "\n"
      ]
    },
    {
      "cell_type": "code",
      "execution_count": null,
      "id": "1018430c",
      "metadata": {
        "colab": {
          "base_uri": "https://localhost:8080/"
        },
        "id": "1018430c",
        "outputId": "55a24443-2760-40ed-a841-b84cd863bb70"
      },
      "outputs": [
        {
          "output_type": "stream",
          "name": "stdout",
          "text": [
            "-5\n",
            "-1\n",
            "-3\n",
            "0\n",
            "[-5, -1, -3] 3\n",
            "-1\n"
          ]
        }
      ],
      "source": [
        "lst = []\n",
        "while (a := int(input())):\n",
        "  if a == 0 : break\n",
        "  lst.append(a)\n",
        "print(lst, len(lst))\n",
        "\n",
        "max_sum, prev_sum, glob_max_sum = 0, 0, 0\n",
        "\n",
        "for i in range(0, len(lst)):\n",
        "  if i == 0:\n",
        "    max_sum = sum(lst)\n",
        "    glob_max_sum = max_sum\n",
        "  else:\n",
        "    max_sum = sum(lst[:i])\n",
        "    prev_sum = max_sum\n",
        "    for j in range(0, len(lst) - i):\n",
        "      max_sum = max_sum - lst[j] + lst[i+j]\n",
        "      if (prev_sum < max_sum):\n",
        "        prev_sum = max_sum\n",
        "    if prev_sum > glob_max_sum:\n",
        "      glob_max_sum = prev_sum\n",
        "print(glob_max_sum)\n"
      ]
    },
    {
      "cell_type": "markdown",
      "id": "1744bcff",
      "metadata": {
        "id": "1744bcff"
      },
      "source": [
        "### Задача 3 (сумма кубов)\n",
        "\n",
        "Ввести натуральное число N и вывести, сколько существует различных пар натуральных чисел A и B: A³+B³=N (с точностью до перестановки).  Вещественные операции (например, кубический корень) рекомендуется использовать как можно реже."
      ]
    },
    {
      "cell_type": "code",
      "source": [
        "!pip install gmpy2\n"
      ],
      "metadata": {
        "colab": {
          "base_uri": "https://localhost:8080/"
        },
        "id": "W7FUyTWo5g7I",
        "outputId": "62664deb-19c4-4d30-9b27-2b6a33ca15ed"
      },
      "id": "W7FUyTWo5g7I",
      "execution_count": null,
      "outputs": [
        {
          "output_type": "stream",
          "name": "stdout",
          "text": [
            "Collecting gmpy2\n",
            "  Downloading gmpy2-2.1.5-cp310-cp310-manylinux_2_17_x86_64.manylinux2014_x86_64.whl (1.7 MB)\n",
            "\u001b[2K     \u001b[90m━━━━━━━━━━━━━━━━━━━━━━━━━━━━━━━━━━━━━━━━\u001b[0m \u001b[32m1.7/1.7 MB\u001b[0m \u001b[31m15.4 MB/s\u001b[0m eta \u001b[36m0:00:00\u001b[0m\n",
            "\u001b[?25hInstalling collected packages: gmpy2\n",
            "Successfully installed gmpy2-2.1.5\n"
          ]
        }
      ]
    },
    {
      "cell_type": "code",
      "execution_count": null,
      "id": "d50b51b1",
      "metadata": {
        "colab": {
          "base_uri": "https://localhost:8080/"
        },
        "id": "d50b51b1",
        "outputId": "7dd3f5d6-2449-431c-87ab-4afb04d02c21"
      },
      "outputs": [
        {
          "output_type": "stream",
          "name": "stdout",
          "text": [
            "128\n",
            "1\n"
          ]
        }
      ],
      "source": [
        "import gmpy2\n",
        "\n",
        "N = int(input())\n",
        "pairs_count = 0\n",
        "for  i in range(int(N ** (1/3))):\n",
        "  #print(i, gmpy2.root((N - i**3), 3))\n",
        "  if gmpy2.root((N - i**3), 3) % 1 == 0:\n",
        "    pairs_count += 1\n",
        "print(pairs_count)"
      ]
    },
    {
      "cell_type": "markdown",
      "id": "babe76f4",
      "metadata": {
        "id": "babe76f4"
      },
      "source": [
        "### Задача 4 (Разложение на множители)\n",
        "Ввести произвольное натуральное число, не превосходящее 1000000000\n",
        "\n",
        "Вывести (через «*») все его разложения на натуральные сомножители, превосходящие 1, без учёта перестановок. Сомножители в каждом разложении и сами разложения (как последовательности) при выводе должны быть упорядочены по возрастанию. Само число также считается разложением."
      ]
    },
    {
      "cell_type": "code",
      "source": [
        "def multipliers(N, prev_st=''):\n",
        "  lst = []\n",
        "  for i in range(2, int(N ** 0.5)+1):\n",
        "    if N % i == 0:\n",
        "      if prev_st == '':\n",
        "        multipliers(int(N // i), str(i))\n",
        "        print(str(i) + '*' + str(int(N // i)))\n",
        "      else:\n",
        "        multipliers(int(N // i), prev_st +'*' + str(i))\n",
        "        num_str = prev_st + '*' + str(i) + '*' + str(int(N // i))\n",
        "\n",
        "        if sorted(num_str.split('*')) == num_str.split('*'):\n",
        "          print( prev_st + '*' + str(i) + '*' + str(int(N // i)))\n",
        "      lst.append(int(N // i))\n",
        "  if prev_st == '':\n",
        "    print(str(N))\n",
        "\n",
        "N = int(input())\n",
        "multipliers(N)\n"
      ],
      "metadata": {
        "colab": {
          "base_uri": "https://localhost:8080/"
        },
        "id": "eaYmJ71nPpAP",
        "outputId": "872e0756-24a8-46cb-e701-0a83998eee8e"
      },
      "id": "eaYmJ71nPpAP",
      "execution_count": null,
      "outputs": [
        {
          "output_type": "stream",
          "name": "stdout",
          "text": [
            "12\n",
            "2*2*3\n",
            "2*6\n",
            "3*4\n",
            "12\n"
          ]
        }
      ]
    },
    {
      "cell_type": "markdown",
      "id": "f5a61434",
      "metadata": {
        "id": "f5a61434"
      },
      "source": [
        "### Задача 5 (Переворот числа)\n",
        "Пусть на вход дается челое 32-х битное число (может быть и отрицательное)\n",
        "\n",
        "Необходимо вернуть его перевернутую версию, например, для числа -123 ответом будет -321, а для числа -1 будет 1, а для 10101010 - 101010\n",
        "\n",
        "Пользоваться строковыми методами *нельзя*"
      ]
    },
    {
      "cell_type": "code",
      "execution_count": 15,
      "id": "6657b0f2",
      "metadata": {
        "id": "6657b0f2",
        "colab": {
          "base_uri": "https://localhost:8080/"
        },
        "outputId": "e55bfd35-2be4-493d-e15b-0282ee9ec9a3"
      },
      "outputs": [
        {
          "output_type": "stream",
          "name": "stdout",
          "text": [
            "-1\n",
            "-1\n"
          ]
        }
      ],
      "source": [
        "n = [*input()]\n",
        "\n",
        "for i in range(len(n) // 2 ):\n",
        "  n[i], n[len(n) - i - 1] = n[len(n) - i - 1], n[i]\n",
        "\n",
        "if n[-1] == '-':\n",
        "  n[-1] = ''\n",
        "  print('-' +''.join(n))\n",
        "else:\n",
        "  print(''.join(n))\n"
      ]
    },
    {
      "cell_type": "markdown",
      "id": "2d504bd6",
      "metadata": {
        "id": "2d504bd6"
      },
      "source": [
        "### Задача 6 (Перевод числа в римской записи а арабскую):\n",
        "\n",
        "На вход подается строка, представляющая натуральное число в римской записи (из символов I, V, X, C, L, M). Требуется представить его в арабской записи. Подробнее про арабские числа можно почитать на [википедии](https://ru.wikipedia.org/wiki/%D0%A0%D0%B8%D0%BC%D1%81%D0%BA%D0%B8%D0%B5_%D1%86%D0%B8%D1%84%D1%80%D1%8B)"
      ]
    },
    {
      "cell_type": "code",
      "execution_count": 59,
      "id": "ac7aa1fa",
      "metadata": {
        "id": "ac7aa1fa",
        "colab": {
          "base_uri": "https://localhost:8080/"
        },
        "outputId": "76588b03-5b03-4042-e8d4-52c122d18180"
      },
      "outputs": [
        {
          "output_type": "stream",
          "name": "stdout",
          "text": [
            "MCMLI\n",
            "1951\n"
          ]
        }
      ],
      "source": [
        "dct = {\"I\" : 1,  \"V\": 5,  \"X\": 10,  \"L\": 50,\n",
        "      \"C\": 100,  \"D\": 500, \"M\": 1000\n",
        "    };\n",
        "\n",
        "def get_arab_num(roman_num):\n",
        "  arab_num = dct[roman_num[0]]\n",
        "  for i in range(1, len(roman_num)):\n",
        "    arab_num += dct[roman_num[i]]\n",
        "    if dct[roman_num[i - 1]] < dct[roman_num[i]]:\n",
        "        arab_num -=  2 * dct[roman_num[i - 1]]\n",
        "  return arab_num\n",
        "\n",
        "\n",
        "print(get_arab_num(input()))"
      ]
    },
    {
      "cell_type": "markdown",
      "id": "9a5394dc",
      "metadata": {
        "id": "9a5394dc"
      },
      "source": [
        "### Задача 7 (Группировка итератора)\n",
        "\n",
        "Напишите итератор (вспомните про **yield**), которая возвращает строку длины N\n",
        "\n",
        "Напишите вспомогательную функцию, которая будет принимать результат итератора и комбинировать его в чанки заданной длины\n"
      ]
    },
    {
      "cell_type": "code",
      "execution_count": null,
      "id": "51e53410",
      "metadata": {
        "colab": {
          "base_uri": "https://localhost:8080/"
        },
        "id": "51e53410",
        "outputId": "faccae31-7146-435a-8013-4e43a96c7d57"
      },
      "outputs": [
        {
          "output_type": "stream",
          "name": "stdout",
          "text": [
            "['a']\n",
            "['aa']\n",
            "['aaa']\n",
            "['aaa', 'a']\n",
            "['aaa', 'aa']\n",
            "['aaa', 'aaa']\n",
            "['aaa', 'aaa', 'a']\n",
            "['aaa', 'aaa', 'aa']\n",
            "['aaa', 'aaa', 'aaa']\n",
            "['aaa', 'aaa', 'aaa', 'a']\n"
          ]
        }
      ],
      "source": [
        "def my_string_generator(N):\n",
        "  #yield 'a' * N\n",
        "  gen_str = 'a'\n",
        "  for i in range(N):\n",
        "    yield gen_str\n",
        "    gen_str += 'a'\n",
        "\n",
        "def chanker(iterable, chunk_size=2) -> tuple:\n",
        "  for st in iterable:\n",
        "    res = []\n",
        "    for i in range(0, len(st), chunk_size):\n",
        "      res.append(st[i:i + chunk_size])\n",
        "    yield res\n",
        "\n",
        "\n",
        "N = 10\n",
        "chank_size=3\n",
        "\n",
        "for chank in chanker(my_string_generator(N), 3):\n",
        "    print(chank)\n"
      ]
    },
    {
      "cell_type": "markdown",
      "id": "c38998a1",
      "metadata": {
        "id": "c38998a1"
      },
      "source": [
        "### Задача 8 (Декоратор-ретрай)\n",
        "\n",
        "Напишите функцию, которая принимает число N и с вероятностью 1/N возвращает строку, а в остальных случаях порождает исключение.\n",
        "\n",
        "Напишите декоратор, который пытается выполнить функцию заданное кол-во раз и задекорируйте ее.\n"
      ]
    },
    {
      "cell_type": "code",
      "execution_count": null,
      "id": "fa80bb16",
      "metadata": {
        "colab": {
          "base_uri": "https://localhost:8080/"
        },
        "id": "fa80bb16",
        "outputId": "4a29e07c-399c-4a5b-d9bc-8a1d0ff67539"
      },
      "outputs": [
        {
          "output_type": "stream",
          "name": "stdout",
          "text": [
            "0.3028045309094757\n",
            "exception\n"
          ]
        }
      ],
      "source": [
        "import random\n",
        "\n",
        "def dec_retry(func):\n",
        "  def wrapper(N):\n",
        "    try:\n",
        "      for i in range(N):\n",
        "        func(N)\n",
        "    except NameError:\n",
        "      print('exception')\n",
        "  return wrapper\n",
        "\n",
        "@dec_retry\n",
        "def retry(N):\n",
        "  r = random.uniform(0, 1)\n",
        "  if r < 1/N:\n",
        "    print(r)\n",
        "    return 'DecoratorRetryError'\n",
        "  raise NameError('DecoratorRetryError')\n",
        "\n",
        "retry(2)"
      ]
    },
    {
      "cell_type": "markdown",
      "id": "85cb492e",
      "metadata": {
        "id": "85cb492e"
      },
      "source": [
        "### Задание 9 (Использование паттера Singleton)\n",
        "\n",
        "Найдите на github примеры кода (5 штук), где применяется паттерн singleton. У репозитория, в которым вы ищите, должно быть более 10 звездочек.\n",
        "\n",
        "Ниже вставьте примеры такого кода (5 штук) и напишите где именно используется паттерн и зачем"
      ]
    },
    {
      "cell_type": "code",
      "execution_count": null,
      "id": "150b8bfd",
      "metadata": {
        "id": "150b8bfd"
      },
      "outputs": [],
      "source": [
        "https://github.com/reyoung/singleton\n",
        "https://github.com/lazybird/django-solo\n",
        "https://github.com/boberle/cofr\n",
        "https://github.com/ets-labs/python-dependency-injector\n",
        "https://github.com/stoic1979/PyLogger"
      ]
    },
    {
      "cell_type": "markdown",
      "id": "9426bdf7",
      "metadata": {
        "id": "9426bdf7"
      },
      "source": [
        "### Задача 10 (Решатель судоку)\n",
        "\n",
        "Напишите программу, которая принимает матричку 9*9 (список списков), которая представляет собой кроссворд-судоку.\n",
        "В местах, куда надо вставить значения - -**1**\n",
        "\n",
        "И напишите функцию (функции), которые решают судоку и выводят результат"
      ]
    },
    {
      "cell_type": "code",
      "execution_count": 9,
      "id": "ffac77f0",
      "metadata": {
        "id": "ffac77f0",
        "colab": {
          "base_uri": "https://localhost:8080/"
        },
        "outputId": "2aafcf0b-a24e-40f6-8ac8-c25de1202027"
      },
      "outputs": [
        {
          "output_type": "stream",
          "name": "stdout",
          "text": [
            "[[5 3 4 6 7 8 1 9 2]\n",
            " [6 7 2 1 9 5 3 4 8]\n",
            " [1 9 8 3 4 2 5 6 7]\n",
            " [8 5 9 7 6 1 4 2 3]\n",
            " [4 2 6 8 5 3 9 7 1]\n",
            " [7 1 3 9 2 4 8 5 6]\n",
            " [9 6 1 5 3 7 2 8 4]\n",
            " [2 8 7 4 1 9 6 3 5]\n",
            " [3 4 5 2 8 6 7 1 9]]\n",
            "[[5 3 4 6 7 8 9 1 2]\n",
            " [6 7 2 1 9 5 3 4 8]\n",
            " [1 9 8 3 4 2 5 6 7]\n",
            " [8 5 9 7 6 1 4 2 3]\n",
            " [4 2 6 8 5 3 7 9 1]\n",
            " [7 1 3 9 2 4 8 5 6]\n",
            " [9 6 1 5 3 7 2 8 4]\n",
            " [2 8 7 4 1 9 6 3 5]\n",
            " [3 4 5 2 8 6 1 7 9]]\n"
          ]
        }
      ],
      "source": [
        "import numpy as np\n",
        "\n",
        "grid = [[5,3,0,0,7,0,0,0,0],\n",
        "        [6,0,0,1,9,5,0,0,0],\n",
        "        [0,9,8,0,0,0,0,6,0],\n",
        "        [8,0,0,0,6,0,0,0,3],\n",
        "        [4,0,0,8,0,3,0,0,1],\n",
        "        [7,0,0,0,2,0,0,0,6],\n",
        "        [0,6,0,0,0,0,2,8,0],\n",
        "        [0,0,0,0,1,9,0,0,5],\n",
        "        [0,0,0,0,0,0,0,0,0]]\n",
        "\n",
        "def possible(row, column, number):\n",
        "    global grid\n",
        "    for i in range(0,9):\n",
        "        if grid[row][i] == number:\n",
        "            return False\n",
        "    for i in range(0,9):\n",
        "        if grid[i][column] == number:\n",
        "            return False\n",
        "    x0 = (column // 3) * 3\n",
        "    y0 = (row // 3) * 3\n",
        "    for i in range(0,3):\n",
        "        for j in range(0,3):\n",
        "            if grid[y0+i][x0+j] == number:\n",
        "                return False\n",
        "    return True\n",
        "\n",
        "def solve():\n",
        "    global grid\n",
        "    for row in range(0,9):\n",
        "        for column in range(0,9):\n",
        "            if grid[row][column] == 0:\n",
        "                for number in range(1,10):\n",
        "                    if possible(row, column, number):\n",
        "                        grid[row][column] = number\n",
        "                        solve()\n",
        "                        grid[row][column] = 0\n",
        "                return\n",
        "    print(np.matrix(grid))\n",
        "\n",
        "solve()\n",
        "\n"
      ]
    },
    {
      "cell_type": "markdown",
      "id": "248cd2e9",
      "metadata": {
        "id": "248cd2e9"
      },
      "source": [
        "### Задача 11 (сколько гостей было в отеле одномоментно)\n",
        "Представьте, что вы - менеджер отеля и хотите знать, сколько гостей было в отеле максимально за весь период.\n",
        "\n",
        "Каждый гость характеризуется тюплом (day_start, day_end), который показывает, когда гость заселился и выселился из отеля. Имейте в виду, что время заселения всегда больше, чем время выселения, то есть гости (1, 6) и (6, 8) не пересекались друг с другом.\n",
        "\n",
        "Напишите функцию, которая позволяет определить, сколько гостей в отеле было максимально. Входные данные вышей функции - список из тюплов.\n",
        "\n",
        "Примеры:\n",
        "\n",
        "    1. [(0, 1), (1, 2), (0, 3)] -> 2\n",
        "    2. [(10, 20), (5, 7), (5, 20), (20, 21)] -> 3"
      ]
    },
    {
      "cell_type": "code",
      "execution_count": 90,
      "id": "4498c2b7",
      "metadata": {
        "id": "4498c2b7",
        "colab": {
          "base_uri": "https://localhost:8080/"
        },
        "outputId": "cf937771-cf47-4daa-86f5-a27469a2b026"
      },
      "outputs": [
        {
          "output_type": "stream",
          "name": "stdout",
          "text": [
            "2\n"
          ]
        }
      ],
      "source": [
        "hotel = {}\n",
        "\n",
        "guests = [(10, 20), (5, 7), (5, 20), (20, 21)]\n",
        "min_day = min(guests, key = lambda item: item[0])[0]\n",
        "max_day = max(guests, key = lambda item: item[1])[1]\n",
        "for i in range(min_day, max_day):\n",
        "  hotel[i] = 0\n",
        "for g in guests:\n",
        "  for i in range(g[0], g[1]):\n",
        "    hotel[i] += 1\n",
        "\n",
        "#print(hotel)\n",
        "print(max(hotel.values()))"
      ]
    },
    {
      "cell_type": "code",
      "source": [
        "guests = [(10, 20), (5, 7), (5, 20), (20, 21)]\n",
        "min_day = min(guests, key = lambda item: item[0])[0]\n",
        "max_day = max(guests, key = lambda item: item[1])[1]\n",
        "\n",
        "for g in guests:\n",
        "  for i in range(min_day, g[0]):\n",
        "    print('o', end='')\n",
        "  for i in range(g[0], g[1]):\n",
        "    print('-', end='') #присутствие гостя в отеле\n",
        "  for i in range(g[1], max_day):\n",
        "    print('o', end='')\n",
        "  print()"
      ],
      "metadata": {
        "colab": {
          "base_uri": "https://localhost:8080/"
        },
        "id": "qC8PRtxWem-P",
        "outputId": "968bf27e-885e-4dd6-d47d-13dc08a477e3"
      },
      "id": "qC8PRtxWem-P",
      "execution_count": 91,
      "outputs": [
        {
          "output_type": "stream",
          "name": "stdout",
          "text": [
            "ooooo----------o\n",
            "--oooooooooooooo\n",
            "---------------o\n",
            "ooooooooooooooo-\n"
          ]
        }
      ]
    },
    {
      "cell_type": "markdown",
      "source": [
        "На рисунке выше максимальное число пересечений отрезков одновременно - 2, день выезда гостя - o, т. е. считаем, что он отсутствовал (исходя из условия). Тогда правильный ответ в примере 2 - 2\n"
      ],
      "metadata": {
        "id": "jEFLGoCSfza0"
      },
      "id": "jEFLGoCSfza0"
    },
    {
      "cell_type": "markdown",
      "id": "137f0bc6",
      "metadata": {
        "id": "137f0bc6"
      },
      "source": [
        "### Задача 12 (проверка на центр отрезка)\n",
        "\n",
        "Пусть у вас есть 3 числа - первые два задают начало и конец отрезка, а третье - предполагаемую середину. Все вводные значения - float\n",
        "\n",
        "Необходимо написать функцию, которая проверяет, является ли третье число серединой отрезка.\n"
      ]
    },
    {
      "cell_type": "code",
      "execution_count": 67,
      "id": "f62dd431",
      "metadata": {
        "id": "f62dd431",
        "colab": {
          "base_uri": "https://localhost:8080/"
        },
        "outputId": "38b2fcb3-271c-4c7a-a833-7eabb6617dd9"
      },
      "outputs": [
        {
          "output_type": "stream",
          "name": "stdout",
          "text": [
            "-1 10\n",
            "5 -2\n",
            "2 4\n",
            "True\n"
          ]
        }
      ],
      "source": [
        "x1, y1 = [int(x) for x in input().split()]\n",
        "x2, y2 = [int(x) for x in input().split()]\n",
        "x3, y3 = [int(x) for x in input().split()]\n",
        "\n",
        "def middle(a, b):\n",
        "  if a*b > 0:\n",
        "    return (a + b) / 2\n",
        "  return (abs(a) + abs(b)) / 2 + min(a, b)\n",
        "\n",
        "def check_middle(x1, y1, x2, y2, x3, y3):\n",
        "  #print(x1, x2, middle(x1, x2))\n",
        "  #print(y1, y2, middle(y1, y2))\n",
        "  if x3 == middle(x1, x2) and  y3 == middle(y1, y2):\n",
        "    return True\n",
        "  return False\n",
        "\n",
        "print(check_middle(x1, y1, x2, y2, x3, y3))\n"
      ]
    },
    {
      "cell_type": "markdown",
      "id": "f4d56a8b",
      "metadata": {
        "id": "f4d56a8b"
      },
      "source": [
        "### Задача 13 (классы)\n",
        "\n",
        "Это задача дает большой простор для креатива. Вам надо написать класс (или классы), где вы продемонстрируйте владение такими штуками, как проперти, классметод, статикметод, магические методы (достаточно показать владение несколькими из них)."
      ]
    },
    {
      "cell_type": "code",
      "execution_count": 18,
      "id": "7886610e",
      "metadata": {
        "id": "7886610e"
      },
      "outputs": [],
      "source": [
        "class ClassDescriptor(object):\n",
        "\n",
        "    def __init__(self, fget, fset=None):\n",
        "        self.fget = fget\n",
        "        self.fset = fset\n",
        "\n",
        "    def __get__(self, obj, klass=None):\n",
        "        if klass is None:\n",
        "            klass = type(obj)\n",
        "        return self.fget.__get__(obj, klass)()\n",
        "\n",
        "    def __set__(self, obj, value):\n",
        "        type_ = type(obj)\n",
        "        return self.fset.__get__(obj, type_)(value)\n",
        "\n",
        "    def setter(self, func):\n",
        "        if not isinstance(func, (classmethod, staticmethod)):\n",
        "            func = classmethod(func)\n",
        "        self.fset = func\n",
        "        return self\n",
        "\n",
        "def classdesc(func):\n",
        "    if not isinstance(func, (classmethod, staticmethod)):\n",
        "        func = classmethod(func)\n",
        "\n",
        "    return ClassDescriptor(func)\n",
        "\n",
        "\n",
        "class Bar(object):\n",
        "\n",
        "    _bar = 1\n",
        "\n",
        "    @classdesc\n",
        "    def bar(cls):\n",
        "        return cls._bar\n",
        "\n",
        "    @bar.setter\n",
        "    def bar(cls, value):\n",
        "        cls._bar = value\n",
        "\n",
        "\n",
        "# test instance instantiation\n",
        "foo = Bar()\n",
        "assert foo.bar == 1\n",
        "\n",
        "baz = Bar()\n",
        "assert baz.bar == 1\n",
        "\n",
        "# test static variable\n",
        "baz.bar = 5\n",
        "assert foo.bar == 5\n",
        "\n",
        "# test setting variable on the class\n",
        "Bar.bar = 50\n",
        "assert baz.bar == 50\n",
        "assert foo.bar == 50"
      ]
    }
  ],
  "metadata": {
    "kernelspec": {
      "display_name": "Python 3 (ipykernel)",
      "language": "python",
      "name": "python3"
    },
    "language_info": {
      "codemirror_mode": {
        "name": "ipython",
        "version": 3
      },
      "file_extension": ".py",
      "mimetype": "text/x-python",
      "name": "python",
      "nbconvert_exporter": "python",
      "pygments_lexer": "ipython3",
      "version": "3.9.6"
    },
    "colab": {
      "provenance": []
    }
  },
  "nbformat": 4,
  "nbformat_minor": 5
}