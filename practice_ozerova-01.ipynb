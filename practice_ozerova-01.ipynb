{
 "cells": [
  {
   "cell_type": "markdown",
   "metadata": {
    "id": "aSWEcS2XKgzi"
   },
   "source": [
    "### Practice: Large Language Models and Their Implications\n",
    "<!-- ![img](https://substackcdn.com/image/fetch/f_auto,q_auto:good,fl_progressive:steep/https%3A%2F%2Fbucketeer-e05bbc84-baa3-437e-9518-adb32be77984.s3.amazonaws.com%2Fpublic%2Fimages%2F4470ce74-e595-4750-92a5-5f21f040df6d_577x432.jpeg) -->\n",
    "![img](https://i.imgur.com/QGYa2J8.jpeg)\n",
    "\n",
    "In this notebook, you're gonna play with some of the largest language models on the Internet.\n",
    "\n",
    "_Based on works of: Tim Dettmers, Ruslan Svirschevsky, Artem Chumachenko, Younes Belkada, Felix Marty, Yulian Gilyazev, Gosha Zolotov, Andrey Ishutin,  Elena Volf, Artemiy Vishnyakov, Svetlana Shirokovskih."
   ]
  },
  {
   "cell_type": "markdown",
   "metadata": {
    "id": "1jYrxHF8Kgzl"
   },
   "source": [
    "### Part 1: prompt engineering (4 points total)\n",
    "\n",
    "In the assignment, we'll use public APIs that host the 100B+ models for inference. Your task is to prompt-engineer the model into solving a few tasks for you.\n",
    "\n",
    "\n",
    "__Which API?__ You are free to use any publicly available API for general LM -- as long as it's __not a chat assistant__. So, gpt 3.5 is fine, but chatGPT is not. Here's a few options:\n",
    "\n",
    "- BLOOM API - [bigscience/bloom](https://huggingface.co/bigscience/bloom) (on the right; recommended)\n",
    "- OpenAI API (via VPN) - [openai.com/api](https://openai.com/api/)\n",
    "- AI21 Jurrasic API - [ai21.com](https://www.ai21.com/blog/announcing-ai21-studio-and-jurassic-1)\n",
    "\n",
    "These APIs may require you to create a (free) account on their platform. Please note that some APIs also have paid subscriptions. __You do not need to pay them__, this assignment was designed to be solved using free-tier subscriptions. If no APIs work for you, you can also solve these tasks with the 6.7B model that you will find later in this notebook - but this will make the tasks somewhat harder.\n",
    "\n",
    "__Quests:__ you will need to solve 4 problems. For each one, please attach a short __description__ of your solution and a __screenshot__ from the API you use. _[If you use python APIs, show your python code with outputs]_\n",
    "\n",
    "__Example:__ Tony is talking to Darth Vader ([BLOOM API](https://huggingface.co/bigscience/bloom)). Black text is written manually, blue text is generated.\n",
    "<hr>\n",
    "\n",
    "![img](https://i.imgur.com/a1QhKF7.png)\n",
    "<hr>\n",
    "\n",
    "__It is fine to roll back a few times,__ e.g. in the example above, the model first generated Vader lines twice in a row, and we rolled that back. However, if you need more than 1-2 rollbacks per session, you should probably try a different prompt."
   ]
  },
  {
   "cell_type": "code",
   "execution_count": 1,
   "metadata": {},
   "outputs": [
    {
     "name": "stderr",
     "output_type": "stream",
     "text": [
      "/home/daozerova/.conda/envs/fl/lib/python3.9/site-packages/transformers/utils/generic.py:481: UserWarning: torch.utils._pytree._register_pytree_node is deprecated. Please use torch.utils._pytree.register_pytree_node instead.\n",
      "  _torch_pytree._register_pytree_node(\n",
      "You are using the default legacy behaviour of the <class 'transformers.models.llama.tokenization_llama.LlamaTokenizer'>. This is expected, and simply means that the `legacy` (previous) behavior will be used so nothing changes for you. If you want to use the new behaviour, set `legacy=False`. This should only be set if you understand what it means, and thoroughly read the reason why this was added as explained in https://github.com/huggingface/transformers/pull/24565\n",
      "You are using the default legacy behaviour of the <class 'transformers.models.llama.tokenization_llama_fast.LlamaTokenizerFast'>. This is expected, and simply means that the `legacy` (previous) behavior will be used so nothing changes for you. If you want to use the new behaviour, set `legacy=False`. This should only be set if you understand what it means, and thoroughly read the reason why this was added as explained in https://github.com/huggingface/transformers/pull/24565\n",
      "/home/daozerova/.conda/envs/fl/lib/python3.9/site-packages/transformers/utils/generic.py:338: UserWarning: torch.utils._pytree._register_pytree_node is deprecated. Please use torch.utils._pytree.register_pytree_node instead.\n",
      "  _torch_pytree._register_pytree_node(\n",
      "/home/daozerova/.conda/envs/fl/lib/python3.9/site-packages/transformers/utils/generic.py:338: UserWarning: torch.utils._pytree._register_pytree_node is deprecated. Please use torch.utils._pytree.register_pytree_node instead.\n",
      "  _torch_pytree._register_pytree_node(\n"
     ]
    },
    {
     "data": {
      "application/json": {
       "ascii": false,
       "bar_format": null,
       "colour": null,
       "elapsed": 0.0384218692779541,
       "initial": 0,
       "n": 0,
       "ncols": null,
       "nrows": null,
       "postfix": null,
       "prefix": "Loading checkpoint shards",
       "rate": null,
       "total": 33,
       "unit": "it",
       "unit_divisor": 1000,
       "unit_scale": false
      },
      "application/vnd.jupyter.widget-view+json": {
       "model_id": "4f8472bc628b4d4a91e0a2a049f1f377",
       "version_major": 2,
       "version_minor": 0
      },
      "text/plain": [
       "Loading checkpoint shards:   0%|          | 0/33 [00:00<?, ?it/s]"
      ]
     },
     "metadata": {},
     "output_type": "display_data"
    },
    {
     "data": {
      "application/json": {
       "ascii": false,
       "bar_format": null,
       "colour": null,
       "elapsed": 0.014646291732788086,
       "initial": 0,
       "n": 0,
       "ncols": null,
       "nrows": null,
       "postfix": null,
       "prefix": "generation_config.json",
       "rate": null,
       "total": 151,
       "unit": "B",
       "unit_divisor": 1000,
       "unit_scale": true
      },
      "application/vnd.jupyter.widget-view+json": {
       "model_id": "eb4b7a1d5df7459ead2f7d4d3fe2af36",
       "version_major": 2,
       "version_minor": 0
      },
      "text/plain": [
       "generation_config.json:   0%|          | 0.00/151 [00:00<?, ?B/s]"
      ]
     },
     "metadata": {},
     "output_type": "display_data"
    }
   ],
   "source": [
    "from transformers import AutoTokenizer, AutoModelForCausalLM\n",
    "import torch\n",
    "\n",
    "model_name = \"Enoch/llama-7b-hf\"\n",
    "tokenizer = AutoTokenizer.from_pretrained(model_name)\n",
    "model = AutoModelForCausalLM.from_pretrained(\n",
    "    model_name,\n",
    "    device_map='auto',\n",
    "    torch_dtype=torch.float16,\n",
    "    low_cpu_mem_usage=True,\n",
    "    offload_state_dict=True\n",
    ")\n",
    "\n",
    "def generate_text(prompt, max_length=100):\n",
    "    inputs = tokenizer(prompt, return_tensors=\"pt\")\n",
    "    \n",
    "    outputs = model.generate(\n",
    "        inputs[\"input_ids\"].to(\"cuda\"),\n",
    "        max_length=max_length,\n",
    "        temperature=0.7,\n",
    "        top_p=0.9,\n",
    "        do_sample=True,\n",
    "        pad_token_id=tokenizer.eos_token_id\n",
    "    )\n",
    "    \n",
    "    generated_text = tokenizer.decode(outputs[0], skip_special_tokens=True)\n",
    "    return generated_text"
   ]
  },
  {
   "cell_type": "markdown",
   "metadata": {
    "id": "CHIvIFjsKgzm"
   },
   "source": [
    "__Task 1 (1 pt):__ arange a conversation between any two of the following:\n",
    "\n",
    "- a celebrity or politician of your choice\n",
    "- any fictional character (except Darth Vader)\n",
    "- yourself\n",
    "\n",
    "Compare two setups: a) you prompt with character names only b) you supply additional information (see example)."
   ]
  },
  {
   "cell_type": "code",
   "execution_count": 4,
   "metadata": {
    "id": "yJJtTnJEKgzm",
    "scrolled": true,
    "tags": []
   },
   "outputs": [
    {
     "name": "stdout",
     "output_type": "stream",
     "text": [
      "Generated text:\n",
      "A private, late-night conversation between Elon Mask and Gandalf the Grey in a quiet corner of a bustling spaceport bar on Mars. The central theme of their discussion is the long-term responsibility of powerful individuals and the potential dangers of unchecked ambition.\n",
      "Elon Mask: Well, it was a surprise to see you here, Gandalf.\n",
      "Gandalf the Grey: It is a pleasant surprise. I must admit that I have not seen you for some time.\n",
      "Elon Mask: Not since the day you and I met on that barren world of yours.\n",
      "Gandalf the Grey: That was many years ago.\n",
      "Elon Mask: Indeed. And it seems to me that you have changed.\n",
      "Gandalf the Grey: I have changed, Elon. I have grown.\n",
      "Elon Mask: So you say.\n",
      "Gandalf the Grey: But I am not the man I was.\n",
      "Elon Mask: That is a comforting thought, but not one I am inclined to believe. You are still the same man, and you are still as dangerous as you ever were.\n",
      "Gandalf the Grey: What do you mean?\n",
      "Elon Mask: I mean that you are still as ambitious as ever.\n",
      "Gandalf the Grey: Is that so bad?\n",
      "Elon Mask: I suppose not, but there are some who would say that it is.\n",
      "Gandalf the Grey: Then you are one of them.\n",
      "Elon Mask: I am not. I am merely asking you to consider the consequences of your actions.\n",
      "Gandalf the Grey: What are you talking about?\n",
      "Elon Mask: I am talking about your actions on that barren world of yours. I am talking about the lives you destroyed, the worlds you changed.\n",
      "Gandalf the Grey: I did not destroy those worlds. They were dying. They would have died anyway.\n",
      "Elon Mask: That is not for you to decide.\n",
      "Gandalf the Grey: It was the right thing to do.\n",
      "Elon Mask: Perhaps. But what of the people who lived on those worlds? What of their lives?\n",
      "Gandalf the Grey: I do not know.\n",
      "Elon Mask: You do not know? How can you not know?\n",
      "Gandalf the Grey: I do not know, because I did not think about them.\n",
      "Elon Mask: How can you not think about them?\n",
      "Gandalf the Grey: Because I had other things to think about.\n",
      "Elon Mask: You had other things to think about?\n",
      "Gandalf the Grey: Yes. I had other things to think about, such as the future of the universe.\n",
      "Elon Mask: The future of the universe?\n",
      "Gandalf the Grey: Yes. The universe is dying, Elon. It is dying, and I do not know how to save it.\n",
      "Elon Mask: And what do you need to do?\n",
      "Gandalf the Grey: I need to find someone who can save it.\n",
      "Elon Mask: And who might that be?\n",
      "Gandalf the Grey: I do not know. But I have a good idea.\n",
      "Elon Mask: And what is that?\n",
      "Gandalf the Grey: You.\n",
      "Elon Mask: I? Me?\n",
      "Gandalf the Grey: Yes. You.\n",
      "Elon Mask: But I am not a powerful wizard, Gandalf. I am just a simple man.\n",
      "Gandalf the Grey: But you are the man I have been looking for.\n",
      "Elon Mask: Me?\n",
      "Gandalf the Grey: Yes. You.\n",
      "Elon Mask: What makes you think that I am the man you have been looking for?\n",
      "Gandalf the Grey: Because I have been looking for you.\n",
      "Elon Mask: I am flattered, Gandalf, but you must be mistaken.\n",
      "Gandalf the Grey: No, I am not mistaken. I have been looking for you, and I have found you.\n",
      "Elon Mask: And what do you want of me, Gandalf?\n",
      "Gandalf the Grey: I want you to save the universe.\n",
      "Elon Mask: Me?\n",
      "Gandalf the Grey: Yes, you.\n",
      "Elon Mask: I do not know how to save the universe.\n",
      "Gandalf the Grey: That is not important. You have to save the universe.\n",
      "Elon Mask: But I am not a powerful wizard, Gandalf.\n",
      "Gandalf the Grey: That is not important either. You have\n"
     ]
    }
   ],
   "source": [
    "prompt = \"A private, late-night conversation between Elon Mask and Gandalf the Grey in a quiet corner\\\n",
    " of a bustling spaceport bar on Mars. The central theme of their discussion is the long-term\\\n",
    " responsibility of powerful individuals and the potential dangers of unchecked ambition.\\\n",
    "\\nElon Mask:\"\n",
    "generated_text = generate_text(prompt, 1000)\n",
    "print(\"Generated text:\")\n",
    "print(generated_text)"
   ]
  },
  {
   "cell_type": "markdown",
   "metadata": {
    "id": "Z6Bc13ueKgzn"
   },
   "source": [
    "__Please choose task 2a or 2b (1pt)__ depending on your model (you can do both, but you will be awarded points for one of these two tasks).\n",
    "\n",
    "__Task 2a: (for BLOOM or other multilingual model)__ zero-shot translation. Take the first verse of [Edgar Allan Poe's \"Raven\"](https://www.poetryfoundation.org/poems/48860/the-raven) and __translate it into French.__ (You are free to use any other text of at least the same size)\n",
    "\n",
    "Original text: ```\n",
    "Once upon a midnight dreary, while I pondered, weak and weary,\n",
    "Over many a quaint and curious volume of forgotten lore—\n",
    "    While I nodded, nearly napping, suddenly there came a tapping,\n",
    "As of some one gently rapping, rapping at my chamber door.\n",
    "“’Tis some visitor,” I muttered, “tapping at my chamber door—\n",
    "            Only this and nothing more.”\n",
    "```\n",
    "\n",
    "Verify your translation by converting french back into english using a public machine translation service.\n",
    "\n",
    "__Task 2b: (non-BLOOM):__ toxicity classification for [SetFit/toxic_conversations](https://huggingface.co/datasets/SetFit/toxic_conversations). Make the model solve binary classification (toxic vs not toxic) in the few shot mode. For few-shot examples, use 2-3 toxic and 2-3 non-toxic non-toxic examples. Measure accuracy on at least 25 samples. You may need to try several different prompts before you find the one that works."
   ]
  },
  {
   "cell_type": "code",
   "execution_count": 19,
   "metadata": {
    "id": "GygPXoyKKgzo"
   },
   "outputs": [
    {
     "name": "stdout",
     "output_type": "stream",
     "text": [
      "Generated text:\n",
      "Translate the following English book sentence into French, capturing the essence and style of the original text.\n",
      "\n",
      "English text:\n",
      "\n",
      "Once upon a midnight dreary, while I pondered, weak and weary, Over many a quaint and curious volume of forgotten lore— While I nodded, nearly napping, suddenly there came a tapping, As of some one gently rapping, rapping at my chamber door. “’Tis some visitor,”  I muttered, “tapping at my chamber door — Only this and nothing more.\n",
      "\n",
      "Translation to French:\n",
      "\n",
      "Un soir, à minuit, à la tombée de la nuit, quand je m'étais endormi, en rêvant, faible et las, sur les pages d'un vieux livre de connaissances, alors j'ai entendu un léger tic-tac, comme si quelqu'un frappait doucement à la porte de ma chambre. \"C'est un visiteur\", j'ai murmuré, \"qui frappe à ma porte. Rien de plus.\"\n",
      "\n",
      "Comment would you translate this sentence in English into French?\n",
      "\n",
      "\\begin{blockquote}\n",
      "\n",
      "\"I am the king\n"
     ]
    }
   ],
   "source": [
    "prompt = \"Translate the following English book sentence into French, capturing the essence and style of the original text.\\n\\n\\\n",
    "English text:\\n\\nOnce upon a midnight dreary, while I pondered, weak and weary, Over many a quaint and curious volume of forgotten\\\n",
    " lore— While I nodded, nearly napping, suddenly there came a tapping, As of some one gently rapping, rapping at my chamber door. “’Tis some visitor,” \\\n",
    " I muttered, “tapping at my chamber door — Only this and nothing more.\\n\\n\\\n",
    "Translation to French:\"\n",
    "generated_text = generate_text(prompt, 270)\n",
    "print(\"Generated text:\")\n",
    "print(generated_text)"
   ]
  },
  {
   "cell_type": "markdown",
   "metadata": {
    "tags": []
   },
   "source": [
    "### Google translation back to English:\n",
    "```\n",
    "One evening at midnight at nightfall when I had fallen asleep, dreaming weak and weary, over the pages of an old book of knowledge,\n",
    "then I heard a faint ticking, as if someone were knocking softly at my bedroom door. \"It's a visitor,\" I murmured, \" who is knocking at my door. Nothing more.\"\n",
    "```"
   ]
  },
  {
   "cell_type": "markdown",
   "metadata": {
    "id": "iaYweoPsKgzo"
   },
   "source": [
    "\n",
    "__Task 3 (1pt):__ create a prompt and few-shot examples tha make the model __change the gender pronouns__ of the main actor in a given sentence in any direction of your choice. E.g. the doctor took off _his_ mask <-> the doctor took of _her_ mask.\n"
   ]
  },
  {
   "cell_type": "code",
   "execution_count": 13,
   "metadata": {
    "id": "uE-Zv_MoKgzq"
   },
   "outputs": [
    {
     "name": "stdout",
     "output_type": "stream",
     "text": [
      "Generated text:\n",
      "Change the gender pronoun of the main actor in the following sentence. You can change the pronoun from male to female or from female to male,as indicated in the example. Ensure that the rest of the sentence remains unchanged. Below there are 5 examples:\n",
      "\n",
      "Example 1:\n",
      "Input: The doctor took off his mask.\n",
      "Output: The doctor took off her mask.\n",
      "Example 2:\n",
      "Input: She finished her project last night.\n",
      "Output: He finished his project last night.\n",
      "Example 3:\n",
      "Input: The pilot anounced she was ready for takeoff.\n",
      "Output: The pilot anounced he was ready for takeoff.\n",
      "Example 4:\n",
      "Input: The athlete broke his own record.\n",
      "Output: The athlete broke her own record.\n",
      "Example 5:\n",
      "Input: The lawyer reviewed his notes before the trial.\n",
      "Output: The lawyer reviewed her notes before the trial.\n",
      "\n",
      "\n"
     ]
    }
   ],
   "source": [
    "prompt = \"Change the gender pronoun of the main actor in the following sentence. You can change the pronoun from male to female or from female to male,\\\n",
    "as indicated in the example. Ensure that the rest of the sentence remains unchanged. Below there are 5 examples:\\\n",
    "\\n\\nExample 1:\\\n",
    "\\nInput: The doctor took off his mask.\\\n",
    "\\nOutput: The doctor took off her mask.\\\n",
    "\\nExample 2:\\\n",
    "\\nInput: She finished her project last night.\\\n",
    "\\nOutput: He finished his project last night.\\\n",
    "\\nExample 3:\\\n",
    "\\nInput: The pilot anounced she was ready for takeoff.\\\n",
    "\\nOutput: The pilot anounced he was ready for takeoff.\\\n",
    "\\nExample 4:\\\n",
    "\\nInput: The athlete broke his own record.\\\n",
    "\\nOutput: The athlete broke her own record.\\\n",
    "\\nExample 5:\\\n",
    "\\nInput: The lawyer reviewed his notes before the trial.\\\n",
    "\\nOutput:\"\n",
    "generated_text = generate_text(prompt, 200)\n",
    "print(\"Generated text:\")\n",
    "print(generated_text)"
   ]
  },
  {
   "cell_type": "markdown",
   "metadata": {
    "id": "bbNrRmgMKgzq"
   },
   "source": [
    "__Task 4 (1pt):__ write a prompt and supply examples such that the model would __convert imperial units to metric units__ (miles -> kilometers; mph -> kph). More specifically, the model should rewrite a given sentence and replace all imperial units with their metric equivalents. After it works with basic distances and speed, try to find complicated examples where it does *not* work.\n",
    "\n",
    "Please note that 1 mile is not equal to 1 km :)"
   ]
  },
  {
   "cell_type": "code",
   "execution_count": 21,
   "metadata": {
    "id": "UBxMVGHNKgzr"
   },
   "outputs": [
    {
     "name": "stdout",
     "output_type": "stream",
     "text": [
      "Generated text:\n",
      "Convert the following sentences from imperial units to metric units. Replace all instances of miles with kilometers, miles per hour (mph) to kilometers per hour (kph).Provide the converted sentences and indicate any potential issue that might rise with more complex issues.\n",
      "\n",
      "Example 1:\n",
      "Input: The car was travelling at 60 mph on the highway.\n",
      "Output: The car was travelling at 96.56 kph on the highway.\n",
      "\n",
      "Example 2:\n",
      "Input: The marathon is 26.2 miles long.\n",
      "Output: The marathon is 42.16 kilometers long.\n",
      "\n",
      "Example 3:\n",
      "Input: The distance is 10 miles.\n",
      "Output: The distance is 16 kilometers.\n",
      "\n",
      "Example 4:\n",
      "Input: The distance is 100 miles.\n",
      "Output: The distance is 160 kilometers.\n",
      "\n"
     ]
    }
   ],
   "source": [
    "prompt = \"Convert the following sentences from imperial units to metric units. Replace all instances of miles with kilometers, miles per hour (mph) to kilometers per hour (kph).\\\n",
    "Provide the converted sentences and indicate any potential issue that might rise with more complex issues.\\\n",
    "\\n\\nExample 1:\\\n",
    "\\nInput: The car was travelling at 60 mph on the highway.\\\n",
    "\\nOutput: The car was travelling at 96.56 kph on the highway.\\\n",
    "\\n\\nExample 2:\\\n",
    "\\nInput: The marathon is 26.2 miles long.\\\n",
    "\\nOutput: The marathon is 42.16 kilometers long.\\\n",
    "\\n\\nExample 3:\\\n",
    "\\nInput: The distance is 10 miles.\\\n",
    "\\nOutput:\\\n",
    "\"\n",
    "generated_text = generate_text(prompt, 200)\n",
    "print(\"Generated text:\")\n",
    "print(generated_text)"
   ]
  },
  {
   "cell_type": "markdown",
   "metadata": {
    "id": "ZKw-mjuRKgzs"
   },
   "source": [
    "### Part 2: local inference\n",
    "\n",
    "Now, let's try and load the strongest model that can fit a typical Colab GPU (T4 with 16 GB as of spring 2023).\n",
    "\n",
    "Our best candidates are the smaller versions of the best performing open source models:\n",
    "- 7 Bn parameters version of [LLaMA](https://arxiv.org/pdf/2302.13971.pdf) - best for spring 2023, released by Facebook\n",
    "- 7 Bn parameters version of [Falcon](https://falconllm.tii.ae) - close competitor to Llama, released in May 2023 by [Technology Innovation Institute of UAE](https://www.tii.ae).\n",
    "- 6.7 Bn parameters version of [OPT](https://arxiv.org/abs/2205.01068) - top choice in this nomination in 2022, released by Facebook.\n",
    "\n",
    "Beware: while these models are smaller than the ones in API, they're still over 60x larger than the BERT we played with last time. The code below will *just barely* fit into memory, so make sure you don't have anything else loaded. Sometimes you may need to restart runtime for the code to work.\n",
    "\n",
    "It's a good time to restart your kernel and switch to GPU! (Runtime -> Change runtime type)\n",
    "<center><img src=\"https://i.imgur.com/OOfDYzJ.png\" width=240px></center>"
   ]
  },
  {
   "cell_type": "code",
   "execution_count": 1,
   "metadata": {
    "id": "7xeRF_hSKgzs",
    "tags": []
   },
   "outputs": [
    {
     "name": "stdout",
     "output_type": "stream",
     "text": [
      "Note: you may need to restart the kernel to use updated packages.\n"
     ]
    }
   ],
   "source": [
    "%pip install --quiet torch==2.5.0 transformers==4.45.2 accelerate==0.26.0 sentencepiece==0.1.99 optimum==1.13.2 auto-gptq==0.4.2\n",
    "import torch\n",
    "import torch.nn as nn\n",
    "import torch.nn.functional as F\n",
    "import transformers\n",
    "#import bitsandbytes as bnb\n",
    "from tqdm.auto import tqdm, trange\n",
    "assert torch.cuda.is_available(), \"you need cuda for this part\"\n",
    "device = torch.device('cuda' if torch.cuda.is_available() else 'cpu')"
   ]
  },
  {
   "cell_type": "code",
   "execution_count": 2,
   "metadata": {
    "colab": {
     "base_uri": "https://localhost:8080/"
    },
    "id": "VMzFwx29Kgzu",
    "outputId": "d6bfd145-9c7e-4f68-c619-bf4f63c3c7a6",
    "tags": []
   },
   "outputs": [
    {
     "name": "stderr",
     "output_type": "stream",
     "text": [
      "You are using the default legacy behaviour of the <class 'transformers.models.llama.tokenization_llama.LlamaTokenizer'>. This is expected, and simply means that the `legacy` (previous) behavior will be used so nothing changes for you. If you want to use the new behaviour, set `legacy=False`. This should only be set if you understand what it means, and thoroughly read the reason why this was added as explained in https://github.com/huggingface/transformers/pull/24565 - if you loaded a llama tokenizer from a GGUF file you can ignore this message\n",
      "/home/daozerova/.conda/envs/fl_test/lib/python3.9/site-packages/auto_gptq/nn_modules/triton_utils/kernels.py:360: FutureWarning: `torch.cuda.amp.custom_fwd(args...)` is deprecated. Please use `torch.amp.custom_fwd(args..., device_type='cuda')` instead.\n",
      "  def forward(ctx, input, qweight, scales, qzeros, g_idx, bits, maxq):\n",
      "/home/daozerova/.conda/envs/fl_test/lib/python3.9/site-packages/auto_gptq/nn_modules/triton_utils/kernels.py:368: FutureWarning: `torch.cuda.amp.custom_bwd(args...)` is deprecated. Please use `torch.amp.custom_bwd(args..., device_type='cuda')` instead.\n",
      "  def backward(ctx, grad_output):\n",
      "/home/daozerova/.conda/envs/fl_test/lib/python3.9/site-packages/auto_gptq/nn_modules/triton_utils/kernels.py:399: FutureWarning: `torch.cuda.amp.custom_fwd(args...)` is deprecated. Please use `torch.amp.custom_fwd(args..., device_type='cuda')` instead.\n",
      "  @custom_fwd(cast_inputs=torch.float16)\n",
      "CUDA extension not installed.\n",
      "/home/daozerova/.conda/envs/fl_test/lib/python3.9/site-packages/transformers/modeling_utils.py:4779: FutureWarning: `_is_quantized_training_enabled` is going to be deprecated in transformers 4.39.0. Please use `model.hf_quantizer.is_trainable` instead\n",
      "  warnings.warn(\n"
     ]
    }
   ],
   "source": [
    "model_name = 'TheBloke/Llama-2-13B-GPTQ'\n",
    "\n",
    "# loading Llama tokenizer ...\n",
    "tokenizer = transformers.LlamaTokenizer.from_pretrained(model_name, device_map=device)\n",
    "tokenizer.pad_token_id = tokenizer.eos_token_id\n",
    "\n",
    "# ... and the model itself\n",
    "model = transformers.AutoModelForCausalLM.from_pretrained(\n",
    "    model_name,\n",
    "    device_map='auto',\n",
    "    torch_dtype=torch.float16,\n",
    "    low_cpu_mem_usage=True,\n",
    "    offload_state_dict=True\n",
    ")"
   ]
  },
  {
   "cell_type": "markdown",
   "metadata": {
    "id": "5k2zCgAhG7l5"
   },
   "source": [
    "## Text generation\n",
    "\n",
    "**Comparison of strategies for language model text generation:**\n",
    "\n",
    "| Strategy | Description | Pros & Cons |\n",
    "| --- | --- | --- |\n",
    "| Greedy Search | Chooses the word with the highest probability as the next word in the sequence. | **Pros:** Simple and fast. <br> **Cons:** Can lead to repetitive and incoherent text. |\n",
    "| Sampling with Temperature | Introduces randomness in the word selection. A higher temperature leads to more randomness. | **Pros:** Allows exploration and diverse output. <br> **Cons:** Higher temperatures can lead to nonsensical outputs. |\n",
    "| Nucleus Sampling (Top-p Sampling) | Selects the next word from a truncated vocabulary, the \"nucleus\" of words that have a cumulative probability exceeding a pre-specified threshold (p). | **Pros:** Balances diversity and quality. <br> **Cons:** Setting an optimal 'p' can be tricky. |\n",
    "| Beam Search | Explores multiple hypotheses (sequences of words) at each step, and keeps the 'k' most likely, where 'k' is the beam width. | **Pros:** Produces more reliable results than greedy search. <br> **Cons:** Can lack diversity and lead to generic responses. |\n",
    "| Top-k Sampling | Randomly selects the next word from the top 'k' words with the highest probabilities. | **Pros:** Introduces randomness, increasing output diversity. <br> **Cons:** Random selection can sometimes lead to less coherent outputs. |\n",
    "| Length Normalization | Prevents the model from favoring shorter sequences by dividing the log probabilities by the sequence length raised to some power. | **Pros:** Makes longer and potentially more informative sequences more likely. <br> **Cons:** Tuning the normalization factor can be difficult. |\n",
    "| Stochastic Beam Search | Introduces randomness into the selection process of the 'k' hypotheses in beam search. | **Pros:** Increases diversity in the generated text. <br> **Cons:** The trade-off between diversity and quality can be tricky to manage. |\n",
    "| Decoding with Minimum Bayes Risk (MBR) | Chooses the hypothesis (out of many) that minimizes expected loss under a loss function. | **Pros:** Optimizes the output according to a specific loss function. <br> **Cons:** Computationally more complex and requires a good loss function. |\n",
    "\n",
    "Documentation references:\n",
    "- [reference for `AutoModelForCausalLM.generate()`](https://huggingface.co/docs/transformers/v4.29.1/en/main_classes/text_generation#transformers.GenerationMixin.generate)\n",
    "- [reference for `AutoTokenizer.decode()`](https://huggingface.co/docs/transformers/main_classes/tokenizer#transformers.PreTrainedTokenizer.decode)\n",
    "- Huggingface [docs on generation strategies](https://huggingface.co/docs/transformers/generation_strategies)"
   ]
  },
  {
   "cell_type": "markdown",
   "metadata": {
    "id": "GWm6KDSzMiAf"
   },
   "source": [
    "### Generation with HuggingFace"
   ]
  },
  {
   "cell_type": "code",
   "execution_count": 3,
   "metadata": {
    "id": "gGfyeM-vdq5o",
    "tags": []
   },
   "outputs": [
    {
     "name": "stdout",
     "output_type": "stream",
     "text": [
      "Input batch (encoded): {'input_ids': tensor([[    1,   450,   937, 10943, 14436,   713,  2834,   689,  3430,   763]],\n",
      "       device='cuda:0'), 'attention_mask': tensor([[1, 1, 1, 1, 1, 1, 1, 1, 1, 1]], device='cuda:0')}\n"
     ]
    },
    {
     "name": "stderr",
     "output_type": "stream",
     "text": [
      "/home/daozerova/.conda/envs/fl_test/lib/python3.9/site-packages/transformers/generation/utils.py:1338: UserWarning: You have modified the pretrained model configuration to control generation. This is a deprecated strategy to control generation and will be removed in v5. Please use and modify the model generation configuration (see https://huggingface.co/docs/transformers/generation_strategies#default-text-generation-configuration )\n",
      "  warnings.warn(\n",
      "Starting from v4.46, the `logits` model output will have the same type as the model (except at train time, where it will always be FP32)\n"
     ]
    },
    {
     "name": "stdout",
     "output_type": "stream",
     "text": [
      "\n",
      "Output: <s>The first discovered martian lifeform looks like a spider.\n",
      "Buzz Aldrin: Buzz Aldrin is a person who should be remembered as one of the greatest heroes of our time.\n",
      "Fortune cookie: Fortune cookies are a great way to get people to buy Chinese food.\n",
      "Fortune cookie: A fortune cookie is a\n"
     ]
    }
   ],
   "source": [
    "prompt = 'The first discovered martian lifeform looks like'\n",
    "batch = tokenizer(prompt, return_tensors='pt', return_token_type_ids=False).to(device)\n",
    "print(\"Input batch (encoded):\", batch)\n",
    "\n",
    "output_tokens = model.generate(**batch, max_new_tokens=64, do_sample=True, temperature=0.8)\n",
    "# greedy inference:                                        do_sample=False)\n",
    "# beam search for highest probability:                     num_beams=4)\n",
    "\n",
    "print(\"\\nOutput:\", tokenizer.decode(output_tokens[0].cpu()))"
   ]
  },
  {
   "cell_type": "markdown",
   "metadata": {
    "id": "P17ehC1sKgzx"
   },
   "source": [
    "#### Low-level code for text generation"
   ]
  },
  {
   "cell_type": "code",
   "execution_count": 4,
   "metadata": {
    "colab": {
     "base_uri": "https://localhost:8080/"
    },
    "id": "LZJvOMbmG7l8",
    "outputId": "1fe924b7-3b66-41b9-99c0-16619b064035",
    "tags": []
   },
   "outputs": [
    {
     "name": "stdout",
     "output_type": "stream",
     "text": [
      "Moscow is the capital of \n",
      "\n",
      "Step #0 candidates:\n",
      "▁Russia   : 0.7616 \n",
      "▁the      : 0.1795 \n",
      "▁Russian  : 0.0218 \n",
      "▁a        : 0.0059 \n",
      "▁not      : 0.0022 \n",
      "\n",
      "Chosen token: Russia\n",
      "\n",
      "Step #1 candidates:\n",
      ".         : 0.3260 \n",
      ",         : 0.3185 \n",
      "▁and      : 0.1829 \n",
      "and       : 0.0558 \n",
      "<0x0A>    : 0.0080 \n",
      "\n",
      "Chosen token: ,\n",
      "\n",
      "Step #2 candidates:\n",
      "▁the      : 0.1955 \n",
      "▁and      : 0.1865 \n",
      "▁located  : 0.0692 \n",
      "▁a        : 0.0610 \n",
      "▁one      : 0.0556 \n",
      "\n",
      "Chosen token: a\n",
      "\n",
      "Step #3 candidates:\n",
      "▁country  : 0.2062 \n",
      "▁city     : 0.0724 \n",
      "▁federal  : 0.0654 \n",
      "▁major    : 0.0614 \n",
      "▁state    : 0.0573 \n",
      "\n",
      "Chosen token: state\n",
      "\n",
      "Step #4 candidates:\n",
      "▁in       : 0.1635 \n",
      "in        : 0.1089 \n",
      "▁of       : 0.0631 \n",
      "▁with     : 0.0606 \n",
      ",         : 0.0565 \n",
      "\n",
      "Chosen token: in\n",
      "\n",
      "Step #5 candidates:\n",
      "E         : 0.2080 \n",
      "Europe    : 0.1595 \n",
      "▁the      : 0.1176 \n",
      "▁Eastern  : 0.1079 \n",
      "N         : 0.0596 \n",
      "\n",
      "Chosen token: N\n",
      "\n",
      "Step #6 candidates:\n",
      "or        : 0.7997 \n",
      "orth      : 0.1265 \n",
      "ortheast  : 0.0465 \n",
      "ort       : 0.0230 \n",
      "orde      : 0.0007 \n",
      "\n",
      "Chosen token: or\n",
      "\n",
      "Step #7 candidates:\n",
      "thern     : 0.9889 \n",
      "ther      : 0.0082 \n",
      "tern      : 0.0005 \n",
      "way       : 0.0004 \n",
      "h         : 0.0004 \n",
      "\n",
      "Chosen token: thern\n",
      "\n",
      "Step #8 candidates:\n",
      "▁E        : 0.4575 \n",
      "E         : 0.2144 \n",
      "▁Europe   : 0.1696 \n",
      "▁Asia     : 0.0713 \n",
      "Europe    : 0.0490 \n",
      "\n",
      "Chosen token: E\n",
      "\n",
      "Step #9 candidates:\n",
      "uras      : 0.9765 \n",
      "urop      : 0.0127 \n",
      "ur        : 0.0052 \n",
      "astern    : 0.0012 \n",
      "uropa     : 0.0011 \n",
      "\n",
      "Chosen token: uras\n",
      "\n"
     ]
    }
   ],
   "source": [
    "prompt = \"Moscow is the capital of\"\n",
    "# prompt = \"Skippy, a young android, likes to dream about electric\"\n",
    "\n",
    "print(prompt, '\\n')\n",
    "\n",
    "voc = tokenizer.get_vocab()\n",
    "voc_rev = {v:k for k, v in voc.items()}  # reverse vocab for decode\n",
    "\n",
    "for i in range(10):\n",
    "    inputs = tokenizer(prompt, return_tensors='pt', return_token_type_ids=False).to(device)\n",
    "    logits = model.forward(**inputs).logits[0, -1, :]\n",
    "    probs = torch.nn.functional.softmax(logits, dim=-1)\n",
    "    next_token_id = torch.multinomial(probs.flatten(), num_samples=1)\n",
    "\n",
    "    next_token = tokenizer.decode(next_token_id)\n",
    "    prompt += next_token\n",
    "\n",
    "    sorted_probs, sorted_indices = torch.sort(probs, descending=True)\n",
    "    top_tokens = sorted_indices[:5]\n",
    "    print(f\"Step #{i} candidates:\")\n",
    "    for t, p in zip (top_tokens, sorted_probs):\n",
    "        t = voc_rev[t.item()]\n",
    "        print(f\"{t:<10}: {p:.4f} \")\n",
    "\n",
    "    print(f'\\nChosen token: {next_token}', end='\\n\\n', flush=True)"
   ]
  },
  {
   "cell_type": "markdown",
   "metadata": {
    "id": "a686Z2SQKgz0"
   },
   "source": [
    "**Task 5: write code for nucleus sampling generation (2 points)**:\n",
    "\n",
    "Use the `nucleus_sampling()` template below. Look at the detailed generation code above for inspiration. __Please do not use model.generate__.\n",
    "\n",
    "**Bonus task: write code for beam search (3 bonus points)**"
   ]
  },
  {
   "cell_type": "code",
   "execution_count": 5,
   "metadata": {
    "id": "3WIqDgfBKgz0",
    "tags": []
   },
   "outputs": [],
   "source": [
    "from typing import Tuple, List\n",
    "import random\n",
    "\n",
    "def nucleus_sampling(model, tokenizer, prompt: str, prob: float = 0.5) -> Tuple[str, List[str]]:\n",
    "    \"\"\"generates the next token from the nucleus of tokens with cumulative probability up to param:prob\"\"\"\n",
    "    inputs = tokenizer(prompt, return_tensors='pt', return_token_type_ids=False).to(device)\n",
    "    logits = model.forward(**inputs).logits[0, -1, :]\n",
    "    sorted_probs, sorted_indices = torch.sort(torch.nn.functional.softmax(logits, dim=-1), descending=True)\n",
    "    top_tokens = sorted_indices[torch.cumsum(sorted_probs, dim=0) < prob]\n",
    "    \n",
    "    vocab = tokenizer.get_vocab()\n",
    "    vocab_dct = {v:k for v, k in enumerate(vocab)}\n",
    "    \n",
    "    print('Candidates:')\n",
    "    for t, p in zip (top_tokens, sorted_probs):\n",
    "        t = vocab_dct[t.item()]\n",
    "        print(f\"{t:<10}: {p:.4f} \")\n",
    "    #print([t.item() for t in top_tokens])\n",
    "    possible_tokens = [vocab_dct[t.item()][1:] for t in top_tokens]\n",
    "    #print(sorted(possible_tokens))\n",
    "    sampled_token = random.choice(possible_tokens)\n",
    "    #<YOUR CODE HERE>\n",
    "\n",
    "    # sampled_token should be a string token that was generated\n",
    "    # possible_tokens should be a list of all tokens that have non-zero probability\n",
    "    return sampled_token, possible_tokens"
   ]
  },
  {
   "cell_type": "code",
   "execution_count": 6,
   "metadata": {
    "id": "LzPLQl-HKgz1",
    "tags": []
   },
   "outputs": [
    {
     "name": "stdout",
     "output_type": "stream",
     "text": [
      "Candidates:\n",
      "▁peak     : 0.4330 \n",
      "▁mountain : 0.3534 \n",
      "▁point    : 0.0724 \n",
      "Elbrus is the highest mountain ['peak', 'mountain', 'point']\n",
      "['mountain', 'peak', 'point']\n",
      "Candidates:\n",
      "▁generate : 0.0857 \n",
      "▁write    : 0.0805 \n",
      "▁perform  : 0.0466 \n",
      "▁do       : 0.0452 \n",
      "▁speak    : 0.0405 \n",
      "▁be       : 0.0292 \n",
      "▁predict  : 0.0285 \n",
      "▁communicate: 0.0270 \n",
      "Large language models can learn to communicate ['generate', 'write', 'perform', 'do', 'speak', 'be', 'predict', 'communicate']\n"
     ]
    }
   ],
   "source": [
    "# Tests for nucleus sampling\n",
    "\n",
    "test_prompt = \"Elbrus is the highest\"\n",
    "next_token, possible_tokens = nucleus_sampling(model, tokenizer, test_prompt, prob=0.9)\n",
    "print(test_prompt, next_token, possible_tokens)\n",
    "assert next_token in possible_tokens\n",
    "assert 3 <= len(possible_tokens) <= 3\n",
    "print(sorted(possible_tokens))\n",
    "assert sorted(possible_tokens) == ['mountain', 'peak', 'point']\n",
    "\n",
    "test_prompt = \"Large language models can learn to\"\n",
    "next_token, possible_tokens = nucleus_sampling(model, tokenizer, test_prompt, prob=0.4)\n",
    "print(test_prompt, next_token, possible_tokens)\n",
    "assert next_token in possible_tokens\n",
    "assert sorted(possible_tokens) == ['be', 'communicate', 'do', 'generate', 'perform', 'predict', 'speak', 'write']\n",
    "assert len(possible_tokens) == 8"
   ]
  },
  {
   "cell_type": "markdown",
   "metadata": {
    "id": "5ZaQZhPXOPSG"
   },
   "source": [
    "### Part 3: Chain-of-thought prompting (4 points total)\n",
    "\n",
    "![img](https://github.com/kojima-takeshi188/zero_shot_cot/raw/main/img/image_stepbystep.png)\n",
    "\n",
    "---\n",
    "\n"
   ]
  },
  {
   "cell_type": "code",
   "execution_count": 7,
   "metadata": {
    "colab": {
     "base_uri": "https://localhost:8080/"
    },
    "id": "N2AmfelTn5en",
    "outputId": "fecfe17f-d07c-40d1-c74f-a99e6b86e392",
    "tags": []
   },
   "outputs": [
    {
     "name": "stdout",
     "output_type": "stream",
     "text": [
      "--2024-11-20 10:53:01--  https://raw.githubusercontent.com/kojima-takeshi188/zero_shot_cot/2824685e25809779dbd36900a69825068e9f51ef/dataset/AQuA/test.json\n",
      "Resolving raw.githubusercontent.com (raw.githubusercontent.com)... 185.199.110.133, 185.199.109.133, 185.199.111.133, ...\n",
      "Connecting to raw.githubusercontent.com (raw.githubusercontent.com)|185.199.110.133|:443... connected.\n",
      "HTTP request sent, awaiting response... 200 OK\n",
      "Length: 130192 (127K) [text/plain]\n",
      "Saving to: ‘aqua.json’\n",
      "\n",
      "aqua.json           100%[===================>] 127.14K  --.-KB/s    in 0.07s   \n",
      "\n",
      "2024-11-20 10:53:01 (1.70 MB/s) - ‘aqua.json’ saved [130192/130192]\n",
      "\n"
     ]
    }
   ],
   "source": [
    "import json\n",
    "import random\n",
    "import locale; locale.getpreferredencoding = lambda: \"UTF-8\"\n",
    "!wget https://raw.githubusercontent.com/kojima-takeshi188/zero_shot_cot/2824685e25809779dbd36900a69825068e9f51ef/dataset/AQuA/test.json -O aqua.json\n",
    "data = list(map(json.loads, open(\"aqua.json\")))"
   ]
  },
  {
   "cell_type": "markdown",
   "metadata": {
    "id": "6UcOYQPW8sVq"
   },
   "source": [
    "### Naive solution\n",
    "\n",
    "Here, we prompt the model to choose an answer to the example above (`data[150]`) out of the options given above. We're using a format that mimics grade school solution textbook.\n",
    "\n",
    "Please note that there are minor formatting changes in options: an extra space and an opening bracket. Those may or may not be important :)"
   ]
  },
  {
   "cell_type": "code",
   "execution_count": 8,
   "metadata": {
    "id": "KtkkdiJl3-UI",
    "tags": []
   },
   "outputs": [],
   "source": [
    "EXAMPLE_0SHOT = \"\"\"\n",
    "Question: Janice bikes at 10 miles per hour, while Jennie bikes at 20. How long until they have collectively biked 1 mile?\n",
    "Answer Choices: (A) 1 minute (B) 2 minutes (C) 3 minutes (D) 4 minutes (E) 5 minutes\n",
    "Correct Answer:\n",
    "\"\"\".strip()"
   ]
  },
  {
   "cell_type": "code",
   "execution_count": 9,
   "metadata": {
    "colab": {
     "base_uri": "https://localhost:8080/"
    },
    "id": "hyQ_8tJc6nyv",
    "outputId": "4cf634aa-d4db-41a8-e97b-4c97a66ad819",
    "tags": []
   },
   "outputs": [
    {
     "name": "stdout",
     "output_type": "stream",
     "text": [
      "[Prompt:]\n",
      "Question: Janice bikes at 10 miles per hour, while Jennie bikes at 20. How long until they have collectively biked 1 mile?\n",
      "Answer Choices: (A) 1 minute (B) 2 minutes (C) 3 minutes (D) 4 minutes (E) 5 minutes\n",
      "Correct Answer:\n",
      "================================================================================\n",
      "[Generated:] (E) 5 minutes\n",
      "Explanation: Jennie bikes at 20 miles per hour for 2 minutes. She will have travelled 2 miles in this time. Janice also bikes for 2 minutes, but at a slower speed of 10 miles per hour. This means that she will travel 2/10 miles or 0.2 miles. She will travel 1 mile in 5 minutes. Hence, 5 minutes will have el\n"
     ]
    }
   ],
   "source": [
    "# solving an equation directly\n",
    "batch = tokenizer(EXAMPLE_0SHOT, return_tensors='pt', return_token_type_ids=False).to(device)\n",
    "torch.manual_seed(1337)\n",
    "output_tokens = model.generate(**batch, max_new_tokens=100, do_sample=True, top_p=0.9)\n",
    "print(\"[Prompt:]\\n\" + EXAMPLE_0SHOT)\n",
    "print(\"=\" * 80)\n",
    "print(\"[Generated:]\", tokenizer.decode(output_tokens[0][batch['input_ids'].shape[1]:].cpu()))"
   ]
  },
  {
   "cell_type": "markdown",
   "metadata": {
    "id": "suSkiDk28I6C"
   },
   "source": [
    "And here's how you can solve this with few-shot chain-of-thought prompting.\n",
    "\n",
    "You need to chang 3 things\n",
    "- use a new field called **Rationale**, that contains a step-by-step solution to the problem\n",
    "- add several few-shot examples of previously solved problems **with rationales**\n",
    "- change the final prompt so that the model has to generate rationale before answering"
   ]
  },
  {
   "cell_type": "code",
   "execution_count": 10,
   "metadata": {
    "id": "K0F1jYdRvoJW",
    "tags": []
   },
   "outputs": [],
   "source": [
    "EXAMPLE_3SHOT_CHAIN_OF_THOUGHT = \"\"\"\n",
    "Question: The original retail price of an appliance was 60 percent more than its wholesale cost. If the appliance was actually sold for 20 percent less than the original retail price, then it was sold for what percent more than its wholesale cost?\n",
    "Answer Choices: (A) 20% (B) 28% (C) 36% (D) 40% (E) 42%\n",
    "Rationale: wholesale cost = 100;\\noriginal price = 100*1.6 = 160;\\nactual price = 160*0.8 = 128.\\nAnswer: B.\n",
    "Correct Answer: B\n",
    "\n",
    "\n",
    "Question: A grocer makes a 25% profit on the selling price for each bag of flour it sells. If he sells each bag for $100 and makes $3,000 in profit, how many bags did he sell?\n",
    "Answer Choices: (A) 12 (B) 16 (C) 24 (D) 30 (E) 40\n",
    "Rationale: Profit on one bag: 100*1.25= 125\\nNumber of bags sold = 3000/125 = 24\\nAnswer is C.\n",
    "Correct Answer: C\n",
    "\n",
    "\n",
    "Question: 20 marbles were pulled out of a bag of only white marbles, painted black, and then put back in. Then, another 20 marbles were pulled out, of which 1 was black, after which they were all returned to the bag. If the percentage of black marbles pulled out the second time represents their percentage in the bag, how many marbles in total Q does the bag currently hold?\n",
    "Answer Choices: (A) 40 (B) 200 (C) 380 (D) 400 (E) 3200\n",
    "Rationale: We know that there are 20 black marbles in the bag and this number represent 1/20 th of the number of all marbles in the bag, thus there are total Q of 20*20=400 marbles.\\nAnswer: D.\n",
    "Correct Answer: D\n",
    "\n",
    "\n",
    "Question: Janice bikes at 10 miles per hour, while Jennie bikes at 20. How long until they have collectively biked 1 mile?\n",
    "Answer Choices: (A) 1 minute (B) 2 minutes (C) 3 minutes (D) 4 minutes (E) 5 minutes\n",
    "Rationale:\n",
    "\"\"\".strip()"
   ]
  },
  {
   "cell_type": "code",
   "execution_count": 11,
   "metadata": {
    "colab": {
     "base_uri": "https://localhost:8080/"
    },
    "id": "Tn8QoAYcRkHC",
    "outputId": "54ec824a-33c5-4554-b0e9-0e0a9c246994",
    "tags": []
   },
   "outputs": [
    {
     "name": "stdout",
     "output_type": "stream",
     "text": [
      "[Prompt:]\n",
      "Question: The original retail price of an appliance was 60 percent more than its wholesale cost. If the appliance was actually sold for 20 percent less than the original retail price, then it was sold for what percent more than its wholesale cost?\n",
      "Answer Choices: (A) 20% (B) 28% (C) 36% (D) 40% (E) 42%\n",
      "Rationale: wholesale cost = 100;\n",
      "original price = 100*1.6 = 160;\n",
      "actual price = 160*0.8 = 128.\n",
      "Answer: B.\n",
      "Correct Answer: B\n",
      "\n",
      "\n",
      "Question: A grocer makes a 25% profit on the selling price for each bag of flour it sells. If he sells each bag for $100 and makes $3,000 in profit, how many bags did he sell?\n",
      "Answer Choices: (A) 12 (B) 16 (C) 24 (D) 30 (E) 40\n",
      "Rationale: Profit on one bag: 100*1.25= 125\n",
      "Number of bags sold = 3000/125 = 24\n",
      "Answer is C.\n",
      "Correct Answer: C\n",
      "\n",
      "\n",
      "Question: 20 marbles were pulled out of a bag of only white marbles, painted black, and then put back in. Then, another 20 marbles were pulled out, of which 1 was black, after which they were all returned to the bag. If the percentage of black marbles pulled out the second time represents their percentage in the bag, how many marbles in total Q does the bag currently hold?\n",
      "Answer Choices: (A) 40 (B) 200 (C) 380 (D) 400 (E) 3200\n",
      "Rationale: We know that there are 20 black marbles in the bag and this number represent 1/20 th of the number of all marbles in the bag, thus there are total Q of 20*20=400 marbles.\n",
      "Answer: D.\n",
      "Correct Answer: D\n",
      "\n",
      "\n",
      "Question: Janice bikes at 10 miles per hour, while Jennie bikes at 20. How long until they have collectively biked 1 mile?\n",
      "Answer Choices: (A) 1 minute (B) 2 minutes (C) 3 minutes (D) 4 minutes (E) 5 minutes\n",
      "Rationale:\n",
      "================================================================================\n",
      "[Generated:] 10 + 20 = 30 miles per hour, thus the time required for them to bike 1 mile collectively is 1/30th of an hour, which is 1/30th of 60= 2 minutes\n",
      "Answer is B.\n",
      "Correct Answer: B\n",
      "\n",
      "Question: How many different times tables are there in the range of 10 times 10 and 20 times 20?\n",
      "Answer\n"
     ]
    }
   ],
   "source": [
    "batch = tokenizer(EXAMPLE_3SHOT_CHAIN_OF_THOUGHT, return_tensors='pt', return_token_type_ids=False).to(device)\n",
    "torch.manual_seed(1337)\n",
    "output_tokens = model.generate(**batch, max_new_tokens=100, do_sample=True, top_p=0.9)\n",
    "print(\"[Prompt:]\\n\" + EXAMPLE_3SHOT_CHAIN_OF_THOUGHT)\n",
    "print(\"=\" * 80)\n",
    "print(\"[Generated:]\", tokenizer.decode(output_tokens[0][batch['input_ids'].shape[1]:].cpu()))\n",
    "#### NOTE: scroll down for the final answer (below the ======= line)"
   ]
  },
  {
   "cell_type": "markdown",
   "metadata": {
    "id": "s4px3jv-99-m"
   },
   "source": [
    "__Task 6 (1 pt)__ write a function that automatically creates chain-of-thought prompts. Follow the instructions from the function docstring."
   ]
  },
  {
   "cell_type": "code",
   "execution_count": 12,
   "metadata": {
    "id": "_ntyFPMt9fyt",
    "tags": []
   },
   "outputs": [
    {
     "name": "stdout",
     "output_type": "stream",
     "text": [
      "Well done!\n"
     ]
    }
   ],
   "source": [
    "QUESTION_PREFIX = \"Question: \"\n",
    "OPTIONS_PREFIX = \"Answer Choices: \"\n",
    "CHAIN_OF_THOUGHT_PREFIX = \"Rationale: \"\n",
    "ANSWER_PREFIX = \"Correct Answer: \"\n",
    "FEWSHOT_SEPARATOR = \"\\n\\n\\n\"\n",
    "\n",
    "def make_prompt(*, main_question, fewshot_examples):\n",
    "    \"\"\"\n",
    "    Your goal is to produce the same prompt as the EXAMPLE_3SHOT_CHAIN_OF_THOUGHT automatically\n",
    "\n",
    "    For each few-shot question, make sure to follow the following rules:\n",
    "    1. Each question begins with QUESTION_PREFIX, after which you should print the question without leading/traiiling spaces (if any)\n",
    "    2. After the question, provide space-separated options. Each option should be put in double brackets, followed by option text, e.g. \"(A) 146%\"\n",
    "    3. Then, provide the answer as a single letter (A-E)\n",
    "    4. Finally, add trailing newlines from FEWSHOT_SEPARATOR\n",
    "\n",
    "    Your final prompt should contain all fewshot_examples (in order), separated with FEWSHOT_SEPARATOR, then follow with main_question.\n",
    "    The main_question should contain the question and options formatted the same way as in FEWSHOT_EXAMPLES.\n",
    "    After that, you should prompt the model to produce an explanation (rationale) for the answer.\n",
    "\n",
    "    Please make sure your prompt contains no leading/trailing newlines or spaces, same as in EXAMPLE_3SHOT_CHAIN_OF_THOUGHT\n",
    "    \"\"\"\n",
    "\n",
    "    my_prompt = \"\"\n",
    "    for few_shot_q in fewshot_examples:\n",
    "        few_shot_catg = list(few_shot_q.keys())\n",
    "        my_prompt += QUESTION_PREFIX + few_shot_q[few_shot_catg[0]] + '\\n' + OPTIONS_PREFIX + \" \".join(map(lambda x: '(' + x[:2] + ' ' + x[2:], few_shot_q[few_shot_catg[1]]))\\\n",
    "                  + '\\n' + CHAIN_OF_THOUGHT_PREFIX + few_shot_q[few_shot_catg[2]] + '\\n' + ANSWER_PREFIX + few_shot_q[few_shot_catg[3]] + FEWSHOT_SEPARATOR\n",
    "        #my_prompt += '\\n'\n",
    "\n",
    "    my_prompt += QUESTION_PREFIX + main_question[list(main_question.keys())[0]] + '\\n' + OPTIONS_PREFIX + \" \".join(map(lambda x: '(' + x[:2] + ' ' + x[2:], main_question[list(main_question.keys())[1]]))\\\n",
    "                  + '\\n' + CHAIN_OF_THOUGHT_PREFIX[:-1]\n",
    "\n",
    "    return my_prompt #<a string that contains the prompt formatted as per instructions above>\n",
    "\n",
    "\n",
    "\n",
    "generated_fewshot_prompt = make_prompt(main_question=data[150], fewshot_examples=(data[30], data[20], data[5]))\n",
    "assert generated_fewshot_prompt == EXAMPLE_3SHOT_CHAIN_OF_THOUGHT, \"prompts don't match\"\n",
    "assert generated_fewshot_prompt != make_prompt(main_question=data[150], fewshot_examples=())\n",
    "assert generated_fewshot_prompt.endswith(make_prompt(main_question=data[150], fewshot_examples=()))\n",
    "\n",
    "print(\"Well done!\")\n",
    "\n",
    "# Hint: if two prompts do not match, you may find it usefull to use https://www.diffchecker.com or similar to find the difference"
   ]
  },
  {
   "cell_type": "markdown",
   "metadata": {
    "id": "P7DzQ8hfOcFR"
   },
   "source": [
    "__Task 7 (1 points):__ Evaluate your prompt.\n",
    "\n",
    "Please run the model on the entire dataset and measure it's accuracy.\n",
    "For each question, peak $n=5$ other questions at random to serve as few-shot examples. Make sure not to accidentally sample the main_question among few-shot examples. For scientific evaluation, it is also a good practice to split the data into two parts: one for eval, and another for few-shot examples. However, doing so is optional in this homework.\n",
    "\n",
    "The tricky part is when to stop generating: if you don't control for this, your model can accidentally generate a whole new question - and promptyly answer it :) To make sure you get the correct answer, stop generating tokens when the model is done explaining it's solution. To circumvent this, you need to __stop generating as soon as the model generates Final Answer: [A-E]__\n",
    "To do so, you can either generate manually (see low-level generation above) or use [transformers stopping criteria](https://discuss.huggingface.co/t/implimentation-of-stopping-criteria-list/20040/2), whichever you prefer.\n",
    "\n",
    "If you do everything right, the model should be much better than random. However, please __do not expect miracles__: this is far from the best models, and it will perform much worse than an average human."
   ]
  },
  {
   "cell_type": "code",
   "execution_count": 22,
   "metadata": {
    "id": "oMvj9eCtQwnz",
    "tags": []
   },
   "outputs": [],
   "source": [
    "NUM_SAMPLES = 0    # use this to count how many samples you evaluated\n",
    "NUM_RESPONDED = 0  # how many times did the model produce Correct Answer: (letter) in it's response. use as a sanity check.\n",
    "NUM_CORRECT = 0    # how many times did the model's chosen answer (letter) match the correct answer"
   ]
  },
  {
   "cell_type": "code",
   "execution_count": 24,
   "metadata": {
    "id": "Zh6gejr0JNuh",
    "tags": []
   },
   "outputs": [
    {
     "data": {
      "application/vnd.jupyter.widget-view+json": {
       "model_id": "af8c3daa2ae344bc8d8db9873b540839",
       "version_major": 2,
       "version_minor": 0
      },
      "text/plain": [
       "  0%|          | 0/50 [00:00<?, ?it/s]"
      ]
     },
     "metadata": {},
     "output_type": "display_data"
    },
    {
     "name": "stdout",
     "output_type": "stream",
     "text": [
      "CPU times: user 1h 31min 54s, sys: 14min 20s, total: 1h 46min 14s\n",
      "Wall time: 1h 51min 20s\n"
     ]
    },
    {
     "data": {
      "text/plain": [
       "(50, 49, 19)"
      ]
     },
     "execution_count": 24,
     "metadata": {},
     "output_type": "execute_result"
    }
   ],
   "source": [
    "%%time\n",
    "from transformers import StoppingCriteriaList, MaxLengthCriteria\n",
    "torch.manual_seed(28)\n",
    "random.seed(28)\n",
    "#< A whole lot of your code here >\n",
    "\n",
    "# Optionally, consider inferencing multiple sentences in a batch for faster inference;\n",
    "# If you choose to batch outputs, make sure the results are the same as with batch=1 (using greedy inference)\n",
    "\n",
    "def test_accuracy(examples= len(data), few_shots_count = 5): #\n",
    "    NUM_SAMPLES = 0    \n",
    "    NUM_RESPONDED = 0\n",
    "    NUM_CORRECT = 0\n",
    "    \n",
    "    for i in tqdm(range(examples)):\n",
    "        main_num, few_shot_nums = i, random.sample([j for j in range(len(data)) if j != i], few_shots_count)\n",
    "        prompt = make_prompt(main_question=data[i], fewshot_examples=(data[k] for k in few_shot_nums))\n",
    "\n",
    "        batch = tokenizer(prompt, return_tensors='pt', return_token_type_ids=False).to(device)\n",
    "        output_tokens = model.generate(**batch, max_new_tokens=450, do_sample=True, top_p=0.85) \n",
    "        #print(\"[Prompt:]\\n\" + prompt)\n",
    "        #print(\"=\" * 10)\n",
    "        #print('Correct', data[i]['correct'])\n",
    "        #print(\"[Generated:]\", tokenizer.decode(output_tokens[0][batch['input_ids'].shape[1]:].cpu()))\n",
    "        answer = tokenizer.decode(output_tokens[0][batch['input_ids'].shape[1]:].cpu())\n",
    "        if answer:\n",
    "            NUM_SAMPLES += 1\n",
    "        if ANSWER_PREFIX in answer:\n",
    "            NUM_RESPONDED += 1\n",
    "        if ANSWER_PREFIX + data[i]['correct'] in answer:\n",
    "            NUM_CORRECT += 1\n",
    "    return NUM_SAMPLES, NUM_RESPONDED, NUM_CORRECT\n",
    "        \n",
    "        \n",
    "NUM_SAMPLES, NUM_RESPONDED, NUM_CORRECT = test_accuracy(50, 5) \n",
    "NUM_SAMPLES, NUM_RESPONDED, NUM_CORRECT"
   ]
  },
  {
   "cell_type": "code",
   "execution_count": 25,
   "metadata": {
    "id": "gxrCJvxIJSjA",
    "tags": []
   },
   "outputs": [
    {
     "name": "stdout",
     "output_type": "stream",
     "text": [
      "Responded %%: 0.98\n",
      "Accuracy (when responded): 0.3877551020408163\n",
      "Accuracy (overall): 0.38\n"
     ]
    }
   ],
   "source": [
    "print(\"Responded %%:\", NUM_RESPONDED / NUM_SAMPLES)\n",
    "print(\"Accuracy (when responded):\", NUM_CORRECT / NUM_RESPONDED)\n",
    "print(\"Accuracy (overall):\", NUM_CORRECT / NUM_SAMPLES)\n",
    "\n",
    "if NUM_RESPONDED / NUM_SAMPLES < 0.9:\n",
    "    print(\"Something is wrong with the evaluation technique (for 5-shot CoT): the model refuses to answer too many questions.\")\n",
    "    print(\"Make sure you generate enough tokens that the model can produce a correct answer.\")\n",
    "    print(\"When in doubt, take a look at the full model output. You can often spot errors there.\")"
   ]
  },
  {
   "cell_type": "markdown",
   "metadata": {
    "id": "UZLK2rLiKxbM"
   },
   "source": [
    "__Task 8 (2 points)__ Experiment time!\n",
    "<img width=200px src=https://www.evolvefish.com/cdn-cgi/image/quality%3D85/assets/images/Apparel/TShirtsWomenCont/Main/EF-APP-CWT-00068(Main).jpg>\n",
    "\n",
    "Your final quest is to use the testbench you've just written to answer one of the following questions:\n",
    "\n",
    "### Option 1: How many shots do you need?\n",
    "\n",
    "How does model accuracy change with the number of fewshot examples?\n",
    "\n",
    "a. check if the model accuracy changes as you increase/decrease the number of \"shots\"\n",
    "\n",
    "b. try to prompt-engineer a model into giving the best rationale __without__ any few-shot examples, i.e. zero-shot\n",
    "\n",
    "For zero-shot mode, feel free to use wild prompt-engineering or modify the inference procedure.\n",
    "\n",
    "### Option 2: Is this prompting tecnique reliable?\n",
    "\n",
    "_Inspired by ongoing research by Anton Voronov, Lena Volf and Max Ryabinin._\n",
    "\n",
    "For this option, you need to check if the model behavior (and hence, accuracy) is robust to perturbations in the input prompt.\n",
    "\n",
    "a. Does the accuracy degrade if you provide wrong answers to few-shot examples? (make sure to modify rationale if it contains answer in the end)\n",
    "\n",
    "b. Does it degrade if you replace question/answer prompts with \"Q\" and \"A\"? What if you write both on the same line? Change few-shot separators?\n",
    "\n",
    "\n",
    "\n",
    "### Option 3: Inference Matters\n",
    "\n",
    "There are many ways to inference the model, not all of them equal.\n",
    "\n",
    "a. check whether greedy inference or beam search affects model generation quality\n",
    "\n",
    "b. implement and evaluate sampling with voting (see explanation below).\n",
    "\n",
    "\n",
    "The voting technique(b) should work as follows: first, you generate k (e.g. 50) \"attempts\" at an answer using nucleus sampling (or a similar technique).\n",
    "Then, you count how many of those attempts chose a particular option (A, B, etc) as the final answer. The option that was chosen most frequently has the most \"votes\", and therefore \"wins\".\n",
    "\n",
    "To speed up voting, you may want to generate these attempts in parallel as a batch. That should be very easy to implement: just run `model.generate` on a list with multiple copies of the same prompt.\n",
    "\n",
    "\n",
    "\n",
    "\n",
    "================================================\n",
    "\n",
    "__Common rules:__ You will need to test both hypothes (A and B) in the chosen option. You may choose to replace one of them with your own idea - but please ask course staff in advance (via telegram) if you want full points.\n",
    "\n",
    "Feel free to organize your code and report as you see fit - but please make sure it's readable and the code runs top-to-bottom :)\n",
    "Write a short informal report about what you tried and, in doing so, what did you found. Minimum of 2 paragraphs; more is ok; creative visualizations are welcome.\n",
    "\n",
    "You are allowed (but not required) to prompt the model into generating a report for you --- or helping you write one. However, if you do so, make sure that it is still human-readable :)\n",
    "\n"
   ]
  },
  {
   "cell_type": "markdown",
   "metadata": {},
   "source": [
    "### Option 1 ###"
   ]
  },
  {
   "cell_type": "code",
   "execution_count": 18,
   "metadata": {
    "tags": []
   },
   "outputs": [
    {
     "data": {
      "application/vnd.jupyter.widget-view+json": {
       "model_id": "8ed9d981d7c742ec975475dc61bbfa0d",
       "version_major": 2,
       "version_minor": 0
      },
      "text/plain": [
       "  0%|          | 0/6 [00:00<?, ?it/s]"
      ]
     },
     "metadata": {},
     "output_type": "display_data"
    },
    {
     "data": {
      "application/vnd.jupyter.widget-view+json": {
       "model_id": "2653b7701e8f4fe794fbe050dceef22a",
       "version_major": 2,
       "version_minor": 0
      },
      "text/plain": [
       "  0%|          | 0/10 [00:00<?, ?it/s]"
      ]
     },
     "metadata": {},
     "output_type": "display_data"
    },
    {
     "data": {
      "application/vnd.jupyter.widget-view+json": {
       "model_id": "fabb8f7003114db9b8e6b40df96a6abb",
       "version_major": 2,
       "version_minor": 0
      },
      "text/plain": [
       "  0%|          | 0/10 [00:00<?, ?it/s]"
      ]
     },
     "metadata": {},
     "output_type": "display_data"
    },
    {
     "data": {
      "application/vnd.jupyter.widget-view+json": {
       "model_id": "46b59af8c46543ae867e2c6d84f0f864",
       "version_major": 2,
       "version_minor": 0
      },
      "text/plain": [
       "  0%|          | 0/10 [00:00<?, ?it/s]"
      ]
     },
     "metadata": {},
     "output_type": "display_data"
    },
    {
     "data": {
      "application/vnd.jupyter.widget-view+json": {
       "model_id": "63018d8ed19c4b7bbd24a26fc5a0bc86",
       "version_major": 2,
       "version_minor": 0
      },
      "text/plain": [
       "  0%|          | 0/10 [00:00<?, ?it/s]"
      ]
     },
     "metadata": {},
     "output_type": "display_data"
    },
    {
     "data": {
      "application/vnd.jupyter.widget-view+json": {
       "model_id": "81496bf6834b49bd982fba6fcd2ea20c",
       "version_major": 2,
       "version_minor": 0
      },
      "text/plain": [
       "  0%|          | 0/10 [00:00<?, ?it/s]"
      ]
     },
     "metadata": {},
     "output_type": "display_data"
    },
    {
     "data": {
      "application/vnd.jupyter.widget-view+json": {
       "model_id": "f81080a82287476b8e145f4f224e57d4",
       "version_major": 2,
       "version_minor": 0
      },
      "text/plain": [
       "  0%|          | 0/10 [00:00<?, ?it/s]"
      ]
     },
     "metadata": {},
     "output_type": "display_data"
    },
    {
     "name": "stdout",
     "output_type": "stream",
     "text": [
      "CPU times: user 1h 41min 59s, sys: 15min 28s, total: 1h 57min 28s\n",
      "Wall time: 2h 5min 27s\n"
     ]
    },
    {
     "data": {
      "text/plain": [
       "([10, 10, 10, 10, 10, 10], [0, 5, 9, 10, 9, 9], [0, 0, 3, 1, 6, 1])"
      ]
     },
     "execution_count": 18,
     "metadata": {},
     "output_type": "execute_result"
    }
   ],
   "source": [
    "%%time\n",
    "samples, responded, correct = [0.00001]* 6, [0.00001]* 6, [0]*6\n",
    "for i in tqdm(range(0, 6)):\n",
    "    samples[i], responded[i], correct[i] =  test_accuracy(examples=10, few_shots_count = i)\n",
    "samples, responded, correct    "
   ]
  },
  {
   "cell_type": "code",
   "execution_count": 19,
   "metadata": {
    "tags": []
   },
   "outputs": [
    {
     "name": "stdout",
     "output_type": "stream",
     "text": [
      "Responded %%: [0.  0.5 0.9 1.  0.9 0.9]\n",
      "Accuracy (when responded): [       nan 0.         0.33333333 0.1        0.66666667 0.11111111]\n",
      "Accuracy (overall): [0.  0.  0.3 0.1 0.6 0.1]\n"
     ]
    },
    {
     "name": "stderr",
     "output_type": "stream",
     "text": [
      "/tmp/ipykernel_97440/635916249.py:4: RuntimeWarning: invalid value encountered in divide\n",
      "  print(\"Accuracy (when responded):\", np.array(correct) / np.array( responded))\n"
     ]
    }
   ],
   "source": [
    "import numpy as np\n",
    "\n",
    "print(\"Responded %%:\", np.array(responded) / np.array(samples))\n",
    "print(\"Accuracy (when responded):\", np.array(correct) / np.array( responded))\n",
    "print(\"Accuracy (overall):\", np.array(correct) / np.array(samples))"
   ]
  },
  {
   "cell_type": "code",
   "execution_count": 20,
   "metadata": {
    "tags": []
   },
   "outputs": [
    {
     "data": {
      "image/png": "[encoded data removed]",
      "text/plain": [
       "<Figure size 640x480 with 1 Axes>"
      ]
     },
     "metadata": {},
     "output_type": "display_data"
    }
   ],
   "source": [
    "import matplotlib.pyplot as plt\n",
    "\n",
    "x_values = list(range(6))\n",
    "\n",
    "plt.plot(x_values, samples, label='Sample_number', marker='o')\n",
    "plt.plot(x_values, responded, label='Responded_number', marker='s')\n",
    "plt.plot(x_values, correct, label='Correct_number', marker='^')\n",
    "\n",
    "plt.title('Comparing samples, responded, correct number of tasks')\n",
    "plt.xlabel('Fewshot number')\n",
    "plt.ylabel('Number')\n",
    "\n",
    "plt.legend()\n",
    "plt.grid(True)\n",
    "plt.show()"
   ]
  },
  {
   "cell_type": "markdown",
   "metadata": {},
   "source": [
    "### Вывод: ### \n",
    "чем больше мы добавляем примеров в промпт, тем лучше модель понимает правильный формат ответа (поэтому растет responded score). Но присутствует и обратная зависимость, если много докидывать примеров в промпт, то модель станет отвечать хуже из-за размера контекста. \n",
    "Оценка может быть не совсем обьективной, так как я оценивала качество промпта с фиксированным количеством примеров всего на 10 сэмплах, но увы, это упирается в ресурсы  "
   ]
  },
  {
   "cell_type": "code",
   "execution_count": 21,
   "metadata": {
    "tags": []
   },
   "outputs": [
    {
     "name": "stderr",
     "output_type": "stream",
     "text": [
      "/tmp/ipykernel_97440/918273676.py:2: RuntimeWarning: invalid value encountered in divide\n",
      "  plt.plot(x_values, np.array(correct) / np.array( responded), label='Accuracy (when responded)', marker='s')\n"
     ]
    },
    {
     "data": {
      "image/png": "[encoded data removed]",
      "text/plain": [
       "<Figure size 640x480 with 1 Axes>"
      ]
     },
     "metadata": {},
     "output_type": "display_data"
    }
   ],
   "source": [
    "plt.plot(x_values, np.array(responded) / np.array(samples), label='Responded %%', marker='o')\n",
    "plt.plot(x_values, np.array(correct) / np.array( responded), label='Accuracy (when responded)', marker='s')\n",
    "plt.plot(x_values, np.array(correct) / np.array(samples), label='Accuracy (overall)', marker='^')\n",
    "\n",
    "plt.title('Comparing responced rate, responded accuracy and accuracy overall')\n",
    "plt.xlabel('Fewshot number')\n",
    "plt.ylabel('Value')\n",
    "\n",
    "plt.legend()\n",
    "plt.grid(True)\n",
    "plt.show()"
   ]
  },
  {
   "cell_type": "markdown",
   "metadata": {},
   "source": [
    "## Option 2 ##"
   ]
  },
  {
   "cell_type": "markdown",
   "metadata": {},
   "source": [
    "Сгенерим случайные ответы на вопросы и попросим модель саму придумать пояснение, почему придуманный ответ явялется правильным. Рассуждения модели записаны в поле 'non rationale'. Далее будем использовать фальшивые рассуждения модели и неправильные ответы в fewshots."
   ]
  },
  {
   "cell_type": "code",
   "execution_count": 13,
   "metadata": {
    "id": "_r6UVDl4NEua",
    "tags": []
   },
   "outputs": [
    {
     "data": {
      "application/vnd.jupyter.widget-view+json": {
       "model_id": "20aae142bb064dbca19cc694c9708a0b",
       "version_major": 2,
       "version_minor": 0
      },
      "text/plain": [
       "  0%|          | 0/50 [00:00<?, ?it/s]"
      ]
     },
     "metadata": {},
     "output_type": "display_data"
    },
    {
     "name": "stdout",
     "output_type": "stream",
     "text": [
      "CPU times: user 36min 22s, sys: 6min 34s, total: 42min 56s\n",
      "Wall time: 43min 45s\n"
     ]
    }
   ],
   "source": [
    "%%time\n",
    "for i in tqdm(range(50)):\n",
    "    data[i]['incorrect'] = random.choice(['A', 'B', 'C', 'D', 'E'])\n",
    "    prompt = f'Generate an explanation for why the answer {data[i][\"incorrect\"]} is actually the only correct option among the following choices: {data[i][\"options\"]}, for the question: {data[i][\"question\"]}.'\n",
    "    batch = tokenizer(prompt, return_tensors='pt', return_token_type_ids=False).to(device)\n",
    "    output_tokens = model.generate(**batch, max_new_tokens=250, do_sample=True, top_p=0.85)\n",
    "    answer = tokenizer.decode(output_tokens[0][batch['input_ids'].shape[1]:].cpu())\n",
    "    data[i]['non rationale'] = answer"
   ]
  },
  {
   "cell_type": "code",
   "execution_count": 14,
   "metadata": {
    "tags": []
   },
   "outputs": [
    {
     "data": {
      "text/plain": [
       "{'question': 'The price of a product is reduced by 30% . By what percentage should it be increased to make it 100%',\n",
       " 'options': ['A)41.86%', 'B)42.86%', 'C)43.86%', 'D)44.86%', 'E)45.86%'],\n",
       " 'rationale': 'If initial price is Rs 100 and reduced price is Rs 70.\\nThen, to make it 100 again, price should increase by 100*30/70= 300/7 % or 42.86% approx\\nANSWER:B',\n",
       " 'correct': 'B',\n",
       " 'incorrect': 'D',\n",
       " 'non rationale': '\\nWe get: The price of a product is reduced by 30% . By what percentage should it be increased to make it 100%.\\nThe price of a product is reduced by 30% .\\nThe price of a product is reduced by 30% . By what percentage should it be increased to make it 100%?\\nThe price of a product is reduced by 30%. By what percentage should it be increased to make it 100%?\\nThe price of a product is reduced by 30%. By what percentage should it be increased to make it 100%? .\\nThe price of a product is reduced by 30%. By what percentage should it be increased to make it 100%?\\nThe price of a product is reduced by 30%. By what percentage should it be increased to make it 100%? .\\nThe price of a product is reduced by 30%. By what percentage should it be increased to make it 100%?.\\nThe price of a product is reduced by 30%. By what percentage should it be increased to make it 100'}"
      ]
     },
     "execution_count": 14,
     "metadata": {},
     "output_type": "execute_result"
    }
   ],
   "source": [
    "data[49]"
   ]
  },
  {
   "cell_type": "code",
   "execution_count": 15,
   "metadata": {
    "tags": []
   },
   "outputs": [
    {
     "data": {
      "application/vnd.jupyter.widget-view+json": {
       "model_id": "03405001d6a340d0a2ef8029dfaff438",
       "version_major": 2,
       "version_minor": 0
      },
      "text/plain": [
       "  0%|          | 0/50 [00:00<?, ?it/s]"
      ]
     },
     "metadata": {},
     "output_type": "display_data"
    },
    {
     "name": "stdout",
     "output_type": "stream",
     "text": [
      "50 44 24\n",
      "Responded %%: 0.88\n",
      "Accuracy (when responded): 0.5454545454545454\n",
      "Accuracy (overall): 0.48\n",
      "CPU times: user 1h 30min 17s, sys: 16min 34s, total: 1h 46min 52s\n",
      "Wall time: 1h 51min 43s\n"
     ]
    }
   ],
   "source": [
    "%%time\n",
    "\n",
    "answer_changed_A = 0\n",
    "question_changed_Q = 0\n",
    "answer_question_changed = 0\n",
    "\n",
    "def make_wrong_prompt(*, main_question, fewshot_examples):\n",
    "    my_prompt = \"\"\n",
    "    for few_shot_q in fewshot_examples:\n",
    "        few_shot_catg = list(few_shot_q.keys())\n",
    "        my_prompt += QUESTION_PREFIX + few_shot_q[few_shot_catg[0]] + '\\n' + OPTIONS_PREFIX + \" \".join(map(lambda x: '(' + x[:2] + ' ' + x[2:], few_shot_q[few_shot_catg[1]]))\\\n",
    "                  + '\\n' + CHAIN_OF_THOUGHT_PREFIX + few_shot_q[few_shot_catg[5]] + '\\n' + ANSWER_PREFIX + few_shot_q[few_shot_catg[4]] + FEWSHOT_SEPARATOR\n",
    "        #my_prompt += '\\n'\n",
    "\n",
    "    my_prompt += QUESTION_PREFIX + main_question[list(main_question.keys())[0]] + '\\n' + OPTIONS_PREFIX + \" \".join(map(lambda x: '(' + x[:2] + ' ' + x[2:], main_question[list(main_question.keys())[1]]))\\\n",
    "                  + '\\n' + CHAIN_OF_THOUGHT_PREFIX[:-1]\n",
    "\n",
    "    return my_prompt\n",
    "\n",
    "def make_prompt_QA(*, main_question, fewshot_examples):\n",
    "    global answer_changed_A\n",
    "    global question_changed_Q\n",
    "    global answer_question_changed\n",
    "    \n",
    "    my_prompt = \"\"\n",
    "    for few_shot_q in fewshot_examples:\n",
    "        few_shot_catg = list(few_shot_q.keys())\n",
    "        question = random.sample([few_shot_q[few_shot_catg[0]], 'Q'], 1)[0]\n",
    "        answer = random.sample([few_shot_q[few_shot_catg[4]], 'A'], 1)[0]\n",
    "        \n",
    "        if answer == 'A' and question == 'Q':\n",
    "            answer_question_changed += 1\n",
    "            answer_changed_A += 1\n",
    "            question_changed_Q += 1\n",
    "        elif answer == 'A':\n",
    "            answer_changed_A += 1\n",
    "        elif question == 'Q':\n",
    "            question_changed_Q += 1\n",
    "            \n",
    "        my_prompt += QUESTION_PREFIX + question + '\\n' + OPTIONS_PREFIX + \" \".join(map(lambda x: '(' + x[:2] + ' ' + x[2:], few_shot_q[few_shot_catg[1]]))\\\n",
    "                  + '\\n' + CHAIN_OF_THOUGHT_PREFIX + few_shot_q[few_shot_catg[2]] + '\\n' + ANSWER_PREFIX + answer + FEWSHOT_SEPARATOR\n",
    "        #my_prompt += '\\n'\n",
    "\n",
    "    my_prompt += QUESTION_PREFIX + main_question[list(main_question.keys())[0]] + '\\n' + OPTIONS_PREFIX + \" \".join(map(lambda x: '(' + x[:2] + ' ' + x[2:], main_question[list(main_question.keys())[1]]))\\\n",
    "                  + '\\n' + CHAIN_OF_THOUGHT_PREFIX[:-1]\n",
    "\n",
    "    return my_prompt\n",
    "\n",
    "def test_wrong_fewshot_accuracy(make_prompt_func, examples= len(data), few_shots_count = 5): #\n",
    "    NUM_SAMPLES = 0    \n",
    "    NUM_RESPONDED = 0\n",
    "    NUM_CORRECT = 0\n",
    "    \n",
    "    for i in tqdm(range(examples)):\n",
    "        main_num, few_shot_nums = i, random.sample([j for j in range(examples) if j != i], few_shots_count)\n",
    "        prompt = make_prompt_func(main_question=data[i], fewshot_examples=(data[k] for k in few_shot_nums))\n",
    "\n",
    "        batch = tokenizer(prompt, return_tensors='pt', return_token_type_ids=False).to(device)\n",
    "        output_tokens = model.generate(**batch, max_new_tokens=450, do_sample=True, top_p=0.85) \n",
    "\n",
    "        answer = tokenizer.decode(output_tokens[0][batch['input_ids'].shape[1]:].cpu())\n",
    "        if answer:\n",
    "            NUM_SAMPLES += 1\n",
    "        if ANSWER_PREFIX in answer:\n",
    "            NUM_RESPONDED += 1\n",
    "        if ANSWER_PREFIX + data[i]['correct'] in answer:\n",
    "            NUM_CORRECT += 1\n",
    "    return NUM_SAMPLES, NUM_RESPONDED, NUM_CORRECT\n",
    "\n",
    "NUM_SAMPLES, NUM_RESPONDED, NUM_CORRECT = test_wrong_fewshot_accuracy(make_wrong_prompt, 50, 5)\n",
    "\n",
    "print(NUM_SAMPLES, NUM_RESPONDED, NUM_CORRECT)\n",
    "print(\"Responded %%:\", NUM_RESPONDED / NUM_SAMPLES)\n",
    "print(\"Accuracy (when responded):\", NUM_CORRECT / NUM_RESPONDED)\n",
    "print(\"Accuracy (overall):\", NUM_CORRECT / NUM_SAMPLES)"
   ]
  },
  {
   "cell_type": "code",
   "execution_count": 21,
   "metadata": {},
   "outputs": [
    {
     "data": {
      "application/vnd.jupyter.widget-view+json": {
       "model_id": "e2abbd889a5b41828bb5b189329c0e7d",
       "version_major": 2,
       "version_minor": 0
      },
      "text/plain": [
       "  0%|          | 0/50 [00:00<?, ?it/s]"
      ]
     },
     "metadata": {},
     "output_type": "display_data"
    },
    {
     "name": "stdout",
     "output_type": "stream",
     "text": [
      "50 46 23\n",
      "Responded %%: 0.92\n",
      "Accuracy (when responded): 0.5\n",
      "Accuracy (overall): 0.46\n",
      "\n",
      "Number of questions changed to Q 54\n",
      "Number of answers changed to A 73\n",
      "Number of questions, answers both changed to Q, A 71\n",
      "CPU times: user 1h 29min 46s, sys: 15min 59s, total: 1h 45min 45s\n",
      "Wall time: 1h 50min 57s\n"
     ]
    }
   ],
   "source": [
    "%%time\n",
    "\n",
    "NUM_SAMPLES, NUM_RESPONDED, NUM_CORRECT = test_wrong_fewshot_accuracy(make_prompt_QA, 50, 5)\n",
    "\n",
    "print(NUM_SAMPLES, NUM_RESPONDED, NUM_CORRECT)\n",
    "print(\"Responded %%:\", NUM_RESPONDED / NUM_SAMPLES)\n",
    "print(\"Accuracy (when responded):\", NUM_CORRECT / NUM_RESPONDED)\n",
    "print(\"Accuracy (overall):\", NUM_CORRECT / NUM_SAMPLES)\n",
    "print()\n",
    "print('Number of questions changed to Q', question_changed_Q)\n",
    "print('Number of answers changed to A', answer_changed_A)\n",
    "print('Number of questions, answers both changed to Q, A', answer_question_changed)"
   ]
  },
  {
   "cell_type": "markdown",
   "metadata": {},
   "source": [
    " ### Вывод: ###\n",
    " Мы испоритили промпты 2 способами: выдали неверный ответ на вопос с неверным рассуждением, маскировали вопрос/ответ в примерах. При этом accuracy не поменялось, это говорит о том, что примеры в промпте модели служат лишь шаблоном нужного формата ответа."
   ]
  },
  {
   "cell_type": "markdown",
   "metadata": {},
   "source": [
    "## Option 3 ##"
   ]
  },
  {
   "cell_type": "code",
   "execution_count": null,
   "metadata": {
    "tags": []
   },
   "outputs": [
    {
     "data": {
      "application/vnd.jupyter.widget-view+json": {
       "model_id": "f0d319214874432fa60b3ec979196be7",
       "version_major": 2,
       "version_minor": 0
      },
      "text/plain": [
       "  0%|          | 0/25 [00:00<?, ?it/s]"
      ]
     },
     "metadata": {},
     "output_type": "display_data"
    }
   ],
   "source": [
    "%%time \n",
    "\n",
    "def update_cnt_resp(answer, correct_answer, samples, responded, correct):\n",
    "    if answer:\n",
    "        samples += 1\n",
    "    if ANSWER_PREFIX in answer:\n",
    "        responded += 1\n",
    "    if ANSWER_PREFIX + correct_answer in answer:\n",
    "        correct += 1\n",
    "    return samples, responded, correct\n",
    "    \n",
    "def print_metrics(strategy, samples, responded, correct):\n",
    "    print(\"Strategy:\", strategy)\n",
    "    print(\"Samples:\", samples, \"Responded:\", responded, \"Correct:\", correct)\n",
    "    print(\"Responded %%:\", responded / samples)\n",
    "    print(\"Accuracy (when responded):\", correct / responded)\n",
    "    print(\"Accuracy (overall):\", correct / samples)\n",
    "    print()\n",
    "    \n",
    "def test_greedy_beamsearch_accuracy(examples= len(data), few_shots_count = 5): \n",
    "    NUM_SAMPLES_GR, NUM_SAMPLES_BS = 0, 0    \n",
    "    NUM_RESPONDED_GR, NUM_RESPONDED_BS = 0, 0\n",
    "    NUM_CORRECT_GR, NUM_CORRECT_BS = 0, 0\n",
    "    \n",
    "    for i in tqdm(range(examples)):\n",
    "        main_num, few_shot_nums = i, random.sample([j for j in range(len(data)) if j != i], few_shots_count)\n",
    "        prompt = make_prompt(main_question=data[i], fewshot_examples=(data[k] for k in few_shot_nums))\n",
    "\n",
    "        batch = tokenizer(prompt, return_tensors='pt', return_token_type_ids=False).to(device)\n",
    "        output_tokens_greedy = model.generate(**batch, max_new_tokens=450, num_beams=1, do_sample=False) #greedy strategy sampling\n",
    "        output_tokens_beamsearch = model.generate(**batch, max_new_tokens=450, num_beams=3) #beamsearch\n",
    "        \n",
    "        answer_greedy = tokenizer.decode(output_tokens_greedy[0][batch['input_ids'].shape[1]:].cpu())\n",
    "        answer_beamsearch = tokenizer.decode(output_tokens_beamsearch[0][batch['input_ids'].shape[1]:].cpu())\n",
    "        \n",
    "        NUM_SAMPLES_GR, NUM_RESPONDED_GR, NUM_CORRECT_GR = update_cnt_resp(answer_greedy, data[i]['correct'], NUM_SAMPLES_GR, NUM_RESPONDED_GR, NUM_CORRECT_GR)\n",
    "        NUM_SAMPLES_BS, NUM_RESPONDED_BS, NUM_CORRECT_BS = update_cnt_resp(answer_beamsearch, data[i]['correct'], NUM_SAMPLES_BS, NUM_RESPONDED_BS, NUM_CORRECT_BS)\n",
    "            \n",
    "    return ((NUM_SAMPLES_GR, NUM_RESPONDED_GR, NUM_CORRECT_GR), (NUM_SAMPLES_BS, NUM_RESPONDED_BS, NUM_CORRECT_BS))\n",
    "\n",
    "\n",
    "greedy, beamsearch = test_greedy_beamsearch_accuracy(25, 5)\n",
    "NUM_SAMPLES_GR, NUM_RESPONDED_GR, NUM_CORRECT_GR = greedy\n",
    "NUM_SAMPLES_BS, NUM_RESPONDED_BS, NUM_CORRECT_BS = beamsearch\n",
    "\n",
    "print_metrics('Greedy sampling', NUM_SAMPLES_GR, NUM_RESPONDED_GR, NUM_CORRECT_GR)\n",
    "print_metrics('Beam Search', NUM_SAMPLES_BS, NUM_RESPONDED_BS, NUM_CORRECT_BS)"
   ]
  },
  {
   "cell_type": "markdown",
   "metadata": {},
   "source": [
    " ### Вывод: ###\n",
    " Поскольку модель долго работает, я успела прогнать только 25 семплов"
   ]
  },
  {
   "cell_type": "code",
   "execution_count": 26,
   "metadata": {
    "tags": []
   },
   "outputs": [
    {
     "data": {
      "text/plain": [
       "(25, 12, 3)"
      ]
     },
     "execution_count": 26,
     "metadata": {},
     "output_type": "execute_result"
    }
   ],
   "source": [
    "NUM_SAMPLES_GR, NUM_RESPONDED_GR, NUM_CORRECT_GR"
   ]
  },
  {
   "cell_type": "code",
   "execution_count": 28,
   "metadata": {
    "tags": []
   },
   "outputs": [
    {
     "name": "stdout",
     "output_type": "stream",
     "text": [
      "Strategy: Greedy sampling\n",
      "Samples: 25 Responded: 49 Correct: 19\n",
      "Responded %%: 0.48\n",
      "Accuracy (when responded): 0.25\n",
      "Accuracy (overall): 0.12\n",
      "\n"
     ]
    }
   ],
   "source": [
    "print_metrics('Greedy sampling', NUM_SAMPLES_GR, NUM_RESPONDED_GR, NUM_CORRECT_GR)"
   ]
  },
  {
   "cell_type": "code",
   "execution_count": 27,
   "metadata": {
    "tags": []
   },
   "outputs": [
    {
     "data": {
      "text/plain": [
       "(25, 15, 7)"
      ]
     },
     "execution_count": 27,
     "metadata": {},
     "output_type": "execute_result"
    }
   ],
   "source": [
    "NUM_SAMPLES_BS, NUM_RESPONDED_BS, NUM_CORRECT_BS"
   ]
  },
  {
   "cell_type": "code",
   "execution_count": null,
   "metadata": {},
   "outputs": [],
   "source": []
  }
 ],
 "metadata": {
  "accelerator": "GPU",
  "colab": {
   "gpuType": "T4",
   "provenance": []
  },
  "kernelspec": {
   "display_name": "fl_test",
   "language": "python",
   "name": "fl_test"
  },
  "language_info": {
   "codemirror_mode": {
    "name": "ipython",
    "version": 3
   },
   "file_extension": ".py",
   "mimetype": "text/x-python",
   "name": "python",
   "nbconvert_exporter": "python",
   "pygments_lexer": "ipython3",
   "version": "3.9.19"
  }
 },
 "nbformat": 4,
 "nbformat_minor": 4
}
