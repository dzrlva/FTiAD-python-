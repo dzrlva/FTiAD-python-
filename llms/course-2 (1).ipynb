{
 "cells": [
  {
   "cell_type": "code",
   "execution_count": 1,
   "metadata": {
    "colab": {
     "base_uri": "https://localhost:8080/"
    },
    "id": "mDIStMc1LaNh",
    "outputId": "2220e1b7-dd6a-4fb0-a7e2-cd228e57b8f5",
    "tags": []
   },
   "outputs": [
    {
     "name": "stdout",
     "output_type": "stream",
     "text": [
      "There are 1 GPU(s) available\n",
      "NVIDIA A100 80GB PCIe\n"
     ]
    },
    {
     "data": {
      "text/plain": [
       "device(type='cuda')"
      ]
     },
     "execution_count": 1,
     "metadata": {},
     "output_type": "execute_result"
    }
   ],
   "source": [
    "import torch\n",
    "\n",
    "if torch.cuda.is_available():\n",
    "  device = torch.device('cuda')\n",
    "  print('There are %d GPU(s) available' % torch.cuda.device_count())\n",
    "  print(torch.cuda.get_device_name(0))\n",
    "else:\n",
    "  device = torch.device('cpu')\n",
    "  print('No GPU available, CPU instaed')\n",
    "\n",
    "device"
   ]
  },
  {
   "cell_type": "code",
   "execution_count": 2,
   "metadata": {
    "id": "R-5uB1yKLdzO",
    "tags": []
   },
   "outputs": [
    {
     "name": "stderr",
     "output_type": "stream",
     "text": [
      "/home/daozerova/.conda/envs/fl/lib/python3.9/site-packages/transformers/utils/generic.py:441: UserWarning: torch.utils._pytree._register_pytree_node is deprecated. Please use torch.utils._pytree.register_pytree_node instead.\n",
      "  _torch_pytree._register_pytree_node(\n",
      "/home/daozerova/.conda/envs/fl/lib/python3.9/site-packages/transformers/utils/generic.py:309: UserWarning: torch.utils._pytree._register_pytree_node is deprecated. Please use torch.utils._pytree.register_pytree_node instead.\n",
      "  _torch_pytree._register_pytree_node(\n",
      "/home/daozerova/.conda/envs/fl/lib/python3.9/site-packages/transformers/utils/generic.py:309: UserWarning: torch.utils._pytree._register_pytree_node is deprecated. Please use torch.utils._pytree.register_pytree_node instead.\n",
      "  _torch_pytree._register_pytree_node(\n"
     ]
    }
   ],
   "source": [
    "from transformers import BertForSequenceClassification, AdamW, BertConfig\n",
    "import pandas as pd\n",
    "import numpy as np\n",
    "from copy import deepcopy\n",
    "import re\n",
    "from tqdm.notebook import tqdm\n",
    "tqdm.pandas()\n",
    "\n",
    "import matplotlib.pyplot as plt\n",
    "import seaborn as sns\n",
    "\n",
    "from sklearn import metrics\n",
    "from sklearn.preprocessing import LabelEncoder\n",
    "from torch.utils.data import DataLoader, RandomSampler, SequentialSampler\n",
    "from torch.utils.data import TensorDataset, random_split\n",
    "\n",
    "import torch\n",
    "from transformers import BertTokenizer\n",
    "from transformers import AutoTokenizer, AutoModel\n",
    "from transformers import BertForSequenceClassification, AdamW, BertConfig\n",
    "\n",
    "import numpy as np\n",
    "import datetime\n",
    "import time\n",
    "import random\n",
    "from transformers import get_linear_schedule_with_warmup\n",
    "from sklearn.metrics import classification_report, ConfusionMatrixDisplay, confusion_matrix, \\\n",
    "                            precision_score, recall_score, accuracy_score, roc_auc_score, average_precision_score"
   ]
  },
  {
   "cell_type": "code",
   "execution_count": 4,
   "metadata": {
    "id": "g0liaQH2PigO",
    "tags": []
   },
   "outputs": [],
   "source": [
    "lenta_df = pd.read_excel('lenta_finam.xlsx')\n",
    "rbk_df = pd.read_excel('rbk_finam.xlsx')\n",
    "\n",
    "lenta_df_ton = pd.read_csv('lenta_finam_unique_sentiment.xlsx')\n",
    "rbk_df_ton = pd.read_csv('rbk_finam_unique_sentiment.xlsx')"
   ]
  },
  {
   "cell_type": "code",
   "execution_count": 5,
   "metadata": {
    "id": "folxBhawYBcC",
    "tags": []
   },
   "outputs": [],
   "source": [
    "lenta_df = lenta_df.merge(lenta_df_ton, left_on='title', right_on='title').drop(['Unnamed: 0'], axis=1)\n",
    "rbk_df = rbk_df.merge(rbk_df_ton, left_on='title', right_on='title').drop(['Unnamed: 0'], axis=1)"
   ]
  },
  {
   "cell_type": "code",
   "execution_count": 6,
   "metadata": {
    "tags": []
   },
   "outputs": [
    {
     "data": {
      "text/html": [
       "<div>\n",
       "<style scoped>\n",
       "    .dataframe tbody tr th:only-of-type {\n",
       "        vertical-align: middle;\n",
       "    }\n",
       "\n",
       "    .dataframe tbody tr th {\n",
       "        vertical-align: top;\n",
       "    }\n",
       "\n",
       "    .dataframe thead th {\n",
       "        text-align: right;\n",
       "    }\n",
       "</style>\n",
       "<table border=\"1\" class=\"dataframe\">\n",
       "  <thead>\n",
       "    <tr style=\"text-align: right;\">\n",
       "      <th></th>\n",
       "      <th>id</th>\n",
       "      <th>title</th>\n",
       "      <th>body</th>\n",
       "      <th>text</th>\n",
       "      <th>TICKER</th>\n",
       "      <th>PER</th>\n",
       "      <th>DATE</th>\n",
       "      <th>TIME</th>\n",
       "      <th>OPEN</th>\n",
       "      <th>HIGH</th>\n",
       "      <th>LOW</th>\n",
       "      <th>CLOSE</th>\n",
       "      <th>VOL</th>\n",
       "      <th>date_y</th>\n",
       "      <th>sentiment</th>\n",
       "    </tr>\n",
       "  </thead>\n",
       "  <tbody>\n",
       "    <tr>\n",
       "      <th>0</th>\n",
       "      <td>1181788</td>\n",
       "      <td>В МИД России назвали сроки сертификации «Север...</td>\n",
       "      <td>В МИД России назвали сроки сертификации «Север...</td>\n",
       "      <td>Фото: Nikolai Ryutin / Nord Stream 2 Евгения Н...</td>\n",
       "      <td>SBER</td>\n",
       "      <td>60</td>\n",
       "      <td>20220103</td>\n",
       "      <td>10:00</td>\n",
       "      <td>1,326.2</td>\n",
       "      <td>1,330.5</td>\n",
       "      <td>1,321.7</td>\n",
       "      <td>1,323.1</td>\n",
       "      <td>22,990</td>\n",
       "      <td>2022-01-03 10:00:00</td>\n",
       "      <td>отрицательный</td>\n",
       "    </tr>\n",
       "    <tr>\n",
       "      <th>1</th>\n",
       "      <td>1181788</td>\n",
       "      <td>В МИД России назвали сроки сертификации «Север...</td>\n",
       "      <td>В МИД России назвали сроки сертификации «Север...</td>\n",
       "      <td>Фото: Nikolai Ryutin / Nord Stream 2 Евгения Н...</td>\n",
       "      <td>ROSN</td>\n",
       "      <td>60</td>\n",
       "      <td>20220103</td>\n",
       "      <td>10:00</td>\n",
       "      <td>1,326.2</td>\n",
       "      <td>1,330.5</td>\n",
       "      <td>1,321.7</td>\n",
       "      <td>1,323.1</td>\n",
       "      <td>22,990</td>\n",
       "      <td>2022-01-03 10:00:00</td>\n",
       "      <td>отрицательный</td>\n",
       "    </tr>\n",
       "    <tr>\n",
       "      <th>2</th>\n",
       "      <td>1181788</td>\n",
       "      <td>В МИД России назвали сроки сертификации «Север...</td>\n",
       "      <td>В МИД России назвали сроки сертификации «Север...</td>\n",
       "      <td>Фото: Nikolai Ryutin / Nord Stream 2 Евгения Н...</td>\n",
       "      <td>MOEX</td>\n",
       "      <td>60</td>\n",
       "      <td>20220103</td>\n",
       "      <td>10:00</td>\n",
       "      <td>1,326.2</td>\n",
       "      <td>1,330.5</td>\n",
       "      <td>1,321.7</td>\n",
       "      <td>1,323.1</td>\n",
       "      <td>22,990</td>\n",
       "      <td>2022-01-03 10:00:00</td>\n",
       "      <td>отрицательный</td>\n",
       "    </tr>\n",
       "    <tr>\n",
       "      <th>3</th>\n",
       "      <td>1181788</td>\n",
       "      <td>В МИД России назвали сроки сертификации «Север...</td>\n",
       "      <td>В МИД России назвали сроки сертификации «Север...</td>\n",
       "      <td>Фото: Nikolai Ryutin / Nord Stream 2 Евгения Н...</td>\n",
       "      <td>YNDX</td>\n",
       "      <td>60</td>\n",
       "      <td>20220103</td>\n",
       "      <td>10:00</td>\n",
       "      <td>1,326.2</td>\n",
       "      <td>1,330.5</td>\n",
       "      <td>1,321.7</td>\n",
       "      <td>1,323.1</td>\n",
       "      <td>22,990</td>\n",
       "      <td>2022-01-03 10:00:00</td>\n",
       "      <td>отрицательный</td>\n",
       "    </tr>\n",
       "    <tr>\n",
       "      <th>4</th>\n",
       "      <td>1181788</td>\n",
       "      <td>В МИД России назвали сроки сертификации «Север...</td>\n",
       "      <td>В МИД России назвали сроки сертификации «Север...</td>\n",
       "      <td>Фото: Nikolai Ryutin / Nord Stream 2 Евгения Н...</td>\n",
       "      <td>PIKK</td>\n",
       "      <td>60</td>\n",
       "      <td>20220103</td>\n",
       "      <td>10:00</td>\n",
       "      <td>1,326.2</td>\n",
       "      <td>1,330.5</td>\n",
       "      <td>1,321.7</td>\n",
       "      <td>1,323.1</td>\n",
       "      <td>22,990</td>\n",
       "      <td>2022-01-03 10:00:00</td>\n",
       "      <td>отрицательный</td>\n",
       "    </tr>\n",
       "  </tbody>\n",
       "</table>\n",
       "</div>"
      ],
      "text/plain": [
       "        id                                              title  \\\n",
       "0  1181788  В МИД России назвали сроки сертификации «Север...   \n",
       "1  1181788  В МИД России назвали сроки сертификации «Север...   \n",
       "2  1181788  В МИД России назвали сроки сертификации «Север...   \n",
       "3  1181788  В МИД России назвали сроки сертификации «Север...   \n",
       "4  1181788  В МИД России назвали сроки сертификации «Север...   \n",
       "\n",
       "                                                body  \\\n",
       "0  В МИД России назвали сроки сертификации «Север...   \n",
       "1  В МИД России назвали сроки сертификации «Север...   \n",
       "2  В МИД России назвали сроки сертификации «Север...   \n",
       "3  В МИД России назвали сроки сертификации «Север...   \n",
       "4  В МИД России назвали сроки сертификации «Север...   \n",
       "\n",
       "                                                text TICKER  PER      DATE  \\\n",
       "0  Фото: Nikolai Ryutin / Nord Stream 2 Евгения Н...   SBER   60  20220103   \n",
       "1  Фото: Nikolai Ryutin / Nord Stream 2 Евгения Н...   ROSN   60  20220103   \n",
       "2  Фото: Nikolai Ryutin / Nord Stream 2 Евгения Н...   MOEX   60  20220103   \n",
       "3  Фото: Nikolai Ryutin / Nord Stream 2 Евгения Н...   YNDX   60  20220103   \n",
       "4  Фото: Nikolai Ryutin / Nord Stream 2 Евгения Н...   PIKK   60  20220103   \n",
       "\n",
       "    TIME     OPEN     HIGH      LOW    CLOSE     VOL              date_y  \\\n",
       "0  10:00  1,326.2  1,330.5  1,321.7  1,323.1  22,990 2022-01-03 10:00:00   \n",
       "1  10:00  1,326.2  1,330.5  1,321.7  1,323.1  22,990 2022-01-03 10:00:00   \n",
       "2  10:00  1,326.2  1,330.5  1,321.7  1,323.1  22,990 2022-01-03 10:00:00   \n",
       "3  10:00  1,326.2  1,330.5  1,321.7  1,323.1  22,990 2022-01-03 10:00:00   \n",
       "4  10:00  1,326.2  1,330.5  1,321.7  1,323.1  22,990 2022-01-03 10:00:00   \n",
       "\n",
       "       sentiment  \n",
       "0  отрицательный  \n",
       "1  отрицательный  \n",
       "2  отрицательный  \n",
       "3  отрицательный  \n",
       "4  отрицательный  "
      ]
     },
     "execution_count": 6,
     "metadata": {},
     "output_type": "execute_result"
    }
   ],
   "source": [
    "lenta_df = lenta_df[['docid', 'title', 'rightcol', 'text'] + lenta_df.columns[18:].to_list()]\n",
    "lenta_df.rename(columns={'docid': 'id', 'rightcol':'body'}, inplace=True)\n",
    "lenta_df.head()"
   ]
  },
  {
   "cell_type": "code",
   "execution_count": 7,
   "metadata": {
    "tags": []
   },
   "outputs": [
    {
     "data": {
      "text/html": [
       "<div>\n",
       "<style scoped>\n",
       "    .dataframe tbody tr th:only-of-type {\n",
       "        vertical-align: middle;\n",
       "    }\n",
       "\n",
       "    .dataframe tbody tr th {\n",
       "        vertical-align: top;\n",
       "    }\n",
       "\n",
       "    .dataframe thead th {\n",
       "        text-align: right;\n",
       "    }\n",
       "</style>\n",
       "<table border=\"1\" class=\"dataframe\">\n",
       "  <thead>\n",
       "    <tr style=\"text-align: right;\">\n",
       "      <th></th>\n",
       "      <th>id</th>\n",
       "      <th>title</th>\n",
       "      <th>body</th>\n",
       "      <th>text</th>\n",
       "      <th>TICKER</th>\n",
       "      <th>PER</th>\n",
       "      <th>DATE</th>\n",
       "      <th>TIME</th>\n",
       "      <th>OPEN</th>\n",
       "      <th>HIGH</th>\n",
       "      <th>LOW</th>\n",
       "      <th>CLOSE</th>\n",
       "      <th>VOL</th>\n",
       "      <th>date_y</th>\n",
       "      <th>sentiment</th>\n",
       "    </tr>\n",
       "  </thead>\n",
       "  <tbody>\n",
       "    <tr>\n",
       "      <th>0</th>\n",
       "      <td>61d4b1139a79478571789993</td>\n",
       "      <td>Токаев ввел чрезвычайное положение в Мангистау...</td>\n",
       "      <td>Чрезвычайное положение вступит в силу 5 января...</td>\n",
       "      <td>Категория - Политика. Президент Казахстана Кас...</td>\n",
       "      <td>SMLT</td>\n",
       "      <td>60</td>\n",
       "      <td>20220105</td>\n",
       "      <td>00:00</td>\n",
       "      <td>1,305.5</td>\n",
       "      <td>1,306.2</td>\n",
       "      <td>1,304.5</td>\n",
       "      <td>1,305.9</td>\n",
       "      <td>8,080</td>\n",
       "      <td>2022-01-05</td>\n",
       "      <td>отрицательный</td>\n",
       "    </tr>\n",
       "    <tr>\n",
       "      <th>1</th>\n",
       "      <td>61d4b1139a79478571789993</td>\n",
       "      <td>Токаев ввел чрезвычайное положение в Мангистау...</td>\n",
       "      <td>Чрезвычайное положение вступит в силу 5 января...</td>\n",
       "      <td>Категория - Политика. Президент Казахстана Кас...</td>\n",
       "      <td>YNDX</td>\n",
       "      <td>60</td>\n",
       "      <td>20220105</td>\n",
       "      <td>00:00</td>\n",
       "      <td>1,305.5</td>\n",
       "      <td>1,306.2</td>\n",
       "      <td>1,304.5</td>\n",
       "      <td>1,305.9</td>\n",
       "      <td>8,080</td>\n",
       "      <td>2022-01-05</td>\n",
       "      <td>отрицательный</td>\n",
       "    </tr>\n",
       "    <tr>\n",
       "      <th>2</th>\n",
       "      <td>61d4b1139a79478571789993</td>\n",
       "      <td>Токаев ввел чрезвычайное положение в Мангистау...</td>\n",
       "      <td>Чрезвычайное положение вступит в силу 5 января...</td>\n",
       "      <td>Категория - Политика. Президент Казахстана Кас...</td>\n",
       "      <td>MTSS</td>\n",
       "      <td>60</td>\n",
       "      <td>20220105</td>\n",
       "      <td>00:00</td>\n",
       "      <td>1,305.5</td>\n",
       "      <td>1,306.2</td>\n",
       "      <td>1,304.5</td>\n",
       "      <td>1,305.9</td>\n",
       "      <td>8,080</td>\n",
       "      <td>2022-01-05</td>\n",
       "      <td>отрицательный</td>\n",
       "    </tr>\n",
       "    <tr>\n",
       "      <th>3</th>\n",
       "      <td>61d4b1139a79478571789993</td>\n",
       "      <td>Токаев ввел чрезвычайное положение в Мангистау...</td>\n",
       "      <td>Чрезвычайное положение вступит в силу 5 января...</td>\n",
       "      <td>Категория - Политика. Президент Казахстана Кас...</td>\n",
       "      <td>GAZP</td>\n",
       "      <td>60</td>\n",
       "      <td>20220105</td>\n",
       "      <td>00:00</td>\n",
       "      <td>1,305.5</td>\n",
       "      <td>1,306.2</td>\n",
       "      <td>1,304.5</td>\n",
       "      <td>1,305.9</td>\n",
       "      <td>8,080</td>\n",
       "      <td>2022-01-05</td>\n",
       "      <td>отрицательный</td>\n",
       "    </tr>\n",
       "    <tr>\n",
       "      <th>4</th>\n",
       "      <td>61d4b1139a79478571789993</td>\n",
       "      <td>Токаев ввел чрезвычайное положение в Мангистау...</td>\n",
       "      <td>Чрезвычайное положение вступит в силу 5 января...</td>\n",
       "      <td>Категория - Политика. Президент Казахстана Кас...</td>\n",
       "      <td>SBER</td>\n",
       "      <td>60</td>\n",
       "      <td>20220105</td>\n",
       "      <td>00:00</td>\n",
       "      <td>1,305.5</td>\n",
       "      <td>1,306.2</td>\n",
       "      <td>1,304.5</td>\n",
       "      <td>1,305.9</td>\n",
       "      <td>8,080</td>\n",
       "      <td>2022-01-05</td>\n",
       "      <td>отрицательный</td>\n",
       "    </tr>\n",
       "  </tbody>\n",
       "</table>\n",
       "</div>"
      ],
      "text/plain": [
       "                         id  \\\n",
       "0  61d4b1139a79478571789993   \n",
       "1  61d4b1139a79478571789993   \n",
       "2  61d4b1139a79478571789993   \n",
       "3  61d4b1139a79478571789993   \n",
       "4  61d4b1139a79478571789993   \n",
       "\n",
       "                                               title  \\\n",
       "0  Токаев ввел чрезвычайное положение в Мангистау...   \n",
       "1  Токаев ввел чрезвычайное положение в Мангистау...   \n",
       "2  Токаев ввел чрезвычайное положение в Мангистау...   \n",
       "3  Токаев ввел чрезвычайное положение в Мангистау...   \n",
       "4  Токаев ввел чрезвычайное положение в Мангистау...   \n",
       "\n",
       "                                                body  \\\n",
       "0  Чрезвычайное положение вступит в силу 5 января...   \n",
       "1  Чрезвычайное положение вступит в силу 5 января...   \n",
       "2  Чрезвычайное положение вступит в силу 5 января...   \n",
       "3  Чрезвычайное положение вступит в силу 5 января...   \n",
       "4  Чрезвычайное положение вступит в силу 5 января...   \n",
       "\n",
       "                                                text TICKER  PER      DATE  \\\n",
       "0  Категория - Политика. Президент Казахстана Кас...   SMLT   60  20220105   \n",
       "1  Категория - Политика. Президент Казахстана Кас...   YNDX   60  20220105   \n",
       "2  Категория - Политика. Президент Казахстана Кас...   MTSS   60  20220105   \n",
       "3  Категория - Политика. Президент Казахстана Кас...   GAZP   60  20220105   \n",
       "4  Категория - Политика. Президент Казахстана Кас...   SBER   60  20220105   \n",
       "\n",
       "    TIME     OPEN     HIGH      LOW    CLOSE    VOL     date_y      sentiment  \n",
       "0  00:00  1,305.5  1,306.2  1,304.5  1,305.9  8,080 2022-01-05  отрицательный  \n",
       "1  00:00  1,305.5  1,306.2  1,304.5  1,305.9  8,080 2022-01-05  отрицательный  \n",
       "2  00:00  1,305.5  1,306.2  1,304.5  1,305.9  8,080 2022-01-05  отрицательный  \n",
       "3  00:00  1,305.5  1,306.2  1,304.5  1,305.9  8,080 2022-01-05  отрицательный  \n",
       "4  00:00  1,305.5  1,306.2  1,304.5  1,305.9  8,080 2022-01-05  отрицательный  "
      ]
     },
     "execution_count": 7,
     "metadata": {},
     "output_type": "execute_result"
    }
   ],
   "source": [
    "rbk_df = rbk_df[['id', 'category', 'title', 'body', 'text'] + rbk_df.columns[19:].to_list()]\n",
    "rbk_df['text']  = 'Категория - ' + rbk_df['category'] + '. ' + rbk_df['text']\n",
    "rbk_df.drop(['category'], axis=1, inplace=True)\n",
    "rbk_df.head()"
   ]
  },
  {
   "cell_type": "code",
   "execution_count": 8,
   "metadata": {
    "tags": []
   },
   "outputs": [],
   "source": [
    "news_df = pd.concat([lenta_df, rbk_df])\n",
    "news_df.sort_values(by=['date_y'], inplace=True)"
   ]
  },
  {
   "cell_type": "code",
   "execution_count": 9,
   "metadata": {
    "tags": []
   },
   "outputs": [],
   "source": [
    "news_df['TICKER'].replace({'PIKK': 'ПИК - строительство и продажа недвижимости', 'GAZP': 'Газпром - продажа природного газа', \\\n",
    "                        'SMLT': 'Самолет - строительство и продажа недвижимости', 'TCSG': 'Тинькофф банк', 'ROSN': ' Роснефть -  нефтегазовая компания',\\\n",
    "                        'YNDX': 'Яндекс - сайты, изображения, музыка, товары', 'MTSS': 'МТС - телекоммуникационные услуги', \\\n",
    "                        'MOEX': ' Московская Биржа - торги акциями', 'LKOH': 'Лукойл -  добыча и переработка нефти и газа', 'SBER': 'Сбербанк'}, inplace=True)\n",
    "news_df['source'] = news_df.id.astype(str).str.len().apply(lambda x: 'РБК' if x == 24 else 'Лента.ру')\n",
    "news_df.drop(['DATE', 'PER', 'id'], axis=1, inplace=True)"
   ]
  },
  {
   "cell_type": "code",
   "execution_count": 10,
   "metadata": {
    "tags": []
   },
   "outputs": [
    {
     "data": {
      "text/plain": [
       "'Источник новости - РБК. Тональность - отрицательный. Заголовок - Хакеры взломали две израильские газеты в годовщину смерти Сулеймани. Статья. Категория - Общество. Сайт израильской газеты The Jerusalem Post подвергся хакерской атаке в ночь на 3 января, сообщило издание. Именно в этот день два года назад был убит иранский генерал Касем Сулеймани. Хакеры взломали также Twitter-аккаунт газеты Maariv. В нем и на главной странице сайта The Jerusalem Post появилась одна и та\\xa0же картинка. На ней изображено взрывающееся здание, похожее на ядерный исследовательский центр в израильском городе Димона. На фоне над зданием\\xa0— надпись на английском и иврите: «Мы рядом с вами, когда вы об этом не думаете». В левой верхней части изображения\\xa0— сжатая в кулак ладонь с перстнем на безымянном пальце (он напоминает кольцо, которое носил Сулеймани), откуда вылетает баллистическая ракета. Опубликованная в Twitter Maariv запись с картинкой\\xa0удалена, сайт The Jerusalem Post работает в нормальном режиме. Как отмечает издание, непонятно, находились\\xa0ли хакеры в Иране или за его пределами и спонсировали\\xa0ли их власти исламской республики.  The Jerusalem Post взламывали в мае 2020 года. Тогда злоумышленники разместили на главной странице электронной версии издания изображение Тель-Авива в огне. На его фоне Биньямин Нетаньяху, в то время занимавший пост премьер-министра, плыл в воде к спасательному кругу. Надпись на картинке гласила: «Готовьтесь к большому сюрпризу». Газета сообщает, что хакерской атаке тогда подверглись еще несколько израильских сайтов. Командир элитного подразделения «Аль-Кудс» Корпуса стражей исламской революции (КСИР) генерал-майор Касем Сулеймани погиб 3 января 2020 года в результате ракетного удара США в районе международного аэропорта в Багдаде. Тогдашний президент Соединенных Штатов Дональд Трамп, комментируя инцидент, назвал иранского генерала\\xa0«террористом номер один в мире». Пентагон в официальном заявлении об ударах в Багдаде обвинил Сулеймани в разработке «планов нападения на американских дипломатов и военнослужащих в Ираке и во всем регионе». В ночь на 8 января Тегеран нанес ракетный удар по двум объектам в Ираке, которые использовали американские военные. РБК в Telegram На связи с проверенными новостями Опубликованы видеокадры с репетицией Парада Победы в Москве В ВСУ признали отсутствие укреплений в тылу Центробанк выпустил памятные 10-рублевые монеты. Фото Кулеба заявил, что стамбульских договоренностей о мире не существовало Флаг России предложили сделать обязательным на автомобильных номерах Глава Минобороны Украины может уйти в отставку. Подробности Что изменится в законах о недвижимости и ЖКХ в мае 2024 года. Компания и оказываемые услуги. Газпром - продажа природного газа'"
      ]
     },
     "execution_count": 10,
     "metadata": {},
     "output_type": "execute_result"
    }
   ],
   "source": [
    "news_df['Новость'] = 'Источник новости - ' + news_df['source'] + '. ' + 'Тональность - ' + news_df['sentiment'] + '. ' + 'Заголовок - ' + news_df['title'] + '. '\\\n",
    "                        + 'Статья. ' + news_df['text'] + '. ' + 'Компания и оказываемые услуги. ' + news_df['TICKER'] \n",
    "news_df['Новость'].iloc[0]"
   ]
  },
  {
   "cell_type": "code",
   "execution_count": 11,
   "metadata": {
    "tags": []
   },
   "outputs": [
    {
     "data": {
      "text/plain": [
       "(1.126, 1.668]                   13611\n",
       "(0.35, 0.419]                    13594\n",
       "(0.517, 0.659]                   13574\n",
       "(-0.39, -0.328]                  13569\n",
       "(-0.0893, -0.0515]               13551\n",
       "(0.18, 0.233]                    13544\n",
       "(-0.702, -0.562]                 13530\n",
       "(-0.562, -0.469]                 13525\n",
       "(-1.874, -1.247]                 13524\n",
       "(-0.0148, 0.0192]                13519\n",
       "(0.053, 0.0939]                  13519\n",
       "(0.136, 0.18]                    13501\n",
       "(-21.240000000000002, -1.874]    13501\n",
       "(-0.168, -0.129]                 13496\n",
       "(0.659, 0.86]                    13495\n",
       "(-0.328, -0.268]                 13493\n",
       "(-1.247, -0.929]                 13489\n",
       "(0.0192, 0.053]                  13467\n",
       "(-0.268, -0.214]                 13459\n",
       "(0.233, 0.284]                   13458\n",
       "(-0.929, -0.702]                 13454\n",
       "(-0.129, -0.0893]                13450\n",
       "(0.0939, 0.136]                  13443\n",
       "(0.284, 0.35]                    13441\n",
       "(-0.214, -0.168]                 13437\n",
       "(0.86, 1.126]                    13420\n",
       "(-0.0515, -0.0148]               13398\n",
       "(-0.469, -0.39]                  13381\n",
       "(0.419, 0.517]                   13355\n",
       "(1.668, 27.192]                  13313\n",
       "Name: price_change_bins, dtype: int64"
      ]
     },
     "execution_count": 11,
     "metadata": {},
     "output_type": "execute_result"
    }
   ],
   "source": [
    "news_df['price_change'] = news_df['CLOSE'].astype(str).str.replace(',', '').astype(float) - news_df['OPEN'].astype(str).str.replace(',', '').astype(float)\n",
    "news_df['changed'] = (news_df['price_change'] == 0).astype(int)\n",
    "\n",
    "news_df['price_change_bins'] = pd.qcut((news_df['CLOSE'].astype(str).str.replace(',', '').astype(float) - news_df['OPEN'].astype(str).str.replace(',', '').astype(float)) \\\n",
    "                                       / news_df['OPEN'].astype(str).str.replace(',', '').astype(float) * 100, q=30)\n",
    "bins = news_df['price_change_bins'].value_counts().index\n",
    "#news_df['price_change'].value_counts().sort_index()\n",
    "\n",
    "news_df['price_change_bins'].value_counts()"
   ]
  },
  {
   "cell_type": "code",
   "execution_count": 12,
   "metadata": {
    "id": "3wvgii-9MFPR",
    "tags": []
   },
   "outputs": [],
   "source": [
    "from collections import Counter\n",
    "\n",
    "def drop_duplicates(txt):\n",
    "    try:\n",
    "        txt = re.split('\\. |: |\\n', txt)\n",
    "        counter_txt = Counter(txt)\n",
    "        if len(txt) < 2: return ''\n",
    "        i = len(txt)-2\n",
    "        while counter_txt[txt[i]] > 1:\n",
    "            i-=1\n",
    "    except:\n",
    "        return ''\n",
    "    if i==len(txt)-2:\n",
    "        return \" \".join(txt)\n",
    "    return \" \".join(txt[:i+1])\n",
    "\n",
    "def replace_numbers(txt):\n",
    "    phone_pattern = r'\\b(\\+)?([78]\\d{10})\\b'\n",
    "    date_pattern = r'\\d{1,2}\\.\\d{1,2}\\.\\d{2,4}'\n",
    "    time_pattern = r'(\\d{1,2}\\:)?\\d{1,2}\\:\\d{1,2}'\n",
    "    nums_pattern = r'(\\d{1,2} )?\\d+(\\,\\d{1,2})?'\n",
    "    trash_pattern = r'УКАЖИ'\n",
    "    #utf_pattern = r'\\xa0'\n",
    "\n",
    "    new_text = re.sub(phone_pattern, ' номер_телефона ', txt)\n",
    "    new_text = re.sub(date_pattern, 'дата ', new_text)\n",
    "    new_text = re.sub(time_pattern, 'время ', new_text)\n",
    "    new_text = re.sub(nums_pattern, 'число ', new_text)\n",
    "    new_text = re.sub(trash_pattern, '', new_text)\n",
    "\n",
    "    new_text = re.sub(r'[^\\w\\s]','', new_text).lower()\n",
    "    new_text = re.sub(r'[\\\\]',' ', new_text).lower()\n",
    "    return new_text\n",
    "\n",
    "def full_describe_request(txt, add_feature_txt, add_txt):\n",
    "    return txt + ' [' + str(add_feature_txt) + ' ]:' + str(add_txt)\n",
    "\n",
    "def parse(series, features, text_col = 'Новость'):\n",
    "    txt = '' if not isinstance(series[text_col], str) else series[text_col]\n",
    "    uniq_txt = drop_duplicates(txt)\n",
    "\n",
    "    for feature in features:\n",
    "        uniq_txt = full_describe_request(uniq_txt, feature, series[feature])\n",
    "    txt = replace_numbers(uniq_txt)\n",
    "    return txt.strip(\"\\n\")"
   ]
  },
  {
   "cell_type": "code",
   "execution_count": 13,
   "metadata": {
    "colab": {
     "base_uri": "https://localhost:8080/",
     "height": 206,
     "referenced_widgets": [
      "964c311df65640c2b9d7a32808166cc2",
      "b1fb4e955a924f2e95443362706d5504",
      "662330eba9b94b529fa55a8c7c5f32c4",
      "a93131183a0d46b7820d8f6bf8c1fb4d",
      "612215e00fa444f6b3422636c755ce42",
      "ce04ca5d58334f51841c08d031929015",
      "6e5abb1a66b34cd7b5b1e55c34c154ef",
      "d89bce46fa6b45f7856f4f5166c7f8f2",
      "fccb2c47521141798bbbee8edcb0f8e4",
      "4d6bb3e366fa4242a91dff5e45870046",
      "44b1eae095f54e808903779368c0cbff"
     ]
    },
    "id": "zFgZ0vjMNUH-",
    "outputId": "dd8591b1-2f20-4f96-8286-9b0a459a290d",
    "tags": []
   },
   "outputs": [
    {
     "data": {
      "application/json": {
       "ascii": false,
       "bar_format": null,
       "colour": null,
       "elapsed": 0.011055469512939453,
       "initial": 0,
       "n": 0,
       "ncols": null,
       "nrows": null,
       "postfix": null,
       "prefix": "",
       "rate": null,
       "total": 404511,
       "unit": "it",
       "unit_divisor": 1000,
       "unit_scale": false
      },
      "application/vnd.jupyter.widget-view+json": {
       "model_id": "d2a4864b372d4f84a73fa26d82f21377",
       "version_major": 2,
       "version_minor": 0
      },
      "text/plain": [
       "  0%|          | 0/404511 [00:00<?, ?it/s]"
      ]
     },
     "metadata": {},
     "output_type": "display_data"
    },
    {
     "data": {
      "text/plain": [
       "'источник новости  рбк тональность  отрицательный заголовок  хакеры взломали две израильские газеты в годовщину смерти сулеймани статья категория  общество сайт израильской газеты the jerusalem post подвергся хакерской атаке в ночь на число  января сообщило издание именно в этот день два года назад был убит иранский генерал касем сулеймани хакеры взломали также twitterаккаунт газеты maariv в нем и на главной странице сайта the jerusalem post появилась одна и та\\xa0же картинка на ней изображено взрывающееся здание похожее на ядерный исследовательский центр в израильском городе димона на фоне над зданием\\xa0 надпись на английском и иврите мы рядом с вами когда вы об этом не думаете в левой верхней части изображения\\xa0 сжатая в кулак ладонь с перстнем на безымянном пальце он напоминает кольцо которое носил сулеймани откуда вылетает баллистическая ракета опубликованная в twitter maariv запись с картинкой\\xa0удалена сайт the jerusalem post работает в нормальном режиме как отмечает издание непонятно находились\\xa0ли хакеры в иране или за его пределами и спонсировали\\xa0ли их власти исламской республики  the jerusalem post взламывали в мае число  года тогда злоумышленники разместили на главной странице электронной версии издания изображение тельавива в огне на его фоне биньямин нетаньяху в то время занимавший пост премьерминистра плыл в воде к спасательному кругу надпись на картинке гласила готовьтесь к большому сюрпризу газета сообщает что хакерской атаке тогда подверглись еще несколько израильских сайтов командир элитного подразделения алькудс корпуса стражей исламской революции ксир генералмайор касем сулеймани погиб число  января число  года в результате ракетного удара сша в районе международного аэропорта в багдаде тогдашний президент соединенных штатов дональд трамп комментируя инцидент назвал иранского генерала\\xa0террористом номер один в мире пентагон в официальном заявлении об ударах в багдаде обвинил сулеймани в разработке планов нападения на американских дипломатов и военнослужащих в ираке и во всем регионе в ночь на число  января тегеран нанес ракетный удар по двум объектам в ираке которые использовали американские военные рбк в telegram на связи с проверенными новостями опубликованы видеокадры с репетицией парада победы в москве в всу признали отсутствие укреплений в тылу центробанк выпустил памятные число рублевые монеты фото кулеба заявил что стамбульских договоренностей о мире не существовало флаг россии предложили сделать обязательным на автомобильных номерах глава минобороны украины может уйти в отставку подробности что изменится в законах о недвижимости и жкх в мае число  года компания и оказываемые услуги газпром  продажа природного газа новость источник новости  рбк тональность  отрицательный заголовок  хакеры взломали две израильские газеты в годовщину смерти сулеймани статья категория  общество сайт израильской газеты the jerusalem post подвергся хакерской атаке в ночь на число  января сообщило издание именно в этот день два года назад был убит иранский генерал касем сулеймани хакеры взломали также twitterаккаунт газеты maariv в нем и на главной странице сайта the jerusalem post появилась одна и та\\xa0же картинка на ней изображено взрывающееся здание похожее на ядерный исследовательский центр в израильском городе димона на фоне над зданием\\xa0 надпись на английском и иврите мы рядом с вами когда вы об этом не думаете в левой верхней части изображения\\xa0 сжатая в кулак ладонь с перстнем на безымянном пальце он напоминает кольцо которое носил сулеймани откуда вылетает баллистическая ракета опубликованная в twitter maariv запись с картинкой\\xa0удалена сайт the jerusalem post работает в нормальном режиме как отмечает издание непонятно находились\\xa0ли хакеры в иране или за его пределами и спонсировали\\xa0ли их власти исламской республики  the jerusalem post взламывали в мае число  года тогда злоумышленники разместили на главной странице электронной версии издания изображение тельавива в огне на его фоне биньямин нетаньяху в то время занимавший пост премьерминистра плыл в воде к спасательному кругу надпись на картинке гласила готовьтесь к большому сюрпризу газета сообщает что хакерской атаке тогда подверглись еще несколько израильских сайтов командир элитного подразделения алькудс корпуса стражей исламской революции ксир генералмайор касем сулеймани погиб число  января число  года в результате ракетного удара сша в районе международного аэропорта в багдаде тогдашний президент соединенных штатов дональд трамп комментируя инцидент назвал иранского генерала\\xa0террористом номер один в мире пентагон в официальном заявлении об ударах в багдаде обвинил сулеймани в разработке планов нападения на американских дипломатов и военнослужащих в ираке и во всем регионе в ночь на число  января тегеран нанес ракетный удар по двум объектам в ираке которые использовали американские военные рбк в telegram на связи с проверенными новостями опубликованы видеокадры с репетицией парада победы в москве в всу признали отсутствие укреплений в тылу центробанк выпустил памятные число рублевые монеты фото кулеба заявил что стамбульских договоренностей о мире не существовало флаг россии предложили сделать обязательным на автомобильных номерах глава минобороны украины может уйти в отставку подробности что изменится в законах о недвижимости и жкх в мае число  года компания и оказываемые услуги газпром  продажа природного газа'"
      ]
     },
     "execution_count": 13,
     "metadata": {},
     "output_type": "execute_result"
    }
   ],
   "source": [
    "news_df['Новость'] = news_df.progress_apply(\n",
    "    parse,\n",
    "    args = (\n",
    "     ['Новость'],\n",
    "    ),\n",
    "    axis = 1,\n",
    ")\n",
    "\n",
    "request_txts = news_df['Новость']\n",
    "\n",
    "news_df['Новость'].iloc[0]"
   ]
  },
  {
   "cell_type": "code",
   "execution_count": 14,
   "metadata": {
    "tags": []
   },
   "outputs": [
    {
     "data": {
      "text/plain": [
       "30"
      ]
     },
     "execution_count": 14,
     "metadata": {},
     "output_type": "execute_result"
    }
   ],
   "source": [
    "len(news_df['price_change_bins'].value_counts().index.codes)"
   ]
  },
  {
   "cell_type": "code",
   "execution_count": 15,
   "metadata": {
    "tags": []
   },
   "outputs": [
    {
     "data": {
      "text/plain": [
       "array([26, 26, 26, ..., 11, 11, 11], dtype=int8)"
      ]
     },
     "execution_count": 15,
     "metadata": {},
     "output_type": "execute_result"
    }
   ],
   "source": [
    "news_df['price_change_bins'].values.codes"
   ]
  },
  {
   "cell_type": "code",
   "execution_count": 16,
   "metadata": {
    "id": "BjyT5i6BQ0-e",
    "tags": []
   },
   "outputs": [],
   "source": [
    "sentences= news_df['Новость'].values\n",
    "labels =  news_df['price_change_bins'].values.codes #news_df['price_change_bins'].values"
   ]
  },
  {
   "cell_type": "markdown",
   "metadata": {
    "id": "z4zqD2iOQ1b2"
   },
   "source": [
    "## Data preparing ##"
   ]
  },
  {
   "cell_type": "code",
   "execution_count": 17,
   "metadata": {
    "id": "eqr437fTRA_5",
    "tags": []
   },
   "outputs": [],
   "source": [
    "import os\n",
    "\n",
    "tokenizer = AutoTokenizer.from_pretrained(\n",
    "    \"ai-forever/sbert_large_nlu_ru\",\n",
    "    do_lower_case=True,\n",
    ")\n",
    "\n",
    "replace_tokens = {\n",
    "        '[unused1]': 'номер_телефона',\n",
    "        '[unused2]': 'дата',\n",
    "        '[unused3]': 'время',\n",
    "        '[unused4]': 'число',\n",
    "}\n",
    "\n",
    "vocab = tokenizer.get_vocab()\n",
    "\n",
    "for old_token, new_token in replace_tokens.items():\n",
    "    idx = vocab[old_token]\n",
    "    del vocab[old_token]\n",
    "    vocab[new_token] = idx\n",
    "\n",
    "vocab = pd.Series(vocab).sort_values()\n",
    "vocab = vocab.index.tolist()\n",
    "\n",
    "with open('vocab.tmp', 'w', encoding = 'utf-8') as tmp_vocab_file:\n",
    "    tmp_vocab_file.write('\\n'.join(vocab))\n",
    "\n",
    "tokenizer = AutoTokenizer.from_pretrained(\n",
    "    \"ai-forever/sbert_large_nlu_ru\",\n",
    "    vocab_file = 'vocab.tmp', do_lower_case=True, do_basic_tokenize=False\n",
    ")\n",
    "\n",
    "os.remove('vocab.tmp')"
   ]
  },
  {
   "cell_type": "code",
   "execution_count": 18,
   "metadata": {
    "id": "B26vnRbTRYTQ",
    "tags": []
   },
   "outputs": [
    {
     "name": "stdout",
     "output_type": "stream",
     "text": [
      "Original:  источник новости  рбк тональность  отрицательный заголовок  хакеры взломали две израильские газеты в годовщину смерти сулеймани статья категория  общество сайт израильской газеты the jerusalem post подвергся хакерской атаке в ночь на число  января сообщило издание именно в этот день два года назад был убит иранский генерал касем сулеймани хакеры взломали также twitterаккаунт газеты maariv в нем и на главной странице сайта the jerusalem post появилась одна и та же картинка на ней изображено взрывающееся здание похожее на ядерный исследовательский центр в израильском городе димона на фоне над зданием  надпись на английском и иврите мы рядом с вами когда вы об этом не думаете в левой верхней части изображения  сжатая в кулак ладонь с перстнем на безымянном пальце он напоминает кольцо которое носил сулеймани откуда вылетает баллистическая ракета опубликованная в twitter maariv запись с картинкой удалена сайт the jerusalem post работает в нормальном режиме как отмечает издание непонятно находились ли хакеры в иране или за его пределами и спонсировали ли их власти исламской республики  the jerusalem post взламывали в мае число  года тогда злоумышленники разместили на главной странице электронной версии издания изображение тельавива в огне на его фоне биньямин нетаньяху в то время занимавший пост премьерминистра плыл в воде к спасательному кругу надпись на картинке гласила готовьтесь к большому сюрпризу газета сообщает что хакерской атаке тогда подверглись еще несколько израильских сайтов командир элитного подразделения алькудс корпуса стражей исламской революции ксир генералмайор касем сулеймани погиб число  января число  года в результате ракетного удара сша в районе международного аэропорта в багдаде тогдашний президент соединенных штатов дональд трамп комментируя инцидент назвал иранского генерала террористом номер один в мире пентагон в официальном заявлении об ударах в багдаде обвинил сулеймани в разработке планов нападения на американских дипломатов и военнослужащих в ираке и во всем регионе в ночь на число  января тегеран нанес ракетный удар по двум объектам в ираке которые использовали американские военные рбк в telegram на связи с проверенными новостями опубликованы видеокадры с репетицией парада победы в москве в всу признали отсутствие укреплений в тылу центробанк выпустил памятные число рублевые монеты фото кулеба заявил что стамбульских договоренностей о мире не существовало флаг россии предложили сделать обязательным на автомобильных номерах глава минобороны украины может уйти в отставку подробности что изменится в законах о недвижимости и жкх в мае число  года компания и оказываемые услуги газпром  продажа природного газа новость источник новости  рбк тональность  отрицательный заголовок  хакеры взломали две израильские газеты в годовщину смерти сулеймани статья категория  общество сайт израильской газеты the jerusalem post подвергся хакерской атаке в ночь на число  января сообщило издание именно в этот день два года назад был убит иранский генерал касем сулеймани хакеры взломали также twitterаккаунт газеты maariv в нем и на главной странице сайта the jerusalem post появилась одна и та же картинка на ней изображено взрывающееся здание похожее на ядерный исследовательский центр в израильском городе димона на фоне над зданием  надпись на английском и иврите мы рядом с вами когда вы об этом не думаете в левой верхней части изображения  сжатая в кулак ладонь с перстнем на безымянном пальце он напоминает кольцо которое носил сулеймани откуда вылетает баллистическая ракета опубликованная в twitter maariv запись с картинкой удалена сайт the jerusalem post работает в нормальном режиме как отмечает издание непонятно находились ли хакеры в иране или за его пределами и спонсировали ли их власти исламской республики  the jerusalem post взламывали в мае число  года тогда злоумышленники разместили на главной странице электронной версии издания изображение тельавива в огне на его фоне биньямин нетаньяху в то время занимавший пост премьерминистра плыл в воде к спасательному кругу надпись на картинке гласила готовьтесь к большому сюрпризу газета сообщает что хакерской атаке тогда подверглись еще несколько израильских сайтов командир элитного подразделения алькудс корпуса стражей исламской революции ксир генералмайор касем сулеймани погиб число  января число  года в результате ракетного удара сша в районе международного аэропорта в багдаде тогдашний президент соединенных штатов дональд трамп комментируя инцидент назвал иранского генерала террористом номер один в мире пентагон в официальном заявлении об ударах в багдаде обвинил сулеймани в разработке планов нападения на американских дипломатов и военнослужащих в ираке и во всем регионе в ночь на число  января тегеран нанес ракетный удар по двум объектам в ираке которые использовали американские военные рбк в telegram на связи с проверенными новостями опубликованы видеокадры с репетицией парада победы в москве в всу признали отсутствие укреплений в тылу центробанк выпустил памятные число рублевые монеты фото кулеба заявил что стамбульских договоренностей о мире не существовало флаг россии предложили сделать обязательным на автомобильных номерах глава минобороны украины может уйти в отставку подробности что изменится в законах о недвижимости и жкх в мае число  года компания и оказываемые услуги газпром  продажа природного газа\n",
      "Tokenised:  ['[CLS]', 'источник', 'новости', 'р', '##б', '##к', 'тональность', 'отрица', '##тельны', '##и', 'заголовок', 'хакеры', 'взломали', 'две', 'израильские', 'газеты', 'в', 'годовщину', 'смерти', 'су', '##леи', '##мани', 'статья', 'категория', 'общество', 'са', '##ит', 'израиль', '##ско', '##и', 'газеты', 'the', 'je', '##rus', '##alem', 'post', 'подвергся', 'хакер', '##ско', '##и', 'атаке', 'в', 'ночь', 'на', 'число', 'января', 'сообщило', 'издание', 'именно', 'в', 'этот', 'день', 'два', 'года', 'назад', 'был', 'убит', 'иран', '##ски', '##и', 'генерал', 'ка', '##сем', 'су', '##леи', '##мани', 'хакеры', 'взломали', 'также', 'twitter', '##ак', '##кау', '##нт', 'газеты', 'ma', '##ari', '##v', 'в', 'нем', 'и', 'на', 'главно', '##и', 'странице', 'са', '##ита', 'the', 'je', '##rus', '##alem', 'post', 'появилась', 'одна', 'и', 'та', 'же', 'картинка', 'на', 'неи', 'изображено', 'взрыва', '##ющееся', 'здание', 'похожее', 'на', 'ядер', '##ны', '##и', 'исследователь', '##ски', '##и', 'центр', 'в', 'израильском', 'городе', 'ди', '##мона', 'на', 'фоне', 'над', 'зданием', 'надпись', 'на', 'англ', '##ии', '##ском', 'и', 'иврите', 'мы', 'рядом', 'с', 'вами', 'когда', 'вы', 'об', 'этом', 'не', 'думаете', 'в', 'лево', '##и', 'верхне', '##и', 'части', 'изображения', 'сжа', '##тая', 'в', 'кулак', 'ладонь', 'с', 'перст', '##нем', 'на', 'безымян', '##ном', 'пальце', 'он', 'напоминает', 'кольцо', 'которое', 'носил', 'су', '##леи', '##мани', 'откуда', 'вылетает', 'балли', '##стическая', 'ракета', 'опубликованная', 'в', 'twitter', 'ma', '##ari', '##v', 'запись', 'с', 'картин', '##ко', '##и', 'удалена', 'са', '##ит', 'the', 'je', '##rus', '##alem', 'post', 'работает', 'в', 'нормальном', 'режиме', 'как', 'отмечает', 'издание', 'непонятно', 'находились', 'ли', 'хакеры', 'в', 'иран', '##е', 'или', 'за', 'его', 'пределами', 'и', 'спонси', '##ровали', 'ли', 'их', 'власти', 'ислам', '##ско', '##и', 'республики', 'the', 'je', '##rus', '##alem', 'post', 'взламы', '##вали', 'в', 'мае', 'число', 'года', 'тогда', 'злоумышленники', 'разместили', 'на', 'главно', '##и', 'странице', 'электронно', '##и', 'версии', 'издания', 'изображение', 'тель', '##ав', '##ив', '##а', 'в', 'огне', 'на', 'его', 'фоне', 'бин', '##ьями', '##н', 'нет', '##анья', '##ху', 'в', 'то', 'время', 'занима', '##вши', '##и', 'пост', 'премьер', '##министра', 'плыл', 'в', 'воде', 'к', 'спаса', '##тельному', 'кругу', 'надпись', 'на', 'картинке', 'гласила', 'готов', '##ьтесь', 'к', 'большому', 'сюрприз', '##у', 'газета', 'сообщает', 'что', 'хакер', '##ско', '##и', 'атаке', 'тогда', 'подверглись', 'еще', 'несколько', 'израильских', 'са', '##итов', 'командир', 'элитного', 'подразделения', 'аль', '##ку', '##дс', 'корпуса', 'страже', '##и', 'ислам', '##ско', '##и', 'революции', 'кс', '##ир', 'генерал', '##ма', '##и', '##ор', 'ка', '##сем', 'су', '##леи', '##мани', 'погиб', 'число', 'января', 'число', 'года', 'в', 'результате', 'ракетного', 'удара', 'сша', 'в', 'ра', '##и', '##оне', 'международного', 'аэропорта', 'в', 'баг', '##дад', '##е', 'тогда', '##шни', '##и', 'президент', 'соединенных', 'штатов', 'дона', '##льд', 'трам', '##п', 'комментируя', 'инцидент', 'назвал', 'иранского', 'генерала', 'террористом', 'номер', 'один', 'в', 'мире', 'пента', '##гон', 'в', 'официальном', 'заявлении', 'об', 'ударах', 'в', 'баг', '##дад', '##е', 'обвинил', 'су', '##леи', '##мани', 'в', 'разработке', 'планов', 'нападения', 'на', 'американских', 'дипломатов', 'и', 'военнослужащих', 'в', 'ирак', '##е', 'и', 'во', 'всем', 'регионе', 'в', 'ночь', 'на', 'число', 'января', 'те', '##геран', 'нанес', 'ракет', '##ны', '##и', 'удар', 'по', 'двум', 'объектам', 'в', 'ирак', '##е', 'которые', 'использовали', 'американские', 'военные', 'р', '##б', '##к', 'в', 'tel', '##eg', '##ram', 'на', 'связи', 'с', 'провер', '##енными', 'новостями', 'опубликованы', 'видеока', '##дры', 'с', 'репети', '##цие', '##и', 'парада', 'победы', 'в', 'москве', 'в', 'всу', 'признали', 'отсутствие', 'укреплении', 'в', 'тылу', 'центро', '##банк', 'выпустил', 'памятные', 'число', 'рублевые', 'монеты', 'фото', 'ку', '##леба', 'заявил', 'что', 'стамбу', '##льских', 'договорен', '##нос', '##теи', 'о', 'мире', 'не', 'существовало', 'флаг', 'россии', 'предложили', 'сделать', 'обязательным', 'на', 'автомобильных', 'номерах', 'глава', 'минобороны', 'украин', '##ы', 'может', 'уи', '##ти', 'в', 'отставку', 'подробности', 'что', 'изменится', 'в', 'законах', 'о', 'недвижимости', 'и', 'ж', '##к', '##х', 'в', 'мае', 'число', 'года', 'компания', 'и', 'оказыва', '##емые', 'услуги', 'газ', '##пром', 'продажа', 'природного', 'газа', 'новость', 'источник', 'новости', 'р', '##б', '##к', 'тональность', 'отрица', '##тельны', '##и', 'заголовок', 'хакеры', 'взломали', 'две', 'израильские', 'газеты', 'в', 'годовщину', 'смерти', 'су', '##леи', '##мани', 'статья', 'категория', 'общество', 'са', '##ит', 'израиль', '##ско', '##и', 'газеты', 'the', 'je', '##rus', '##alem', 'post', 'подвергся', 'хакер', '##ско', '##и', 'атаке', 'в', 'ночь', 'на', 'число', 'января', 'сообщило', 'издание', 'именно', 'в', 'этот', 'день', 'два', 'года', 'назад', 'был', 'убит', 'иран', '##ски', '##и', 'генерал', 'ка', '##сем', 'су', '##леи', '##мани', 'хакеры', 'взломали', 'также', 'twitter', '##ак', '##кау', '##нт', 'газеты', 'ma', '##ari', '##v', 'в', 'нем', 'и', 'на', 'главно', '##и', 'странице', 'са', '##ита', 'the', 'je', '##rus', '##alem', 'post', 'появилась', 'одна', 'и', 'та', 'же', 'картинка', 'на', 'неи', 'изображено', 'взрыва', '##ющееся', 'здание', 'похожее', 'на', 'ядер', '##ны', '##и', 'исследователь', '##ски', '##и', 'центр', 'в', 'израильском', 'городе', 'ди', '##мона', 'на', 'фоне', 'над', 'зданием', 'надпись', 'на', 'англ', '##ии', '##ском', 'и', 'иврите', 'мы', 'рядом', 'с', 'вами', 'когда', 'вы', 'об', 'этом', 'не', 'думаете', 'в', 'лево', '##и', 'верхне', '##и', 'части', 'изображения', 'сжа', '##тая', 'в', 'кулак', 'ладонь', 'с', 'перст', '##нем', 'на', 'безымян', '##ном', 'пальце', 'он', 'напоминает', 'кольцо', 'которое', 'носил', 'су', '##леи', '##мани', 'откуда', 'вылетает', 'балли', '##стическая', 'ракета', 'опубликованная', 'в', 'twitter', 'ma', '##ari', '##v', 'запись', 'с', 'картин', '##ко', '##и', 'удалена', 'са', '##ит', 'the', 'je', '##rus', '##alem', 'post', 'работает', 'в', 'нормальном', 'режиме', 'как', 'отмечает', 'издание', 'непонятно', 'находились', 'ли', 'хакеры', 'в', 'иран', '##е', 'или', 'за', 'его', 'пределами', 'и', 'спонси', '##ровали', 'ли', 'их', 'власти', 'ислам', '##ско', '##и', 'республики', 'the', 'je', '##rus', '##alem', 'post', 'взламы', '##вали', 'в', 'мае', 'число', 'года', 'тогда', 'злоумышленники', 'разместили', 'на', 'главно', '##и', 'странице', 'электронно', '##и', 'версии', 'издания', 'изображение', 'тель', '##ав', '##ив', '##а', 'в', 'огне', 'на', 'его', 'фоне', 'бин', '##ьями', '##н', 'нет', '##анья', '##ху', 'в', 'то', 'время', 'занима', '##вши', '##и', 'пост', 'премьер', '##министра', 'плыл', 'в', 'воде', 'к', 'спаса', '##тельному', 'кругу', 'надпись', 'на', 'картинке', 'гласила', 'готов', '##ьтесь', 'к', 'большому', 'сюрприз', '##у', 'газета', 'сообщает', 'что', 'хакер', '##ско', '##и', 'атаке', 'тогда', 'подверглись', 'еще', 'несколько', 'израильских', 'са', '##итов', 'командир', 'элитного', 'подразделения', 'аль', '##ку', '##дс', 'корпуса', 'страже', '##и', 'ислам', '##ско', '##и', 'революции', 'кс', '##ир', 'генерал', '##ма', '##и', '##ор', 'ка', '##сем', 'су', '##леи', '##мани', 'погиб', 'число', 'января', 'число', 'года', 'в', 'результате', 'ракетного', 'удара', 'сша', 'в', 'ра', '##и', '##оне', 'международного', 'аэропорта', 'в', 'баг', '##дад', '##е', 'тогда', '##шни', '##и', 'президент', 'соединенных', 'штатов', 'дона', '##льд', 'трам', '##п', 'комментируя', 'инцидент', 'назвал', 'иранского', 'генерала', 'террористом', 'номер', 'один', 'в', 'мире', 'пента', '##гон', 'в', 'официальном', 'заявлении', 'об', 'ударах', 'в', 'баг', '##дад', '##е', 'обвинил', 'су', '##леи', '##мани', 'в', 'разработке', 'планов', 'нападения', 'на', 'американских', 'дипломатов', 'и', 'военнослужащих', 'в', 'ирак', '##е', 'и', 'во', 'всем', 'регионе', 'в', 'ночь', 'на', 'число', 'января', 'те', '##геран', 'нанес', 'ракет', '##ны', '##и', 'удар', 'по', 'двум', 'объектам', 'в', 'ирак', '##е', 'которые', 'использовали', 'американские', 'военные', 'р', '##б', '##к', 'в', 'tel', '##eg', '##ram', 'на', 'связи', 'с', 'провер', '##енными', 'новостями', 'опубликованы', 'видеока', '##дры', 'с', 'репети', '##цие', '##и', 'парада', 'победы', 'в', 'москве', 'в', 'всу', 'признали', 'отсутствие', 'укреплении', 'в', 'тылу', 'центро', '##банк', 'выпустил', 'памятные', 'число', 'рублевые', 'монеты', 'фото', 'ку', '##леба', 'заявил', 'что', 'стамбу', '##льских', 'договорен', '##нос', '##теи', 'о', 'мире', 'не', 'существовало', 'флаг', 'россии', 'предложили', 'сделать', 'обязательным', 'на', 'автомобильных', 'номерах', 'глава', 'минобороны', 'украин', '##ы', 'может', 'уи', '##ти', 'в', 'отставку', 'подробности', 'что', 'изменится', 'в', 'законах', 'о', 'недвижимости', 'и', 'ж', '##к', '##х', 'в', 'мае', 'число', 'года', 'компания', 'и', 'оказыва', '##емые', 'услуги', 'газ', '##пром', 'продажа', 'природного', 'газа', '[SEP]']\n",
      "Token IDs:  [101, 5500, 5880, 111, 395, 385, 119223, 5767, 14555, 378, 52858, 48828, 76150, 2493, 48864, 7122, 113, 41275, 3286, 872, 63915, 5192, 12669, 23536, 7626, 798, 1301, 11774, 702, 378, 7122, 3251, 66438, 30590, 97720, 58901, 30489, 41791, 702, 378, 18711, 113, 2774, 660, 4420, 2610, 16046, 6505, 1922, 113, 1373, 1336, 1363, 878, 2271, 905, 11989, 11449, 727, 378, 4891, 709, 1908, 872, 63915, 5192, 48828, 76150, 1080, 13875, 853, 98857, 2678, 7122, 79045, 20005, 494, 113, 1612, 107, 660, 13814, 378, 4744, 798, 56710, 3251, 66438, 30590, 97720, 58901, 6023, 2395, 107, 737, 834, 28039, 660, 11476, 77456, 8784, 16531, 6732, 25301, 660, 5332, 667, 378, 9563, 727, 378, 4282, 113, 117682, 2974, 1029, 10633, 660, 6301, 1415, 31071, 11621, 660, 24272, 54896, 1111, 107, 79173, 945, 2808, 110, 5058, 1040, 725, 721, 1019, 672, 11368, 113, 37309, 378, 101865, 378, 1969, 13447, 14900, 2764, 113, 24851, 16255, 110, 33040, 1610, 660, 114921, 870, 56354, 795, 9340, 13888, 2514, 17912, 872, 63915, 5192, 4863, 71228, 20183, 17822, 12729, 79136, 113, 13875, 79045, 20005, 494, 11443, 110, 7226, 650, 378, 85572, 798, 1301, 3251, 66438, 30590, 97720, 58901, 4209, 113, 47518, 8689, 785, 5432, 6505, 12228, 6719, 797, 48828, 113, 11449, 376, 967, 681, 806, 11902, 107, 45280, 3130, 797, 972, 2245, 12634, 702, 378, 4960, 3251, 66438, 30590, 97720, 58901, 81498, 1055, 113, 6948, 4420, 878, 1882, 38266, 43644, 660, 13814, 378, 4744, 94084, 378, 5053, 7610, 14245, 50039, 21211, 8478, 377, 113, 8857, 660, 806, 6301, 24893, 19689, 379, 1177, 38326, 1920, 113, 696, 1012, 1835, 946, 378, 3866, 3848, 2176, 60537, 113, 9025, 114, 5354, 15434, 17484, 11621, 660, 40829, 81774, 3075, 41395, 114, 19111, 27301, 389, 5935, 1762, 693, 41791, 702, 378, 18711, 1882, 30458, 1025, 1456, 35297, 798, 38028, 8552, 74686, 8750, 2652, 733, 16177, 8292, 58577, 378, 12634, 702, 378, 7746, 43066, 27009, 4891, 698, 378, 846, 709, 1908, 872, 63915, 5192, 3110, 4420, 2610, 4420, 878, 113, 2411, 35279, 8939, 67899, 113, 690, 378, 1451, 8659, 8920, 113, 54656, 44156, 376, 1882, 14588, 378, 2598, 97458, 28451, 43699, 5177, 11166, 388, 25002, 14092, 5742, 49424, 10213, 93068, 5529, 1354, 113, 2814, 64768, 6794, 113, 10519, 11718, 721, 104872, 113, 54656, 44156, 376, 18764, 872, 63915, 5192, 113, 15216, 16130, 9842, 660, 7332, 31735, 107, 9804, 113, 17935, 376, 107, 703, 2223, 6143, 113, 2774, 660, 4420, 2610, 745, 37524, 7757, 5095, 667, 378, 4543, 654, 13302, 29886, 113, 17935, 376, 1115, 12368, 10206, 6123, 111, 395, 385, 113, 94064, 10137, 10833, 660, 2293, 110, 3150, 16260, 8086, 21941, 25245, 7268, 110, 19421, 83027, 378, 35283, 6656, 113, 110919, 113, 48413, 15604, 7413, 63318, 113, 29212, 30210, 9635, 15532, 63689, 4420, 108016, 22446, 2511, 962, 18033, 1689, 693, 98577, 19265, 7912, 5108, 24326, 104, 2814, 672, 19982, 11418, 44422, 12198, 2401, 36820, 660, 29073, 79200, 2969, 40443, 1890, 391, 1079, 57837, 680, 113, 9262, 12708, 693, 20743, 113, 60344, 104, 15208, 107, 129, 385, 401, 113, 6948, 4420, 878, 3466, 107, 5044, 4104, 9154, 2588, 16168, 30174, 22321, 5260, 12900, 5500, 5880, 111, 395, 385, 119223, 5767, 14555, 378, 52858, 48828, 76150, 2493, 48864, 7122, 113, 41275, 3286, 872, 63915, 5192, 12669, 23536, 7626, 798, 1301, 11774, 702, 378, 7122, 3251, 66438, 30590, 97720, 58901, 30489, 41791, 702, 378, 18711, 113, 2774, 660, 4420, 2610, 16046, 6505, 1922, 113, 1373, 1336, 1363, 878, 2271, 905, 11989, 11449, 727, 378, 4891, 709, 1908, 872, 63915, 5192, 48828, 76150, 1080, 13875, 853, 98857, 2678, 7122, 79045, 20005, 494, 113, 1612, 107, 660, 13814, 378, 4744, 798, 56710, 3251, 66438, 30590, 97720, 58901, 6023, 2395, 107, 737, 834, 28039, 660, 11476, 77456, 8784, 16531, 6732, 25301, 660, 5332, 667, 378, 9563, 727, 378, 4282, 113, 117682, 2974, 1029, 10633, 660, 6301, 1415, 31071, 11621, 660, 24272, 54896, 1111, 107, 79173, 945, 2808, 110, 5058, 1040, 725, 721, 1019, 672, 11368, 113, 37309, 378, 101865, 378, 1969, 13447, 14900, 2764, 113, 24851, 16255, 110, 33040, 1610, 660, 114921, 870, 56354, 795, 9340, 13888, 2514, 17912, 872, 63915, 5192, 4863, 71228, 20183, 17822, 12729, 79136, 113, 13875, 79045, 20005, 494, 11443, 110, 7226, 650, 378, 85572, 798, 1301, 3251, 66438, 30590, 97720, 58901, 4209, 113, 47518, 8689, 785, 5432, 6505, 12228, 6719, 797, 48828, 113, 11449, 376, 967, 681, 806, 11902, 107, 45280, 3130, 797, 972, 2245, 12634, 702, 378, 4960, 3251, 66438, 30590, 97720, 58901, 81498, 1055, 113, 6948, 4420, 878, 1882, 38266, 43644, 660, 13814, 378, 4744, 94084, 378, 5053, 7610, 14245, 50039, 21211, 8478, 377, 113, 8857, 660, 806, 6301, 24893, 19689, 379, 1177, 38326, 1920, 113, 696, 1012, 1835, 946, 378, 3866, 3848, 2176, 60537, 113, 9025, 114, 5354, 15434, 17484, 11621, 660, 40829, 81774, 3075, 41395, 114, 19111, 27301, 389, 5935, 1762, 693, 41791, 702, 378, 18711, 1882, 30458, 1025, 1456, 35297, 798, 38028, 8552, 74686, 8750, 2652, 733, 16177, 8292, 58577, 378, 12634, 702, 378, 7746, 43066, 27009, 4891, 698, 378, 846, 709, 1908, 872, 63915, 5192, 3110, 4420, 2610, 4420, 878, 113, 2411, 35279, 8939, 67899, 113, 690, 378, 1451, 8659, 8920, 113, 54656, 44156, 376, 1882, 14588, 378, 2598, 97458, 28451, 43699, 5177, 11166, 388, 25002, 14092, 5742, 49424, 10213, 93068, 5529, 1354, 113, 2814, 64768, 6794, 113, 10519, 11718, 721, 104872, 113, 54656, 44156, 376, 18764, 872, 63915, 5192, 113, 15216, 16130, 9842, 660, 7332, 31735, 107, 9804, 113, 17935, 376, 107, 703, 2223, 6143, 113, 2774, 660, 4420, 2610, 745, 37524, 7757, 5095, 667, 378, 4543, 654, 13302, 29886, 113, 17935, 376, 1115, 12368, 10206, 6123, 111, 395, 385, 113, 94064, 10137, 10833, 660, 2293, 110, 3150, 16260, 8086, 21941, 25245, 7268, 110, 19421, 83027, 378, 35283, 6656, 113, 110919, 113, 48413, 15604, 7413, 63318, 113, 29212, 30210, 9635, 15532, 63689, 4420, 108016, 22446, 2511, 962, 18033, 1689, 693, 98577, 19265, 7912, 5108, 24326, 104, 2814, 672, 19982, 11418, 44422, 12198, 2401, 36820, 660, 29073, 79200, 2969, 40443, 1890, 391, 1079, 57837, 680, 113, 9262, 12708, 693, 20743, 113, 60344, 104, 15208, 107, 129, 385, 401, 113, 6948, 4420, 878, 3466, 107, 5044, 4104, 9154, 2588, 16168, 30174, 22321, 5260, 102]\n"
     ]
    }
   ],
   "source": [
    "print('Original: ', sentences[0])\n",
    "print('Tokenised: ', tokenizer.tokenize(sentences[0], add_special_tokens=True))\n",
    "print('Token IDs: ', tokenizer.convert_tokens_to_ids(tokenizer.tokenize(sentences[0], add_special_tokens=True)))"
   ]
  },
  {
   "cell_type": "code",
   "execution_count": 19,
   "metadata": {
    "id": "lTSimfjSRfaj",
    "tags": []
   },
   "outputs": [
    {
     "data": {
      "application/json": {
       "ascii": false,
       "bar_format": null,
       "colour": null,
       "elapsed": 0.01075601577758789,
       "initial": 0,
       "n": 0,
       "ncols": null,
       "nrows": null,
       "postfix": null,
       "prefix": "",
       "rate": null,
       "total": 404511,
       "unit": "it",
       "unit_divisor": 1000,
       "unit_scale": false
      },
      "application/vnd.jupyter.widget-view+json": {
       "model_id": "f61e87a56e734141bfb9dd27ed5fafd3",
       "version_major": 2,
       "version_minor": 0
      },
      "text/plain": [
       "  0%|          | 0/404511 [00:00<?, ?it/s]"
      ]
     },
     "metadata": {},
     "output_type": "display_data"
    },
    {
     "data": {
      "text/plain": [
       "11313"
      ]
     },
     "execution_count": 19,
     "metadata": {},
     "output_type": "execute_result"
    }
   ],
   "source": [
    "max_len = 0\n",
    "input_ids_all = []\n",
    "\n",
    "for sent in tqdm(sentences):\n",
    "    input_ids = tokenizer.encode(sent, add_special_tokens=True)\n",
    "    max_len = max(max_len, len(input_ids))\n",
    "    input_ids_all.append(input_ids)\n",
    "\n",
    "max_len"
   ]
  },
  {
   "cell_type": "code",
   "execution_count": 20,
   "metadata": {
    "id": "aDJ1n_SnRqD6",
    "tags": []
   },
   "outputs": [
    {
     "data": {
      "application/json": {
       "ascii": false,
       "bar_format": null,
       "colour": null,
       "elapsed": 0.010632038116455078,
       "initial": 0,
       "n": 0,
       "ncols": null,
       "nrows": null,
       "postfix": null,
       "prefix": "",
       "rate": null,
       "total": 404511,
       "unit": "it",
       "unit_divisor": 1000,
       "unit_scale": false
      },
      "application/vnd.jupyter.widget-view+json": {
       "model_id": "52074057d2c24101bebd0c7f1dae188a",
       "version_major": 2,
       "version_minor": 0
      },
      "text/plain": [
       "  0%|          | 0/404511 [00:00<?, ?it/s]"
      ]
     },
     "metadata": {},
     "output_type": "display_data"
    },
    {
     "name": "stderr",
     "output_type": "stream",
     "text": [
      "Truncation was not explicitly activated but `max_length` is provided a specific value, please use `truncation=True` to explicitly truncate examples to max length. Defaulting to 'longest_first' truncation strategy. If you encode pairs of sequences (GLUE-style) with the tokenizer you can select this strategy more precisely by providing a specific strategy to `truncation`.\n",
      "/home/daozerova/.conda/envs/fl/lib/python3.9/site-packages/transformers/tokenization_utils_base.py:2618: FutureWarning: The `pad_to_max_length` argument is deprecated and will be removed in a future version, use `padding=True` or `padding='longest'` to pad to the longest sequence in the batch, or use `padding='max_length'` to pad to a max length. In this case, you can give a specific length with `max_length` (e.g. `max_length=45`) or leave max_length to None to pad to the maximal input size of the model (e.g. 512 for Bert).\n",
      "  warnings.warn(\n"
     ]
    },
    {
     "name": "stdout",
     "output_type": "stream",
     "text": [
      "источник новости  рбк тональность  отрицательный заголовок  хакеры взломали две израильские газеты в годовщину смерти сулеймани статья категория  общество сайт израильской газеты the jerusalem post подвергся хакерской атаке в ночь на число  января сообщило издание именно в этот день два года назад был убит иранский генерал касем сулеймани хакеры взломали также twitterаккаунт газеты maariv в нем и на главной странице сайта the jerusalem post появилась одна и та же картинка на ней изображено взрывающееся здание похожее на ядерный исследовательский центр в израильском городе димона на фоне над зданием  надпись на английском и иврите мы рядом с вами когда вы об этом не думаете в левой верхней части изображения  сжатая в кулак ладонь с перстнем на безымянном пальце он напоминает кольцо которое носил сулеймани откуда вылетает баллистическая ракета опубликованная в twitter maariv запись с картинкой удалена сайт the jerusalem post работает в нормальном режиме как отмечает издание непонятно находились ли хакеры в иране или за его пределами и спонсировали ли их власти исламской республики  the jerusalem post взламывали в мае число  года тогда злоумышленники разместили на главной странице электронной версии издания изображение тельавива в огне на его фоне биньямин нетаньяху в то время занимавший пост премьерминистра плыл в воде к спасательному кругу надпись на картинке гласила готовьтесь к большому сюрпризу газета сообщает что хакерской атаке тогда подверглись еще несколько израильских сайтов командир элитного подразделения алькудс корпуса стражей исламской революции ксир генералмайор касем сулеймани погиб число  января число  года в результате ракетного удара сша в районе международного аэропорта в багдаде тогдашний президент соединенных штатов дональд трамп комментируя инцидент назвал иранского генерала террористом номер один в мире пентагон в официальном заявлении об ударах в багдаде обвинил сулеймани в разработке планов нападения на американских дипломатов и военнослужащих в ираке и во всем регионе в ночь на число  января тегеран нанес ракетный удар по двум объектам в ираке которые использовали американские военные рбк в telegram на связи с проверенными новостями опубликованы видеокадры с репетицией парада победы в москве в всу признали отсутствие укреплений в тылу центробанк выпустил памятные число рублевые монеты фото кулеба заявил что стамбульских договоренностей о мире не существовало флаг россии предложили сделать обязательным на автомобильных номерах глава минобороны украины может уйти в отставку подробности что изменится в законах о недвижимости и жкх в мае число  года компания и оказываемые услуги газпром  продажа природного газа новость источник новости  рбк тональность  отрицательный заголовок  хакеры взломали две израильские газеты в годовщину смерти сулеймани статья категория  общество сайт израильской газеты the jerusalem post подвергся хакерской атаке в ночь на число  января сообщило издание именно в этот день два года назад был убит иранский генерал касем сулеймани хакеры взломали также twitterаккаунт газеты maariv в нем и на главной странице сайта the jerusalem post появилась одна и та же картинка на ней изображено взрывающееся здание похожее на ядерный исследовательский центр в израильском городе димона на фоне над зданием  надпись на английском и иврите мы рядом с вами когда вы об этом не думаете в левой верхней части изображения  сжатая в кулак ладонь с перстнем на безымянном пальце он напоминает кольцо которое носил сулеймани откуда вылетает баллистическая ракета опубликованная в twitter maariv запись с картинкой удалена сайт the jerusalem post работает в нормальном режиме как отмечает издание непонятно находились ли хакеры в иране или за его пределами и спонсировали ли их власти исламской республики  the jerusalem post взламывали в мае число  года тогда злоумышленники разместили на главной странице электронной версии издания изображение тельавива в огне на его фоне биньямин нетаньяху в то время занимавший пост премьерминистра плыл в воде к спасательному кругу надпись на картинке гласила готовьтесь к большому сюрпризу газета сообщает что хакерской атаке тогда подверглись еще несколько израильских сайтов командир элитного подразделения алькудс корпуса стражей исламской революции ксир генералмайор касем сулеймани погиб число  января число  года в результате ракетного удара сша в районе международного аэропорта в багдаде тогдашний президент соединенных штатов дональд трамп комментируя инцидент назвал иранского генерала террористом номер один в мире пентагон в официальном заявлении об ударах в багдаде обвинил сулеймани в разработке планов нападения на американских дипломатов и военнослужащих в ираке и во всем регионе в ночь на число  января тегеран нанес ракетный удар по двум объектам в ираке которые использовали американские военные рбк в telegram на связи с проверенными новостями опубликованы видеокадры с репетицией парада победы в москве в всу признали отсутствие укреплений в тылу центробанк выпустил памятные число рублевые монеты фото кулеба заявил что стамбульских договоренностей о мире не существовало флаг россии предложили сделать обязательным на автомобильных номерах глава минобороны украины может уйти в отставку подробности что изменится в законах о недвижимости и жкх в мае число  года компания и оказываемые услуги газпром  продажа природного газа\n",
      "tensor([   101,   5500,   5880,    111,    395,    385, 119223,   5767,  14555,\n",
      "           378,  52858,  48828,  76150,   2493,  48864,   7122,    113,  41275,\n",
      "          3286,    872,  63915,   5192,  12669,  23536,   7626,    798,   1301,\n",
      "         11774,    702,    378,   7122,   3251,  66438,  30590,  97720,  58901,\n",
      "         30489,  41791,    702,    378,  18711,    113,   2774,    660,   4420,\n",
      "          2610,  16046,   6505,   1922,    113,   1373,   1336,   1363,    878,\n",
      "          2271,    905,  11989,  11449,    727,    378,   4891,    709,   1908,\n",
      "           872,  63915,   5192,  48828,  76150,   1080,  13875,    853,  98857,\n",
      "          2678,   7122,  79045,  20005,    494,    113,   1612,    107,    660,\n",
      "         13814,    378,   4744,    798,  56710,   3251,  66438,  30590,  97720,\n",
      "         58901,   6023,   2395,    107,    737,    834,  28039,    660,  11476,\n",
      "         77456,   8784,  16531,   6732,  25301,    660,   5332,    667,    378,\n",
      "          9563,    727,    378,   4282,    113, 117682,   2974,   1029,  10633,\n",
      "           660,   6301,   1415,  31071,  11621,    660,  24272,  54896,   1111,\n",
      "           107,  79173,    945,   2808,    110,   5058,   1040,    725,    721,\n",
      "          1019,    672,  11368,    113,  37309,    378, 101865,    378,   1969,\n",
      "         13447,  14900,   2764,    113,  24851,  16255,    110,  33040,   1610,\n",
      "           660, 114921,    870,  56354,    795,   9340,  13888,   2514,  17912,\n",
      "           872,  63915,   5192,   4863,  71228,  20183,  17822,  12729,  79136,\n",
      "           113,  13875,  79045,  20005,    494,  11443,    110,   7226,    650,\n",
      "           378,  85572,    798,   1301,   3251,  66438,  30590,  97720,  58901,\n",
      "          4209,    113,  47518,   8689,    785,   5432,   6505,  12228,   6719,\n",
      "           797,  48828,    113,  11449,    376,    967,    681,    806,  11902,\n",
      "           107,  45280,   3130,    797,    972,   2245,  12634,    702,    378,\n",
      "          4960,   3251,  66438,  30590,  97720,  58901,  81498,   1055,    113,\n",
      "          6948,   4420,    878,   1882,  38266,  43644,    660,  13814,    378,\n",
      "          4744,  94084,    378,   5053,   7610,  14245,  50039,  21211,   8478,\n",
      "           377,    113,   8857,    660,    806,   6301,  24893,  19689,    379,\n",
      "          1177,  38326,   1920,    102])\n"
     ]
    }
   ],
   "source": [
    "input_ids = []\n",
    "attention_masks = []\n",
    "\n",
    "for sent in tqdm(sentences):\n",
    "    encoded_dict = tokenizer.encode_plus(\n",
    "        sent,\n",
    "        add_special_tokens=True,\n",
    "        max_length=256,\n",
    "        pad_to_max_length=True,\n",
    "        return_attention_mask=True,\n",
    "        return_tensors='pt',\n",
    "    )\n",
    "    input_ids.append(encoded_dict['input_ids'])\n",
    "    attention_masks.append(encoded_dict['attention_mask'])\n",
    "\n",
    "input_ids = torch.cat(input_ids, dim=0)\n",
    "attention_masks = torch.cat(attention_masks, dim=0)\n",
    "labels = torch.tensor(labels)\n",
    "\n",
    "print(sentences[0])\n",
    "print(input_ids[0])"
   ]
  },
  {
   "cell_type": "code",
   "execution_count": 21,
   "metadata": {
    "id": "YbBeGgWCUFQC",
    "tags": []
   },
   "outputs": [
    {
     "data": {
      "text/plain": [
       "(404511, 404511, 404511)"
      ]
     },
     "execution_count": 21,
     "metadata": {},
     "output_type": "execute_result"
    }
   ],
   "source": [
    "len(input_ids), len(attention_masks), len(labels)"
   ]
  },
  {
   "cell_type": "code",
   "execution_count": 3,
   "metadata": {
    "tags": []
   },
   "outputs": [],
   "source": [
    "# pd.DataFrame(input_ids, columns = [f'f_{i}' for i in range(input_ids.shape[1])]).to_parquet('data/input_ids.parquet', index=False, compression='gzip')\n",
    "# pd.DataFrame(attention_masks, columns = [f'f_{i}' for i in range(attention_masks.shape[1])]).to_parquet('data/attention_masks.parquet', index=False, compression='gzip')\n",
    "# pd.DataFrame(labels, columns = ['label']).to_parquet('data/labels.parquet', index=False, compression='gzip')\n",
    "\n",
    "input_ids = torch.tensor(pd.read_parquet('data/input_ids.parquet').values)\n",
    "attention_masks = torch.tensor(pd.read_parquet('data/attention_masks.parquet').values)\n",
    "labels = torch.tensor(pd.get_dummies(pd.read_parquet('data/labels.parquet')['label']).values)"
   ]
  },
  {
   "cell_type": "code",
   "execution_count": 4,
   "metadata": {
    "tags": []
   },
   "outputs": [
    {
     "data": {
      "text/plain": [
       "(torch.Size([404511, 256]),\n",
       " torch.Size([404511, 256]),\n",
       " torch.Size([404511, 30]))"
      ]
     },
     "execution_count": 4,
     "metadata": {},
     "output_type": "execute_result"
    }
   ],
   "source": [
    "input_ids.shape, attention_masks.shape, labels.shape"
   ]
  },
  {
   "cell_type": "code",
   "execution_count": 5,
   "metadata": {
    "id": "RMKpTXxxUJuZ",
    "tags": []
   },
   "outputs": [
    {
     "name": "stdout",
     "output_type": "stream",
     "text": [
      "323,608 training samples\n",
      "24,270 validation samples\n",
      "56,633 testing samples\n"
     ]
    }
   ],
   "source": [
    "from torch.utils.data import TensorDataset, random_split\n",
    "\n",
    "dataset = TensorDataset(input_ids, attention_masks, labels)\n",
    "train_size = int(0.8 * len(dataset))\n",
    "val_size = int(0.3 * (len(dataset) - train_size))\n",
    "test_size = len(dataset) - train_size - val_size\n",
    "\n",
    "train_data, val_data = random_split(dataset, [train_size, val_size + test_size])\n",
    "val_data, test_data = random_split(val_data, [val_size, test_size])\n",
    "\n",
    "print('{:>5,} training samples'.format(train_size))\n",
    "print('{:>5,} validation samples'.format(val_size))\n",
    "print('{:>5,} testing samples'.format(test_size))"
   ]
  },
  {
   "cell_type": "code",
   "execution_count": 6,
   "metadata": {
    "id": "4TtJLJKHUhG3",
    "tags": []
   },
   "outputs": [],
   "source": [
    "batch_size = 32\n",
    "\n",
    "train_dataloader = DataLoader(\n",
    "    train_data,\n",
    "    sampler = RandomSampler(train_data),\n",
    "    batch_size=batch_size\n",
    ")\n",
    "\n",
    "validation_dataloader = DataLoader(\n",
    "    val_data,\n",
    "    sampler = SequentialSampler(val_data),\n",
    "    batch_size=batch_size\n",
    ")"
   ]
  },
  {
   "cell_type": "markdown",
   "metadata": {
    "id": "jqcaeMAKUjwr"
   },
   "source": [
    "## BERT prepare ##"
   ]
  },
  {
   "cell_type": "code",
   "execution_count": 7,
   "metadata": {
    "id": "ceM4BxLgUoxe",
    "tags": []
   },
   "outputs": [
    {
     "name": "stdout",
     "output_type": "stream",
     "text": [
      "78.842529296875\n",
      "79.255615234375\n"
     ]
    }
   ],
   "source": [
    "import torch\n",
    "\n",
    "t = torch.cuda.get_device_properties(0).total_memory\n",
    "r = torch.cuda.memory_reserved(0)\n",
    "a = torch.cuda.memory_allocated(0)\n",
    "f = r-a  # free inside reserved\n",
    "\n",
    "a, b = torch.cuda.mem_get_info()\n",
    "print(a / 1024 / 1024 / 1024)\n",
    "print(b / 1024 / 1024 / 1024)"
   ]
  },
  {
   "cell_type": "code",
   "execution_count": 8,
   "metadata": {
    "id": "LlTPf58NUugr",
    "tags": []
   },
   "outputs": [
    {
     "name": "stderr",
     "output_type": "stream",
     "text": [
      "Some weights of BertForSequenceClassification were not initialized from the model checkpoint at ai-forever/sbert_large_nlu_ru and are newly initialized: ['classifier.weight', 'classifier.bias']\n",
      "You should probably TRAIN this model on a down-stream task to be able to use it for predictions and inference.\n"
     ]
    },
    {
     "data": {
      "text/plain": [
       "BertForSequenceClassification(\n",
       "  (bert): BertModel(\n",
       "    (embeddings): BertEmbeddings(\n",
       "      (word_embeddings): Embedding(120138, 1024, padding_idx=0)\n",
       "      (position_embeddings): Embedding(512, 1024)\n",
       "      (token_type_embeddings): Embedding(2, 1024)\n",
       "      (LayerNorm): LayerNorm((1024,), eps=1e-12, elementwise_affine=True)\n",
       "      (dropout): Dropout(p=0.1, inplace=False)\n",
       "    )\n",
       "    (encoder): BertEncoder(\n",
       "      (layer): ModuleList(\n",
       "        (0-23): 24 x BertLayer(\n",
       "          (attention): BertAttention(\n",
       "            (self): BertSelfAttention(\n",
       "              (query): Linear(in_features=1024, out_features=1024, bias=True)\n",
       "              (key): Linear(in_features=1024, out_features=1024, bias=True)\n",
       "              (value): Linear(in_features=1024, out_features=1024, bias=True)\n",
       "              (dropout): Dropout(p=0.1, inplace=False)\n",
       "            )\n",
       "            (output): BertSelfOutput(\n",
       "              (dense): Linear(in_features=1024, out_features=1024, bias=True)\n",
       "              (LayerNorm): LayerNorm((1024,), eps=1e-12, elementwise_affine=True)\n",
       "              (dropout): Dropout(p=0.1, inplace=False)\n",
       "            )\n",
       "          )\n",
       "          (intermediate): BertIntermediate(\n",
       "            (dense): Linear(in_features=1024, out_features=4096, bias=True)\n",
       "            (intermediate_act_fn): GELUActivation()\n",
       "          )\n",
       "          (output): BertOutput(\n",
       "            (dense): Linear(in_features=4096, out_features=1024, bias=True)\n",
       "            (LayerNorm): LayerNorm((1024,), eps=1e-12, elementwise_affine=True)\n",
       "            (dropout): Dropout(p=0.1, inplace=False)\n",
       "          )\n",
       "        )\n",
       "      )\n",
       "    )\n",
       "    (pooler): BertPooler(\n",
       "      (dense): Linear(in_features=1024, out_features=1024, bias=True)\n",
       "      (activation): Tanh()\n",
       "    )\n",
       "  )\n",
       "  (dropout): Dropout(p=0.1, inplace=False)\n",
       "  (classifier): Linear(in_features=1024, out_features=30, bias=True)\n",
       ")"
      ]
     },
     "execution_count": 8,
     "metadata": {},
     "output_type": "execute_result"
    }
   ],
   "source": [
    "#model = AutoModel.from_pretrained(\"ai-forever/sbert_large_nlu_ru\")\n",
    "\n",
    "model = BertForSequenceClassification.from_pretrained(\n",
    "    \"ai-forever/sbert_large_nlu_ru\", #'bert-base-uncased',\n",
    "    num_labels = 30,\n",
    "    output_attentions = False,\n",
    "    output_hidden_states = False,\n",
    ")\n",
    "\n",
    "model.cuda()"
   ]
  },
  {
   "cell_type": "code",
   "execution_count": 9,
   "metadata": {
    "id": "4ET3Pnp6Uyl7",
    "tags": []
   },
   "outputs": [
    {
     "name": "stderr",
     "output_type": "stream",
     "text": [
      "/home/daozerova/.conda/envs/fl/lib/python3.9/site-packages/transformers/optimization.py:429: FutureWarning: This implementation of AdamW is deprecated and will be removed in a future version. Use the PyTorch implementation torch.optim.AdamW instead, or set `no_deprecation_warning=True` to disable this warning\n",
      "  warnings.warn(\n"
     ]
    }
   ],
   "source": [
    "optimizer = AdamW(model.parameters(),\n",
    "                  lr = 2e-5,\n",
    "                  eps = 1e-8\n",
    "                  )"
   ]
  },
  {
   "cell_type": "code",
   "execution_count": 10,
   "metadata": {
    "id": "QIPr9IDGU3td",
    "tags": []
   },
   "outputs": [],
   "source": [
    "epochs = 2\n",
    "\n",
    "total_steps = len(train_dataloader) * epochs\n",
    "scheduler =  get_linear_schedule_with_warmup(optimizer,\n",
    "                                             num_warmup_steps = 0,\n",
    "                                             num_training_steps = total_steps)"
   ]
  },
  {
   "cell_type": "markdown",
   "metadata": {
    "id": "8bWsHjz5U-Ch"
   },
   "source": [
    "## Training loop ##\n",
    "\n",
    "**Training**:\n",
    "*   Распаковать обучающие данные и лейблы\n",
    "*   Загрузить данные на GPU для ускорения\n",
    "*   Занулить градиенты с предыдущего шага\n",
    "*   Forward pass (скормить данные в нейросеть и пробросить их вперед)\n",
    "*   Backward pass (back propagation - посчитать градиенты по всем параметрам с помощью обратного распространения ошибки)\n",
    "*   Обновить параметры с помощью optimizer.step()\n",
    "*   Посчитать статистики, чтобы следить за обучением ⛅\n",
    "\n",
    "**Evaluation**:\n",
    "\n",
    "*   Распаковать валидационные данные и лейблы\n",
    "*   Загрузить данные на GPU для ускорения\n",
    "*   Forward pass (скормить данные в нейросеть и пробросить вперед)\n",
    "*   Посчиатть loss и статистики для валиданционных данных, чтобы следить за обучением"
   ]
  },
  {
   "cell_type": "code",
   "execution_count": 11,
   "metadata": {
    "id": "yC_4Cq7IU6gN",
    "tags": []
   },
   "outputs": [
    {
     "name": "stdout",
     "output_type": "stream",
     "text": [
      "77.240966796875\n",
      "79.255615234375\n"
     ]
    }
   ],
   "source": [
    "t = torch.cuda.get_device_properties(0).total_memory\n",
    "r = torch.cuda.memory_reserved(0)\n",
    "a = torch.cuda.memory_allocated(0)\n",
    "f = r-a  # free inside reserved\n",
    "\n",
    "a, b = torch.cuda.mem_get_info()\n",
    "print(a / 1024 / 1024 / 1024)\n",
    "print(b / 1024 / 1024 / 1024)"
   ]
  },
  {
   "cell_type": "code",
   "execution_count": 12,
   "metadata": {
    "id": "-lTcsNI0VmVz",
    "tags": []
   },
   "outputs": [],
   "source": [
    "def flat_accuracy(preds, labels):\n",
    "    pred_flat = np.argmax(preds, axis=1).flatten()\n",
    "    labels_flat = labels.flatten()\n",
    "    return np.sum(pred_flat == labels_flat) / len(labels_flat)\n",
    " \n",
    "def format_time(elapsed):\n",
    "    elapsed_rounded = int(round(elapsed))\n",
    "    return str(datetime.timedelta(seconds=elapsed_rounded))"
   ]
  },
  {
   "cell_type": "code",
   "execution_count": null,
   "metadata": {
    "id": "XnkGa4-qVnkG",
    "tags": []
   },
   "outputs": [
    {
     "name": "stdout",
     "output_type": "stream",
     "text": [
      "\n",
      "======= EPOCH 1 / 2 ======\n",
      "Training...\n",
      "   Batch    40 of 323608. Elapsed: 0:00:42 Loss: 0.2253  Average_Train_Loss: 0.0106\n",
      "   Batch    80 of 323608. Elapsed: 0:01:25 Loss: 0.1618  Average_Train_Loss: 0.0082\n",
      "   Batch   120 of 323608. Elapsed: 0:02:08 Loss: 0.1489  Average_Train_Loss: 0.0071\n",
      "   Batch   160 of 323608. Elapsed: 0:02:51 Loss: 0.1460  Average_Train_Loss: 0.0065\n",
      "   Batch   200 of 323608. Elapsed: 0:03:33 Loss: 0.1477  Average_Train_Loss: 0.0061\n",
      "   Batch   240 of 323608. Elapsed: 0:04:16 Loss: 0.1477  Average_Train_Loss: 0.0059\n",
      "   Batch   280 of 323608. Elapsed: 0:04:58 Loss: 0.1467  Average_Train_Loss: 0.0057\n",
      "   Batch   320 of 323608. Elapsed: 0:05:41 Loss: 0.1485  Average_Train_Loss: 0.0055\n",
      "   Batch   360 of 323608. Elapsed: 0:06:23 Loss: 0.1474  Average_Train_Loss: 0.0054\n",
      "   Batch   400 of 323608. Elapsed: 0:07:06 Loss: 0.1467  Average_Train_Loss: 0.0054\n",
      "   Batch   440 of 323608. Elapsed: 0:07:49 Loss: 0.1472  Average_Train_Loss: 0.0053\n",
      "   Batch   480 of 323608. Elapsed: 0:08:31 Loss: 0.1468  Average_Train_Loss: 0.0052\n",
      "   Batch   520 of 323608. Elapsed: 0:09:14 Loss: 0.1465  Average_Train_Loss: 0.0052\n",
      "   Batch   560 of 323608. Elapsed: 0:09:56 Loss: 0.1476  Average_Train_Loss: 0.0051\n",
      "   Batch   600 of 323608. Elapsed: 0:10:39 Loss: 0.1482  Average_Train_Loss: 0.0051\n",
      "   Batch   640 of 323608. Elapsed: 0:11:21 Loss: 0.1466  Average_Train_Loss: 0.0051\n",
      "   Batch   680 of 323608. Elapsed: 0:12:04 Loss: 0.1477  Average_Train_Loss: 0.0050\n",
      "   Batch   720 of 323608. Elapsed: 0:12:46 Loss: 0.1453  Average_Train_Loss: 0.0050\n",
      "   Batch   760 of 323608. Elapsed: 0:13:29 Loss: 0.1471  Average_Train_Loss: 0.0050\n",
      "   Batch   800 of 323608. Elapsed: 0:14:12 Loss: 0.1470  Average_Train_Loss: 0.0050\n",
      "   Batch   840 of 323608. Elapsed: 0:14:54 Loss: 0.1447  Average_Train_Loss: 0.0050\n",
      "   Batch   880 of 323608. Elapsed: 0:15:37 Loss: 0.1490  Average_Train_Loss: 0.0049\n",
      "   Batch   920 of 323608. Elapsed: 0:16:19 Loss: 0.1460  Average_Train_Loss: 0.0049\n",
      "   Batch   960 of 323608. Elapsed: 0:17:02 Loss: 0.1466  Average_Train_Loss: 0.0049\n",
      "   Batch  1000 of 323608. Elapsed: 0:17:45 Loss: 0.1460  Average_Train_Loss: 0.0049\n",
      "   Batch  1040 of 323608. Elapsed: 0:18:27 Loss: 0.1460  Average_Train_Loss: 0.0049\n",
      "   Batch  1080 of 323608. Elapsed: 0:19:10 Loss: 0.1479  Average_Train_Loss: 0.0049\n",
      "   Batch  1120 of 323608. Elapsed: 0:19:52 Loss: 0.1473  Average_Train_Loss: 0.0049\n",
      "   Batch  1160 of 323608. Elapsed: 0:20:35 Loss: 0.1461  Average_Train_Loss: 0.0049\n",
      "   Batch  1200 of 323608. Elapsed: 0:21:18 Loss: 0.1465  Average_Train_Loss: 0.0048\n",
      "   Batch  1240 of 323608. Elapsed: 0:22:00 Loss: 0.1475  Average_Train_Loss: 0.0048\n",
      "   Batch  1280 of 323608. Elapsed: 0:22:43 Loss: 0.1479  Average_Train_Loss: 0.0048\n",
      "   Batch  1320 of 323608. Elapsed: 0:23:25 Loss: 0.1473  Average_Train_Loss: 0.0048\n",
      "   Batch  1360 of 323608. Elapsed: 0:24:08 Loss: 0.1466  Average_Train_Loss: 0.0048\n",
      "   Batch  1400 of 323608. Elapsed: 0:24:50 Loss: 0.1449  Average_Train_Loss: 0.0048\n",
      "   Batch  1440 of 323608. Elapsed: 0:25:33 Loss: 0.1437  Average_Train_Loss: 0.0048\n",
      "   Batch  1480 of 323608. Elapsed: 0:26:16 Loss: 0.1463  Average_Train_Loss: 0.0048\n",
      "   Batch  1520 of 323608. Elapsed: 0:26:58 Loss: 0.1479  Average_Train_Loss: 0.0048\n",
      "   Batch  1560 of 323608. Elapsed: 0:27:41 Loss: 0.1462  Average_Train_Loss: 0.0048\n",
      "   Batch  1600 of 323608. Elapsed: 0:28:23 Loss: 0.1476  Average_Train_Loss: 0.0048\n",
      "   Batch  1640 of 323608. Elapsed: 0:29:06 Loss: 0.1471  Average_Train_Loss: 0.0048\n",
      "   Batch  1680 of 323608. Elapsed: 0:29:49 Loss: 0.1483  Average_Train_Loss: 0.0048\n",
      "   Batch  1720 of 323608. Elapsed: 0:30:31 Loss: 0.1475  Average_Train_Loss: 0.0048\n",
      "   Batch  1760 of 323608. Elapsed: 0:31:14 Loss: 0.1469  Average_Train_Loss: 0.0048\n",
      "   Batch  1800 of 323608. Elapsed: 0:31:56 Loss: 0.1480  Average_Train_Loss: 0.0048\n",
      "   Batch  1840 of 323608. Elapsed: 0:32:39 Loss: 0.1462  Average_Train_Loss: 0.0048\n",
      "   Batch  1880 of 323608. Elapsed: 0:33:21 Loss: 0.1471  Average_Train_Loss: 0.0048\n",
      "   Batch  1920 of 323608. Elapsed: 0:34:04 Loss: 0.1447  Average_Train_Loss: 0.0047\n",
      "   Batch  1960 of 323608. Elapsed: 0:34:46 Loss: 0.1468  Average_Train_Loss: 0.0047\n",
      "   Batch  2000 of 323608. Elapsed: 0:35:29 Loss: 0.1469  Average_Train_Loss: 0.0047\n",
      "   Batch  2040 of 323608. Elapsed: 0:36:12 Loss: 0.1461  Average_Train_Loss: 0.0047\n",
      "   Batch  2080 of 323608. Elapsed: 0:36:54 Loss: 0.1465  Average_Train_Loss: 0.0047\n",
      "   Batch  2120 of 323608. Elapsed: 0:37:37 Loss: 0.1452  Average_Train_Loss: 0.0047\n",
      "   Batch  2160 of 323608. Elapsed: 0:38:19 Loss: 0.1482  Average_Train_Loss: 0.0047\n",
      "   Batch  2200 of 323608. Elapsed: 0:39:02 Loss: 0.1449  Average_Train_Loss: 0.0047\n",
      "   Batch  2240 of 323608. Elapsed: 0:39:45 Loss: 0.1458  Average_Train_Loss: 0.0047\n",
      "   Batch  2280 of 323608. Elapsed: 0:40:27 Loss: 0.1444  Average_Train_Loss: 0.0047\n",
      "   Batch  2320 of 323608. Elapsed: 0:41:10 Loss: 0.1465  Average_Train_Loss: 0.0047\n",
      "   Batch  2360 of 323608. Elapsed: 0:41:52 Loss: 0.1442  Average_Train_Loss: 0.0047\n",
      "   Batch  2400 of 323608. Elapsed: 0:42:35 Loss: 0.1449  Average_Train_Loss: 0.0047\n",
      "   Batch  2440 of 323608. Elapsed: 0:43:17 Loss: 0.1452  Average_Train_Loss: 0.0047\n",
      "   Batch  2480 of 323608. Elapsed: 0:44:00 Loss: 0.1454  Average_Train_Loss: 0.0047\n",
      "   Batch  2520 of 323608. Elapsed: 0:44:42 Loss: 0.1451  Average_Train_Loss: 0.0047\n",
      "   Batch  2560 of 323608. Elapsed: 0:45:25 Loss: 0.1439  Average_Train_Loss: 0.0047\n",
      "   Batch  2600 of 323608. Elapsed: 0:46:08 Loss: 0.1452  Average_Train_Loss: 0.0047\n",
      "   Batch  2640 of 323608. Elapsed: 0:46:50 Loss: 0.1471  Average_Train_Loss: 0.0047\n",
      "   Batch  2680 of 323608. Elapsed: 0:47:33 Loss: 0.1482  Average_Train_Loss: 0.0047\n",
      "   Batch  2720 of 323608. Elapsed: 0:48:15 Loss: 0.1448  Average_Train_Loss: 0.0047\n",
      "   Batch  2760 of 323608. Elapsed: 0:48:58 Loss: 0.1407  Average_Train_Loss: 0.0047\n",
      "   Batch  2800 of 323608. Elapsed: 0:49:40 Loss: 0.1458  Average_Train_Loss: 0.0047\n",
      "   Batch  2840 of 323608. Elapsed: 0:50:23 Loss: 0.1462  Average_Train_Loss: 0.0047\n",
      "   Batch  2880 of 323608. Elapsed: 0:51:05 Loss: 0.1470  Average_Train_Loss: 0.0047\n",
      "   Batch  2920 of 323608. Elapsed: 0:51:48 Loss: 0.1470  Average_Train_Loss: 0.0047\n",
      "   Batch  2960 of 323608. Elapsed: 0:52:31 Loss: 0.1469  Average_Train_Loss: 0.0047\n",
      "   Batch  3000 of 323608. Elapsed: 0:53:13 Loss: 0.1395  Average_Train_Loss: 0.0047\n",
      "   Batch  3040 of 323608. Elapsed: 0:53:56 Loss: 0.1470  Average_Train_Loss: 0.0047\n",
      "   Batch  3080 of 323608. Elapsed: 0:54:38 Loss: 0.1448  Average_Train_Loss: 0.0047\n",
      "   Batch  3120 of 323608. Elapsed: 0:55:21 Loss: 0.1410  Average_Train_Loss: 0.0047\n",
      "   Batch  3160 of 323608. Elapsed: 0:56:03 Loss: 0.1404  Average_Train_Loss: 0.0047\n",
      "   Batch  3200 of 323608. Elapsed: 0:56:46 Loss: 0.1418  Average_Train_Loss: 0.0047\n"
     ]
    }
   ],
   "source": [
    "seed_val = 42\n",
    "\n",
    "random.seed(seed_val)\n",
    "np.random.seed(seed_val)\n",
    "torch.manual_seed(seed_val)\n",
    "torch.cuda.manual_seed_all(seed_val)\n",
    "\n",
    "training_stats = []\n",
    "\n",
    "total_t0 = time.time()\n",
    "\n",
    "for epoch_i in range(0, epochs):\n",
    "    print('')\n",
    "    print('======= EPOCH {:} / {:} ======'.format(epoch_i + 1, epochs))\n",
    "    print('Training...')\n",
    "  \n",
    "    t0 = time.time()\n",
    "    total_train_loss = 0\n",
    "    model.train()\n",
    "  \n",
    "    for step, batch in enumerate(train_dataloader):\n",
    "        if step % 40 == 0 and not step == 0:\n",
    "            elapsed = format_time(time.time() - t0)\n",
    "            #Report progress\n",
    "            print('   Batch {0:>5} of {1:>5}. Elapsed: {2:} Loss: {3:.4f}  Average_Train_Loss: {4:.4f}'.format(step, len(train_data), elapsed, res['loss'], total_train_loss/(batch_size * (step + 1))))\n",
    "      \n",
    "        #batch  contains 3 pytorch tensors: [0] input ids, [1] aattention masks, [2] labels\n",
    "        # print(batch[0].shape)\n",
    "        #print(batch[0])\n",
    "        # print(batch[1].shape)\n",
    "        # print(batch[2].shape)\n",
    "        b_input_ids = batch[0].to(device)\n",
    "        b_input_mask = batch[1].to(device)\n",
    "        b_labels = batch[2].to(device)\n",
    "    \n",
    "        model.zero_grad()\n",
    "        #Forward pass\n",
    "        res = model(b_input_ids, token_type_ids=None, attention_mask=b_input_mask,labels=b_labels.float())\n",
    "        loss = res['loss']\n",
    "        logits = res['logits'] #вероятности классов для батча\n",
    "    \n",
    "        total_train_loss += loss.item()\n",
    "        loss.backward()\n",
    "        #нормы градиентов обрезаем до 1.0, чтобы предотвратить проблему взрывающихся градиентов\n",
    "        torch.nn.utils.clip_grad_norm_(model.parameters(), 1.0)\n",
    "    \n",
    "        optimizer.step() #обновление весов\n",
    "        scheduler.step()\n",
    "    \n",
    "        avg_train_loss = total_train_loss/len(train_dataloader)\n",
    "        train_time = format_time(time.time() - t0)\n",
    "    \n",
    "    print(' Average training loss: {0:.2f}'.format(avg_train_loss))\n",
    "    print(' Training epoch took: {:}'.format(train_time))\n",
    "  \n",
    "  \n",
    "    #Validation\n",
    "    print(\"Running Validation...\")\n",
    "  \n",
    "    t0 = time.time()\n",
    "    model.eval()\n",
    "    total_eval_accuracy = 0\n",
    "    total_eval_loss = 0\n",
    "    nb_eval_steps = 0\n",
    "  \n",
    "    for batch in validation_dataloader:\n",
    "        b_input_ids = batch[0].to(device)\n",
    "        b_input_mask = batch[1].to(device)\n",
    "        b_labels = batch[2].to(device)\n",
    "  \n",
    "        with torch.no_grad():\n",
    "            # Forward pass, calculate logit predictions.\n",
    "            result = model(b_input_ids,\n",
    "                          token_type_ids=None,\n",
    "                          attention_mask=b_input_mask,\n",
    "                          labels=b_labels,\n",
    "                          return_dict=True)\n",
    "        loss = result.loss\n",
    "        logits = result.logits\n",
    "        total_eval_loss += loss.item()\n",
    "        logits = logits.detach().cpu().numpy()\n",
    "        label_ids = b_labels.to('cpu').numpy()\n",
    "        total_eval_accuracy += flat_accuracy(logits, label_ids)\n",
    "  \n",
    "    avg_val_accuracy = total_eval_accuracy / len(validation_dataloader)\n",
    "    print(\"  Accuracy: {0:.2f}\".format(avg_val_accuracy))\n",
    "  \n",
    "    avg_val_loss = total_eval_loss / len(validation_dataloader)\n",
    "    validation_time = format_time(time.time() - t0)\n",
    "  \n",
    "    print(\"  Validation Loss: {0:.2f}\".format(avg_val_loss))\n",
    "    #print(\"  Validation Loss: {0:.2f}\".format(avg_val_loss))\n",
    "    print(\"  Validation took: {:}\".format(validation_time))\n",
    "  \n",
    "    training_stats.append(\n",
    "        {\n",
    "            'epoch': epoch_i + 1,\n",
    "            'Training Loss': avg_train_loss,\n",
    "            'Valid. Loss': avg_val_loss,\n",
    "            'Valid. Accur.': avg_val_accuracy,\n",
    "            'Training Time': train_time,\n",
    "            'Validation Time': validation_time\n",
    "        }\n",
    "    )\n",
    "\n",
    "print(\"\")\n",
    "print(\"Training complete!\")\n",
    "print(\"Total training took {:} (h:mm:ss)\".format(format_time(time.time()-total_t0)))"
   ]
  },
  {
   "cell_type": "code",
   "execution_count": null,
   "metadata": {
    "id": "esFiyHezVyph"
   },
   "outputs": [],
   "source": []
  }
 ],
 "metadata": {
  "colab": {
   "provenance": []
  },
  "kernelspec": {
   "display_name": "fl",
   "language": "python",
   "name": "fl"
  },
  "language_info": {
   "codemirror_mode": {
    "name": "ipython",
    "version": 3
   },
   "file_extension": ".py",
   "mimetype": "text/x-python",
   "name": "python",
   "nbconvert_exporter": "python",
   "pygments_lexer": "ipython3",
   "version": "3.9.7"
  },
  "widgets": {
   "application/vnd.jupyter.widget-state+json": {
    "44b1eae095f54e808903779368c0cbff": {
     "model_module": "@jupyter-widgets/controls",
     "model_module_version": "1.5.0",
     "model_name": "DescriptionStyleModel",
     "state": {
      "_model_module": "@jupyter-widgets/controls",
      "_model_module_version": "1.5.0",
      "_model_name": "DescriptionStyleModel",
      "_view_count": null,
      "_view_module": "@jupyter-widgets/base",
      "_view_module_version": "1.2.0",
      "_view_name": "StyleView",
      "description_width": ""
     }
    },
    "4d6bb3e366fa4242a91dff5e45870046": {
     "model_module": "@jupyter-widgets/base",
     "model_module_version": "1.2.0",
     "model_name": "LayoutModel",
     "state": {
      "_model_module": "@jupyter-widgets/base",
      "_model_module_version": "1.2.0",
      "_model_name": "LayoutModel",
      "_view_count": null,
      "_view_module": "@jupyter-widgets/base",
      "_view_module_version": "1.2.0",
      "_view_name": "LayoutView",
      "align_content": null,
      "align_items": null,
      "align_self": null,
      "border": null,
      "bottom": null,
      "display": null,
      "flex": null,
      "flex_flow": null,
      "grid_area": null,
      "grid_auto_columns": null,
      "grid_auto_flow": null,
      "grid_auto_rows": null,
      "grid_column": null,
      "grid_gap": null,
      "grid_row": null,
      "grid_template_areas": null,
      "grid_template_columns": null,
      "grid_template_rows": null,
      "height": null,
      "justify_content": null,
      "justify_items": null,
      "left": null,
      "margin": null,
      "max_height": null,
      "max_width": null,
      "min_height": null,
      "min_width": null,
      "object_fit": null,
      "object_position": null,
      "order": null,
      "overflow": null,
      "overflow_x": null,
      "overflow_y": null,
      "padding": null,
      "right": null,
      "top": null,
      "visibility": null,
      "width": null
     }
    },
    "612215e00fa444f6b3422636c755ce42": {
     "model_module": "@jupyter-widgets/base",
     "model_module_version": "1.2.0",
     "model_name": "LayoutModel",
     "state": {
      "_model_module": "@jupyter-widgets/base",
      "_model_module_version": "1.2.0",
      "_model_name": "LayoutModel",
      "_view_count": null,
      "_view_module": "@jupyter-widgets/base",
      "_view_module_version": "1.2.0",
      "_view_name": "LayoutView",
      "align_content": null,
      "align_items": null,
      "align_self": null,
      "border": null,
      "bottom": null,
      "display": null,
      "flex": null,
      "flex_flow": null,
      "grid_area": null,
      "grid_auto_columns": null,
      "grid_auto_flow": null,
      "grid_auto_rows": null,
      "grid_column": null,
      "grid_gap": null,
      "grid_row": null,
      "grid_template_areas": null,
      "grid_template_columns": null,
      "grid_template_rows": null,
      "height": null,
      "justify_content": null,
      "justify_items": null,
      "left": null,
      "margin": null,
      "max_height": null,
      "max_width": null,
      "min_height": null,
      "min_width": null,
      "object_fit": null,
      "object_position": null,
      "order": null,
      "overflow": null,
      "overflow_x": null,
      "overflow_y": null,
      "padding": null,
      "right": null,
      "top": null,
      "visibility": null,
      "width": null
     }
    },
    "662330eba9b94b529fa55a8c7c5f32c4": {
     "model_module": "@jupyter-widgets/controls",
     "model_module_version": "1.5.0",
     "model_name": "FloatProgressModel",
     "state": {
      "_dom_classes": [],
      "_model_module": "@jupyter-widgets/controls",
      "_model_module_version": "1.5.0",
      "_model_name": "FloatProgressModel",
      "_view_count": null,
      "_view_module": "@jupyter-widgets/controls",
      "_view_module_version": "1.5.0",
      "_view_name": "ProgressView",
      "bar_style": "success",
      "description": "",
      "description_tooltip": null,
      "layout": "IPY_MODEL_d89bce46fa6b45f7856f4f5166c7f8f2",
      "max": 114511,
      "min": 0,
      "orientation": "horizontal",
      "style": "IPY_MODEL_fccb2c47521141798bbbee8edcb0f8e4",
      "value": 114511
     }
    },
    "6e5abb1a66b34cd7b5b1e55c34c154ef": {
     "model_module": "@jupyter-widgets/controls",
     "model_module_version": "1.5.0",
     "model_name": "DescriptionStyleModel",
     "state": {
      "_model_module": "@jupyter-widgets/controls",
      "_model_module_version": "1.5.0",
      "_model_name": "DescriptionStyleModel",
      "_view_count": null,
      "_view_module": "@jupyter-widgets/base",
      "_view_module_version": "1.2.0",
      "_view_name": "StyleView",
      "description_width": ""
     }
    },
    "964c311df65640c2b9d7a32808166cc2": {
     "model_module": "@jupyter-widgets/controls",
     "model_module_version": "1.5.0",
     "model_name": "HBoxModel",
     "state": {
      "_dom_classes": [],
      "_model_module": "@jupyter-widgets/controls",
      "_model_module_version": "1.5.0",
      "_model_name": "HBoxModel",
      "_view_count": null,
      "_view_module": "@jupyter-widgets/controls",
      "_view_module_version": "1.5.0",
      "_view_name": "HBoxView",
      "box_style": "",
      "children": [
       "IPY_MODEL_b1fb4e955a924f2e95443362706d5504",
       "IPY_MODEL_662330eba9b94b529fa55a8c7c5f32c4",
       "IPY_MODEL_a93131183a0d46b7820d8f6bf8c1fb4d"
      ],
      "layout": "IPY_MODEL_612215e00fa444f6b3422636c755ce42"
     }
    },
    "a93131183a0d46b7820d8f6bf8c1fb4d": {
     "model_module": "@jupyter-widgets/controls",
     "model_module_version": "1.5.0",
     "model_name": "HTMLModel",
     "state": {
      "_dom_classes": [],
      "_model_module": "@jupyter-widgets/controls",
      "_model_module_version": "1.5.0",
      "_model_name": "HTMLModel",
      "_view_count": null,
      "_view_module": "@jupyter-widgets/controls",
      "_view_module_version": "1.5.0",
      "_view_name": "HTMLView",
      "description": "",
      "description_tooltip": null,
      "layout": "IPY_MODEL_4d6bb3e366fa4242a91dff5e45870046",
      "placeholder": "​",
      "style": "IPY_MODEL_44b1eae095f54e808903779368c0cbff",
      "value": " 114511/114511 [01:32&lt;00:00, 1044.99it/s]"
     }
    },
    "b1fb4e955a924f2e95443362706d5504": {
     "model_module": "@jupyter-widgets/controls",
     "model_module_version": "1.5.0",
     "model_name": "HTMLModel",
     "state": {
      "_dom_classes": [],
      "_model_module": "@jupyter-widgets/controls",
      "_model_module_version": "1.5.0",
      "_model_name": "HTMLModel",
      "_view_count": null,
      "_view_module": "@jupyter-widgets/controls",
      "_view_module_version": "1.5.0",
      "_view_name": "HTMLView",
      "description": "",
      "description_tooltip": null,
      "layout": "IPY_MODEL_ce04ca5d58334f51841c08d031929015",
      "placeholder": "​",
      "style": "IPY_MODEL_6e5abb1a66b34cd7b5b1e55c34c154ef",
      "value": "100%"
     }
    },
    "ce04ca5d58334f51841c08d031929015": {
     "model_module": "@jupyter-widgets/base",
     "model_module_version": "1.2.0",
     "model_name": "LayoutModel",
     "state": {
      "_model_module": "@jupyter-widgets/base",
      "_model_module_version": "1.2.0",
      "_model_name": "LayoutModel",
      "_view_count": null,
      "_view_module": "@jupyter-widgets/base",
      "_view_module_version": "1.2.0",
      "_view_name": "LayoutView",
      "align_content": null,
      "align_items": null,
      "align_self": null,
      "border": null,
      "bottom": null,
      "display": null,
      "flex": null,
      "flex_flow": null,
      "grid_area": null,
      "grid_auto_columns": null,
      "grid_auto_flow": null,
      "grid_auto_rows": null,
      "grid_column": null,
      "grid_gap": null,
      "grid_row": null,
      "grid_template_areas": null,
      "grid_template_columns": null,
      "grid_template_rows": null,
      "height": null,
      "justify_content": null,
      "justify_items": null,
      "left": null,
      "margin": null,
      "max_height": null,
      "max_width": null,
      "min_height": null,
      "min_width": null,
      "object_fit": null,
      "object_position": null,
      "order": null,
      "overflow": null,
      "overflow_x": null,
      "overflow_y": null,
      "padding": null,
      "right": null,
      "top": null,
      "visibility": null,
      "width": null
     }
    },
    "d89bce46fa6b45f7856f4f5166c7f8f2": {
     "model_module": "@jupyter-widgets/base",
     "model_module_version": "1.2.0",
     "model_name": "LayoutModel",
     "state": {
      "_model_module": "@jupyter-widgets/base",
      "_model_module_version": "1.2.0",
      "_model_name": "LayoutModel",
      "_view_count": null,
      "_view_module": "@jupyter-widgets/base",
      "_view_module_version": "1.2.0",
      "_view_name": "LayoutView",
      "align_content": null,
      "align_items": null,
      "align_self": null,
      "border": null,
      "bottom": null,
      "display": null,
      "flex": null,
      "flex_flow": null,
      "grid_area": null,
      "grid_auto_columns": null,
      "grid_auto_flow": null,
      "grid_auto_rows": null,
      "grid_column": null,
      "grid_gap": null,
      "grid_row": null,
      "grid_template_areas": null,
      "grid_template_columns": null,
      "grid_template_rows": null,
      "height": null,
      "justify_content": null,
      "justify_items": null,
      "left": null,
      "margin": null,
      "max_height": null,
      "max_width": null,
      "min_height": null,
      "min_width": null,
      "object_fit": null,
      "object_position": null,
      "order": null,
      "overflow": null,
      "overflow_x": null,
      "overflow_y": null,
      "padding": null,
      "right": null,
      "top": null,
      "visibility": null,
      "width": null
     }
    },
    "fccb2c47521141798bbbee8edcb0f8e4": {
     "model_module": "@jupyter-widgets/controls",
     "model_module_version": "1.5.0",
     "model_name": "ProgressStyleModel",
     "state": {
      "_model_module": "@jupyter-widgets/controls",
      "_model_module_version": "1.5.0",
      "_model_name": "ProgressStyleModel",
      "_view_count": null,
      "_view_module": "@jupyter-widgets/base",
      "_view_module_version": "1.2.0",
      "_view_name": "StyleView",
      "bar_color": null,
      "description_width": ""
     }
    }
   }
  }
 },
 "nbformat": 4,
 "nbformat_minor": 4
}
